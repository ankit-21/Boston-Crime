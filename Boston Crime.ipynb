{
 "cells": [
  {
   "cell_type": "code",
   "execution_count": 1,
   "metadata": {},
   "outputs": [],
   "source": [
    "import pandas as pd\n",
    "import numpy as np\n",
    "import scipy.stats as stats\n",
    "import matplotlib\n",
    "import matplotlib.pyplot as plt\n",
    "import seaborn as sns\n",
    "from seaborn import distplot\n",
    "from sklearn.linear_model import LinearRegression\n",
    "from sklearn import linear_model\n",
    "%matplotlib inline \n",
    "from sklearn.datasets import make_friedman1\n",
    "from sklearn.preprocessing import PolynomialFeatures\n",
    "from sklearn.linear_model import Ridge\n",
    "from sklearn.linear_model import Lasso\n",
    "from statistics import median\n",
    "import statsmodels.api as sm\n",
    "from sklearn.model_selection import cross_val_score"
   ]
  },
  {
   "cell_type": "code",
   "execution_count": 2,
   "metadata": {},
   "outputs": [],
   "source": [
    "from sklearn.datasets import load_boston\n",
    "boston = load_boston()"
   ]
  },
  {
   "cell_type": "code",
   "execution_count": 3,
   "metadata": {},
   "outputs": [
    {
     "data": {
      "text/html": [
       "<div>\n",
       "<style scoped>\n",
       "    .dataframe tbody tr th:only-of-type {\n",
       "        vertical-align: middle;\n",
       "    }\n",
       "\n",
       "    .dataframe tbody tr th {\n",
       "        vertical-align: top;\n",
       "    }\n",
       "\n",
       "    .dataframe thead th {\n",
       "        text-align: right;\n",
       "    }\n",
       "</style>\n",
       "<table border=\"1\" class=\"dataframe\">\n",
       "  <thead>\n",
       "    <tr style=\"text-align: right;\">\n",
       "      <th></th>\n",
       "      <th>CRIM</th>\n",
       "      <th>ZN</th>\n",
       "      <th>INDUS</th>\n",
       "      <th>CHAS</th>\n",
       "      <th>NOX</th>\n",
       "      <th>RM</th>\n",
       "      <th>AGE</th>\n",
       "      <th>DIS</th>\n",
       "      <th>RAD</th>\n",
       "      <th>TAX</th>\n",
       "      <th>PTRATIO</th>\n",
       "      <th>B</th>\n",
       "      <th>LSTAT</th>\n",
       "    </tr>\n",
       "  </thead>\n",
       "  <tbody>\n",
       "    <tr>\n",
       "      <th>0</th>\n",
       "      <td>0.00632</td>\n",
       "      <td>18.0</td>\n",
       "      <td>2.31</td>\n",
       "      <td>0.0</td>\n",
       "      <td>0.538</td>\n",
       "      <td>6.575</td>\n",
       "      <td>65.2</td>\n",
       "      <td>4.0900</td>\n",
       "      <td>1.0</td>\n",
       "      <td>296.0</td>\n",
       "      <td>15.3</td>\n",
       "      <td>396.90</td>\n",
       "      <td>4.98</td>\n",
       "    </tr>\n",
       "    <tr>\n",
       "      <th>1</th>\n",
       "      <td>0.02731</td>\n",
       "      <td>0.0</td>\n",
       "      <td>7.07</td>\n",
       "      <td>0.0</td>\n",
       "      <td>0.469</td>\n",
       "      <td>6.421</td>\n",
       "      <td>78.9</td>\n",
       "      <td>4.9671</td>\n",
       "      <td>2.0</td>\n",
       "      <td>242.0</td>\n",
       "      <td>17.8</td>\n",
       "      <td>396.90</td>\n",
       "      <td>9.14</td>\n",
       "    </tr>\n",
       "    <tr>\n",
       "      <th>2</th>\n",
       "      <td>0.02729</td>\n",
       "      <td>0.0</td>\n",
       "      <td>7.07</td>\n",
       "      <td>0.0</td>\n",
       "      <td>0.469</td>\n",
       "      <td>7.185</td>\n",
       "      <td>61.1</td>\n",
       "      <td>4.9671</td>\n",
       "      <td>2.0</td>\n",
       "      <td>242.0</td>\n",
       "      <td>17.8</td>\n",
       "      <td>392.83</td>\n",
       "      <td>4.03</td>\n",
       "    </tr>\n",
       "    <tr>\n",
       "      <th>3</th>\n",
       "      <td>0.03237</td>\n",
       "      <td>0.0</td>\n",
       "      <td>2.18</td>\n",
       "      <td>0.0</td>\n",
       "      <td>0.458</td>\n",
       "      <td>6.998</td>\n",
       "      <td>45.8</td>\n",
       "      <td>6.0622</td>\n",
       "      <td>3.0</td>\n",
       "      <td>222.0</td>\n",
       "      <td>18.7</td>\n",
       "      <td>394.63</td>\n",
       "      <td>2.94</td>\n",
       "    </tr>\n",
       "    <tr>\n",
       "      <th>4</th>\n",
       "      <td>0.06905</td>\n",
       "      <td>0.0</td>\n",
       "      <td>2.18</td>\n",
       "      <td>0.0</td>\n",
       "      <td>0.458</td>\n",
       "      <td>7.147</td>\n",
       "      <td>54.2</td>\n",
       "      <td>6.0622</td>\n",
       "      <td>3.0</td>\n",
       "      <td>222.0</td>\n",
       "      <td>18.7</td>\n",
       "      <td>396.90</td>\n",
       "      <td>5.33</td>\n",
       "    </tr>\n",
       "  </tbody>\n",
       "</table>\n",
       "</div>"
      ],
      "text/plain": [
       "      CRIM    ZN  INDUS  CHAS    NOX     RM   AGE     DIS  RAD    TAX  \\\n",
       "0  0.00632  18.0   2.31   0.0  0.538  6.575  65.2  4.0900  1.0  296.0   \n",
       "1  0.02731   0.0   7.07   0.0  0.469  6.421  78.9  4.9671  2.0  242.0   \n",
       "2  0.02729   0.0   7.07   0.0  0.469  7.185  61.1  4.9671  2.0  242.0   \n",
       "3  0.03237   0.0   2.18   0.0  0.458  6.998  45.8  6.0622  3.0  222.0   \n",
       "4  0.06905   0.0   2.18   0.0  0.458  7.147  54.2  6.0622  3.0  222.0   \n",
       "\n",
       "   PTRATIO       B  LSTAT  \n",
       "0     15.3  396.90   4.98  \n",
       "1     17.8  396.90   9.14  \n",
       "2     17.8  392.83   4.03  \n",
       "3     18.7  394.63   2.94  \n",
       "4     18.7  396.90   5.33  "
      ]
     },
     "execution_count": 3,
     "metadata": {},
     "output_type": "execute_result"
    }
   ],
   "source": [
    "Boston = pd.DataFrame(boston.data, columns=boston.feature_names)\n",
    "Boston.head()"
   ]
  },
  {
   "cell_type": "code",
   "execution_count": 4,
   "metadata": {},
   "outputs": [
    {
     "data": {
      "text/plain": [
       "CRIM       0\n",
       "ZN         0\n",
       "INDUS      0\n",
       "CHAS       0\n",
       "NOX        0\n",
       "RM         0\n",
       "AGE        0\n",
       "DIS        0\n",
       "RAD        0\n",
       "TAX        0\n",
       "PTRATIO    0\n",
       "B          0\n",
       "LSTAT      0\n",
       "dtype: int64"
      ]
     },
     "execution_count": 4,
     "metadata": {},
     "output_type": "execute_result"
    }
   ],
   "source": [
    "Boston.isnull().sum() #To_check_the_missing_values_in_the_dataset"
   ]
  },
  {
   "cell_type": "code",
   "execution_count": 5,
   "metadata": {},
   "outputs": [
    {
     "data": {
      "image/png": "[encoded data removed]",
      "text/plain": [
       "<Figure size 432x288 with 1 Axes>"
      ]
     },
     "metadata": {
      "needs_background": "light"
     },
     "output_type": "display_data"
    }
   ],
   "source": [
    "sns.distplot(Boston['CRIM'], bins=30)\n",
    "plt.show()"
   ]
  },
  {
   "cell_type": "code",
   "execution_count": 6,
   "metadata": {},
   "outputs": [
    {
     "data": {
      "text/html": [
       "<div>\n",
       "<style scoped>\n",
       "    .dataframe tbody tr th:only-of-type {\n",
       "        vertical-align: middle;\n",
       "    }\n",
       "\n",
       "    .dataframe tbody tr th {\n",
       "        vertical-align: top;\n",
       "    }\n",
       "\n",
       "    .dataframe thead th {\n",
       "        text-align: right;\n",
       "    }\n",
       "</style>\n",
       "<table border=\"1\" class=\"dataframe\">\n",
       "  <thead>\n",
       "    <tr style=\"text-align: right;\">\n",
       "      <th></th>\n",
       "      <th>CRIM</th>\n",
       "      <th>ZN</th>\n",
       "      <th>INDUS</th>\n",
       "      <th>CHAS</th>\n",
       "      <th>NOX</th>\n",
       "      <th>RM</th>\n",
       "      <th>AGE</th>\n",
       "      <th>DIS</th>\n",
       "      <th>RAD</th>\n",
       "      <th>TAX</th>\n",
       "      <th>PTRATIO</th>\n",
       "      <th>B</th>\n",
       "      <th>LSTAT</th>\n",
       "    </tr>\n",
       "  </thead>\n",
       "  <tbody>\n",
       "    <tr>\n",
       "      <th>CRIM</th>\n",
       "      <td>1.000000</td>\n",
       "      <td>-0.200469</td>\n",
       "      <td>0.406583</td>\n",
       "      <td>-0.055892</td>\n",
       "      <td>0.420972</td>\n",
       "      <td>-0.219247</td>\n",
       "      <td>0.352734</td>\n",
       "      <td>-0.379670</td>\n",
       "      <td>0.625505</td>\n",
       "      <td>0.582764</td>\n",
       "      <td>0.289946</td>\n",
       "      <td>-0.385064</td>\n",
       "      <td>0.455621</td>\n",
       "    </tr>\n",
       "    <tr>\n",
       "      <th>ZN</th>\n",
       "      <td>-0.200469</td>\n",
       "      <td>1.000000</td>\n",
       "      <td>-0.533828</td>\n",
       "      <td>-0.042697</td>\n",
       "      <td>-0.516604</td>\n",
       "      <td>0.311991</td>\n",
       "      <td>-0.569537</td>\n",
       "      <td>0.664408</td>\n",
       "      <td>-0.311948</td>\n",
       "      <td>-0.314563</td>\n",
       "      <td>-0.391679</td>\n",
       "      <td>0.175520</td>\n",
       "      <td>-0.412995</td>\n",
       "    </tr>\n",
       "    <tr>\n",
       "      <th>INDUS</th>\n",
       "      <td>0.406583</td>\n",
       "      <td>-0.533828</td>\n",
       "      <td>1.000000</td>\n",
       "      <td>0.062938</td>\n",
       "      <td>0.763651</td>\n",
       "      <td>-0.391676</td>\n",
       "      <td>0.644779</td>\n",
       "      <td>-0.708027</td>\n",
       "      <td>0.595129</td>\n",
       "      <td>0.720760</td>\n",
       "      <td>0.383248</td>\n",
       "      <td>-0.356977</td>\n",
       "      <td>0.603800</td>\n",
       "    </tr>\n",
       "    <tr>\n",
       "      <th>CHAS</th>\n",
       "      <td>-0.055892</td>\n",
       "      <td>-0.042697</td>\n",
       "      <td>0.062938</td>\n",
       "      <td>1.000000</td>\n",
       "      <td>0.091203</td>\n",
       "      <td>0.091251</td>\n",
       "      <td>0.086518</td>\n",
       "      <td>-0.099176</td>\n",
       "      <td>-0.007368</td>\n",
       "      <td>-0.035587</td>\n",
       "      <td>-0.121515</td>\n",
       "      <td>0.048788</td>\n",
       "      <td>-0.053929</td>\n",
       "    </tr>\n",
       "    <tr>\n",
       "      <th>NOX</th>\n",
       "      <td>0.420972</td>\n",
       "      <td>-0.516604</td>\n",
       "      <td>0.763651</td>\n",
       "      <td>0.091203</td>\n",
       "      <td>1.000000</td>\n",
       "      <td>-0.302188</td>\n",
       "      <td>0.731470</td>\n",
       "      <td>-0.769230</td>\n",
       "      <td>0.611441</td>\n",
       "      <td>0.668023</td>\n",
       "      <td>0.188933</td>\n",
       "      <td>-0.380051</td>\n",
       "      <td>0.590879</td>\n",
       "    </tr>\n",
       "    <tr>\n",
       "      <th>RM</th>\n",
       "      <td>-0.219247</td>\n",
       "      <td>0.311991</td>\n",
       "      <td>-0.391676</td>\n",
       "      <td>0.091251</td>\n",
       "      <td>-0.302188</td>\n",
       "      <td>1.000000</td>\n",
       "      <td>-0.240265</td>\n",
       "      <td>0.205246</td>\n",
       "      <td>-0.209847</td>\n",
       "      <td>-0.292048</td>\n",
       "      <td>-0.355501</td>\n",
       "      <td>0.128069</td>\n",
       "      <td>-0.613808</td>\n",
       "    </tr>\n",
       "    <tr>\n",
       "      <th>AGE</th>\n",
       "      <td>0.352734</td>\n",
       "      <td>-0.569537</td>\n",
       "      <td>0.644779</td>\n",
       "      <td>0.086518</td>\n",
       "      <td>0.731470</td>\n",
       "      <td>-0.240265</td>\n",
       "      <td>1.000000</td>\n",
       "      <td>-0.747881</td>\n",
       "      <td>0.456022</td>\n",
       "      <td>0.506456</td>\n",
       "      <td>0.261515</td>\n",
       "      <td>-0.273534</td>\n",
       "      <td>0.602339</td>\n",
       "    </tr>\n",
       "    <tr>\n",
       "      <th>DIS</th>\n",
       "      <td>-0.379670</td>\n",
       "      <td>0.664408</td>\n",
       "      <td>-0.708027</td>\n",
       "      <td>-0.099176</td>\n",
       "      <td>-0.769230</td>\n",
       "      <td>0.205246</td>\n",
       "      <td>-0.747881</td>\n",
       "      <td>1.000000</td>\n",
       "      <td>-0.494588</td>\n",
       "      <td>-0.534432</td>\n",
       "      <td>-0.232471</td>\n",
       "      <td>0.291512</td>\n",
       "      <td>-0.496996</td>\n",
       "    </tr>\n",
       "    <tr>\n",
       "      <th>RAD</th>\n",
       "      <td>0.625505</td>\n",
       "      <td>-0.311948</td>\n",
       "      <td>0.595129</td>\n",
       "      <td>-0.007368</td>\n",
       "      <td>0.611441</td>\n",
       "      <td>-0.209847</td>\n",
       "      <td>0.456022</td>\n",
       "      <td>-0.494588</td>\n",
       "      <td>1.000000</td>\n",
       "      <td>0.910228</td>\n",
       "      <td>0.464741</td>\n",
       "      <td>-0.444413</td>\n",
       "      <td>0.488676</td>\n",
       "    </tr>\n",
       "    <tr>\n",
       "      <th>TAX</th>\n",
       "      <td>0.582764</td>\n",
       "      <td>-0.314563</td>\n",
       "      <td>0.720760</td>\n",
       "      <td>-0.035587</td>\n",
       "      <td>0.668023</td>\n",
       "      <td>-0.292048</td>\n",
       "      <td>0.506456</td>\n",
       "      <td>-0.534432</td>\n",
       "      <td>0.910228</td>\n",
       "      <td>1.000000</td>\n",
       "      <td>0.460853</td>\n",
       "      <td>-0.441808</td>\n",
       "      <td>0.543993</td>\n",
       "    </tr>\n",
       "    <tr>\n",
       "      <th>PTRATIO</th>\n",
       "      <td>0.289946</td>\n",
       "      <td>-0.391679</td>\n",
       "      <td>0.383248</td>\n",
       "      <td>-0.121515</td>\n",
       "      <td>0.188933</td>\n",
       "      <td>-0.355501</td>\n",
       "      <td>0.261515</td>\n",
       "      <td>-0.232471</td>\n",
       "      <td>0.464741</td>\n",
       "      <td>0.460853</td>\n",
       "      <td>1.000000</td>\n",
       "      <td>-0.177383</td>\n",
       "      <td>0.374044</td>\n",
       "    </tr>\n",
       "    <tr>\n",
       "      <th>B</th>\n",
       "      <td>-0.385064</td>\n",
       "      <td>0.175520</td>\n",
       "      <td>-0.356977</td>\n",
       "      <td>0.048788</td>\n",
       "      <td>-0.380051</td>\n",
       "      <td>0.128069</td>\n",
       "      <td>-0.273534</td>\n",
       "      <td>0.291512</td>\n",
       "      <td>-0.444413</td>\n",
       "      <td>-0.441808</td>\n",
       "      <td>-0.177383</td>\n",
       "      <td>1.000000</td>\n",
       "      <td>-0.366087</td>\n",
       "    </tr>\n",
       "    <tr>\n",
       "      <th>LSTAT</th>\n",
       "      <td>0.455621</td>\n",
       "      <td>-0.412995</td>\n",
       "      <td>0.603800</td>\n",
       "      <td>-0.053929</td>\n",
       "      <td>0.590879</td>\n",
       "      <td>-0.613808</td>\n",
       "      <td>0.602339</td>\n",
       "      <td>-0.496996</td>\n",
       "      <td>0.488676</td>\n",
       "      <td>0.543993</td>\n",
       "      <td>0.374044</td>\n",
       "      <td>-0.366087</td>\n",
       "      <td>1.000000</td>\n",
       "    </tr>\n",
       "  </tbody>\n",
       "</table>\n",
       "</div>"
      ],
      "text/plain": [
       "             CRIM        ZN     INDUS      CHAS       NOX        RM       AGE  \\\n",
       "CRIM     1.000000 -0.200469  0.406583 -0.055892  0.420972 -0.219247  0.352734   \n",
       "ZN      -0.200469  1.000000 -0.533828 -0.042697 -0.516604  0.311991 -0.569537   \n",
       "INDUS    0.406583 -0.533828  1.000000  0.062938  0.763651 -0.391676  0.644779   \n",
       "CHAS    -0.055892 -0.042697  0.062938  1.000000  0.091203  0.091251  0.086518   \n",
       "NOX      0.420972 -0.516604  0.763651  0.091203  1.000000 -0.302188  0.731470   \n",
       "RM      -0.219247  0.311991 -0.391676  0.091251 -0.302188  1.000000 -0.240265   \n",
       "AGE      0.352734 -0.569537  0.644779  0.086518  0.731470 -0.240265  1.000000   \n",
       "DIS     -0.379670  0.664408 -0.708027 -0.099176 -0.769230  0.205246 -0.747881   \n",
       "RAD      0.625505 -0.311948  0.595129 -0.007368  0.611441 -0.209847  0.456022   \n",
       "TAX      0.582764 -0.314563  0.720760 -0.035587  0.668023 -0.292048  0.506456   \n",
       "PTRATIO  0.289946 -0.391679  0.383248 -0.121515  0.188933 -0.355501  0.261515   \n",
       "B       -0.385064  0.175520 -0.356977  0.048788 -0.380051  0.128069 -0.273534   \n",
       "LSTAT    0.455621 -0.412995  0.603800 -0.053929  0.590879 -0.613808  0.602339   \n",
       "\n",
       "              DIS       RAD       TAX   PTRATIO         B     LSTAT  \n",
       "CRIM    -0.379670  0.625505  0.582764  0.289946 -0.385064  0.455621  \n",
       "ZN       0.664408 -0.311948 -0.314563 -0.391679  0.175520 -0.412995  \n",
       "INDUS   -0.708027  0.595129  0.720760  0.383248 -0.356977  0.603800  \n",
       "CHAS    -0.099176 -0.007368 -0.035587 -0.121515  0.048788 -0.053929  \n",
       "NOX     -0.769230  0.611441  0.668023  0.188933 -0.380051  0.590879  \n",
       "RM       0.205246 -0.209847 -0.292048 -0.355501  0.128069 -0.613808  \n",
       "AGE     -0.747881  0.456022  0.506456  0.261515 -0.273534  0.602339  \n",
       "DIS      1.000000 -0.494588 -0.534432 -0.232471  0.291512 -0.496996  \n",
       "RAD     -0.494588  1.000000  0.910228  0.464741 -0.444413  0.488676  \n",
       "TAX     -0.534432  0.910228  1.000000  0.460853 -0.441808  0.543993  \n",
       "PTRATIO -0.232471  0.464741  0.460853  1.000000 -0.177383  0.374044  \n",
       "B        0.291512 -0.444413 -0.441808 -0.177383  1.000000 -0.366087  \n",
       "LSTAT   -0.496996  0.488676  0.543993  0.374044 -0.366087  1.000000  "
      ]
     },
     "execution_count": 6,
     "metadata": {},
     "output_type": "execute_result"
    }
   ],
   "source": [
    "x=Boston[['CRIM', 'ZN', 'INDUS', 'CHAS', 'NOX', 'RM', 'AGE', 'DIS', 'RAD','TAX', 'PTRATIO', 'B', 'LSTAT']]  #correlation_matrix\n",
    "corr = x.corr()\n",
    "corr"
   ]
  },
  {
   "cell_type": "code",
   "execution_count": 7,
   "metadata": {},
   "outputs": [],
   "source": [
    "X = pd.DataFrame(np.c_[Boston['ZN']], columns = ['ZN'])\n",
    "Y = Boston['CRIM']"
   ]
  },
  {
   "cell_type": "code",
   "execution_count": 8,
   "metadata": {},
   "outputs": [
    {
     "data": {
      "text/plain": [
       "LinearRegression(copy_X=True, fit_intercept=True, n_jobs=None, normalize=False)"
      ]
     },
     "execution_count": 8,
     "metadata": {},
     "output_type": "execute_result"
    }
   ],
   "source": [
    "linreg1 = LinearRegression()\n",
    "linreg1.fit(X,Y)"
   ]
  },
  {
   "cell_type": "code",
   "execution_count": 9,
   "metadata": {},
   "outputs": [
    {
     "name": "stdout",
     "output_type": "stream",
     "text": [
      "linear model coeff (w): [-0.07393498]\n",
      "linear model intercept (b): 4.454\n",
      "R-squared score (training): 0.040\n"
     ]
    }
   ],
   "source": [
    "print('linear model coeff (w): {}'\n",
    "     .format(linreg1.coef_))\n",
    "print('linear model intercept (b): {:.3f}'\n",
    "     .format(linreg1.intercept_))\n",
    "print('R-squared score (training): {:.3f}'\n",
    "     .format(linreg1.score(X,Y)))"
   ]
  },
  {
   "cell_type": "code",
   "execution_count": 10,
   "metadata": {},
   "outputs": [
    {
     "data": {
      "text/html": [
       "<table class=\"simpletable\">\n",
       "<caption>OLS Regression Results</caption>\n",
       "<tr>\n",
       "  <th>Dep. Variable:</th>            <td>y</td>        <th>  R-squared:         </th> <td>   0.040</td>\n",
       "</tr>\n",
       "<tr>\n",
       "  <th>Model:</th>                   <td>OLS</td>       <th>  Adj. R-squared:    </th> <td>   0.038</td>\n",
       "</tr>\n",
       "<tr>\n",
       "  <th>Method:</th>             <td>Least Squares</td>  <th>  F-statistic:       </th> <td>   21.10</td>\n",
       "</tr>\n",
       "<tr>\n",
       "  <th>Date:</th>             <td>Sat, 18 Apr 2020</td> <th>  Prob (F-statistic):</th> <td>5.51e-06</td>\n",
       "</tr>\n",
       "<tr>\n",
       "  <th>Time:</th>                 <td>18:28:06</td>     <th>  Log-Likelihood:    </th> <td> -1796.0</td>\n",
       "</tr>\n",
       "<tr>\n",
       "  <th>No. Observations:</th>      <td>   506</td>      <th>  AIC:               </th> <td>   3596.</td>\n",
       "</tr>\n",
       "<tr>\n",
       "  <th>Df Residuals:</th>          <td>   504</td>      <th>  BIC:               </th> <td>   3604.</td>\n",
       "</tr>\n",
       "<tr>\n",
       "  <th>Df Model:</th>              <td>     1</td>      <th>                     </th>     <td> </td>   \n",
       "</tr>\n",
       "<tr>\n",
       "  <th>Covariance Type:</th>      <td>nonrobust</td>    <th>                     </th>     <td> </td>   \n",
       "</tr>\n",
       "</table>\n",
       "<table class=\"simpletable\">\n",
       "<tr>\n",
       "    <td></td>       <th>coef</th>     <th>std err</th>      <th>t</th>      <th>P>|t|</th>  <th>[0.025</th>    <th>0.975]</th>  \n",
       "</tr>\n",
       "<tr>\n",
       "  <th>const</th> <td>    4.4537</td> <td>    0.417</td> <td>   10.675</td> <td> 0.000</td> <td>    3.634</td> <td>    5.273</td>\n",
       "</tr>\n",
       "<tr>\n",
       "  <th>x1</th>    <td>   -0.0739</td> <td>    0.016</td> <td>   -4.594</td> <td> 0.000</td> <td>   -0.106</td> <td>   -0.042</td>\n",
       "</tr>\n",
       "</table>\n",
       "<table class=\"simpletable\">\n",
       "<tr>\n",
       "  <th>Omnibus:</th>       <td>567.443</td> <th>  Durbin-Watson:     </th> <td>   0.857</td> \n",
       "</tr>\n",
       "<tr>\n",
       "  <th>Prob(Omnibus):</th> <td> 0.000</td>  <th>  Jarque-Bera (JB):  </th> <td>32753.004</td>\n",
       "</tr>\n",
       "<tr>\n",
       "  <th>Skew:</th>          <td> 5.257</td>  <th>  Prob(JB):          </th> <td>    0.00</td> \n",
       "</tr>\n",
       "<tr>\n",
       "  <th>Kurtosis:</th>      <td>40.986</td>  <th>  Cond. No.          </th> <td>    28.8</td> \n",
       "</tr>\n",
       "</table><br/><br/>Warnings:<br/>[1] Standard Errors assume that the covariance matrix of the errors is correctly specified."
      ],
      "text/plain": [
       "<class 'statsmodels.iolib.summary.Summary'>\n",
       "\"\"\"\n",
       "                            OLS Regression Results                            \n",
       "==============================================================================\n",
       "Dep. Variable:                      y   R-squared:                       0.040\n",
       "Model:                            OLS   Adj. R-squared:                  0.038\n",
       "Method:                 Least Squares   F-statistic:                     21.10\n",
       "Date:                Sat, 18 Apr 2020   Prob (F-statistic):           5.51e-06\n",
       "Time:                        18:28:06   Log-Likelihood:                -1796.0\n",
       "No. Observations:                 506   AIC:                             3596.\n",
       "Df Residuals:                     504   BIC:                             3604.\n",
       "Df Model:                           1                                         \n",
       "Covariance Type:            nonrobust                                         \n",
       "==============================================================================\n",
       "                 coef    std err          t      P>|t|      [0.025      0.975]\n",
       "------------------------------------------------------------------------------\n",
       "const          4.4537      0.417     10.675      0.000       3.634       5.273\n",
       "x1            -0.0739      0.016     -4.594      0.000      -0.106      -0.042\n",
       "==============================================================================\n",
       "Omnibus:                      567.443   Durbin-Watson:                   0.857\n",
       "Prob(Omnibus):                  0.000   Jarque-Bera (JB):            32753.004\n",
       "Skew:                           5.257   Prob(JB):                         0.00\n",
       "Kurtosis:                      40.986   Cond. No.                         28.8\n",
       "==============================================================================\n",
       "\n",
       "Warnings:\n",
       "[1] Standard Errors assume that the covariance matrix of the errors is correctly specified.\n",
       "\"\"\""
      ]
     },
     "execution_count": 10,
     "metadata": {},
     "output_type": "execute_result"
    }
   ],
   "source": [
    "x = pd.DataFrame(np.c_[Boston['ZN']], columns = ['ZN'])\n",
    "Y = Boston['CRIM']\n",
    "X = x.iloc[:].values\n",
    "y = Y.iloc[:].values\n",
    "X_with_const=sm.add_constant(X)\n",
    "model=sm.OLS(endog=y,exog=X_with_const)\n",
    "results=model.fit()\n",
    "results.summary()"
   ]
  },
  {
   "cell_type": "code",
   "execution_count": 11,
   "metadata": {},
   "outputs": [
    {
     "data": {
      "text/plain": [
       "[<matplotlib.lines.Line2D at 0x23bea3c2c50>]"
      ]
     },
     "execution_count": 11,
     "metadata": {},
     "output_type": "execute_result"
    },
    {
     "data": {
      "image/png": "[encoded data removed]",
      "text/plain": [
       "<Figure size 1440x360 with 1 Axes>"
      ]
     },
     "metadata": {
      "needs_background": "light"
     },
     "output_type": "display_data"
    }
   ],
   "source": [
    "plt.figure(figsize=(20, 5))\n",
    "\n",
    "features = ['ZN']\n",
    "target = Boston['CRIM']\n",
    "\n",
    "for i, col in enumerate(features):\n",
    "    plt.subplot(1, len(features) , i+1)\n",
    "x = Boston[col]\n",
    "y = target\n",
    "plt.scatter(x, y, marker='o')\n",
    "plt.title('Crime vs ZN')\n",
    "plt.xlabel(col)\n",
    "plt.ylabel('CRIM')\n",
    "plt.plot(X, linreg1.coef_ * X + linreg1.intercept_, 'r-')"
   ]
  },
  {
   "cell_type": "code",
   "execution_count": 12,
   "metadata": {},
   "outputs": [],
   "source": [
    "poly = PolynomialFeatures(degree=3)\n",
    "X_poly = poly.fit_transform(X)"
   ]
  },
  {
   "cell_type": "code",
   "execution_count": 13,
   "metadata": {},
   "outputs": [
    {
     "name": "stdout",
     "output_type": "stream",
     "text": [
      "(poly deg 3) linear model coeff (w):\n",
      "[ 0.00000000e+00 -3.32188415e-01  6.48263365e-03 -3.77579253e-05]\n",
      "(poly deg 3) linear model intercept (b): 4.846\n",
      "(poly deg 3) R-squared score (training): 0.058\n"
     ]
    }
   ],
   "source": [
    "linreg = LinearRegression().fit(X_poly, Y)\n",
    "\n",
    "print('(poly deg 3) linear model coeff (w):\\n{}'\n",
    "     .format(linreg.coef_))\n",
    "print('(poly deg 3) linear model intercept (b): {:.3f}'\n",
    "     .format(linreg.intercept_))\n",
    "print('(poly deg 3) R-squared score (training): {:.3f}'\n",
    "     .format(linreg.score(X_poly, Y)))"
   ]
  },
  {
   "cell_type": "code",
   "execution_count": 14,
   "metadata": {},
   "outputs": [
    {
     "data": {
      "text/html": [
       "<table class=\"simpletable\">\n",
       "<caption>OLS Regression Results</caption>\n",
       "<tr>\n",
       "  <th>Dep. Variable:</th>            <td>y</td>        <th>  R-squared:         </th> <td>   0.058</td>\n",
       "</tr>\n",
       "<tr>\n",
       "  <th>Model:</th>                   <td>OLS</td>       <th>  Adj. R-squared:    </th> <td>   0.053</td>\n",
       "</tr>\n",
       "<tr>\n",
       "  <th>Method:</th>             <td>Least Squares</td>  <th>  F-statistic:       </th> <td>   10.35</td>\n",
       "</tr>\n",
       "<tr>\n",
       "  <th>Date:</th>             <td>Sat, 18 Apr 2020</td> <th>  Prob (F-statistic):</th> <td>1.28e-06</td>\n",
       "</tr>\n",
       "<tr>\n",
       "  <th>Time:</th>                 <td>18:28:07</td>     <th>  Log-Likelihood:    </th> <td> -1791.2</td>\n",
       "</tr>\n",
       "<tr>\n",
       "  <th>No. Observations:</th>      <td>   506</td>      <th>  AIC:               </th> <td>   3590.</td>\n",
       "</tr>\n",
       "<tr>\n",
       "  <th>Df Residuals:</th>          <td>   502</td>      <th>  BIC:               </th> <td>   3607.</td>\n",
       "</tr>\n",
       "<tr>\n",
       "  <th>Df Model:</th>              <td>     3</td>      <th>                     </th>     <td> </td>   \n",
       "</tr>\n",
       "<tr>\n",
       "  <th>Covariance Type:</th>      <td>nonrobust</td>    <th>                     </th>     <td> </td>   \n",
       "</tr>\n",
       "</table>\n",
       "<table class=\"simpletable\">\n",
       "<tr>\n",
       "    <td></td>       <th>coef</th>     <th>std err</th>      <th>t</th>      <th>P>|t|</th>  <th>[0.025</th>    <th>0.975]</th>  \n",
       "</tr>\n",
       "<tr>\n",
       "  <th>const</th> <td>    4.8461</td> <td>    0.433</td> <td>   11.192</td> <td> 0.000</td> <td>    3.995</td> <td>    5.697</td>\n",
       "</tr>\n",
       "<tr>\n",
       "  <th>x1</th>    <td>   -0.3322</td> <td>    0.110</td> <td>   -3.025</td> <td> 0.003</td> <td>   -0.548</td> <td>   -0.116</td>\n",
       "</tr>\n",
       "<tr>\n",
       "  <th>x2</th>    <td>    0.0065</td> <td>    0.004</td> <td>    1.679</td> <td> 0.094</td> <td>   -0.001</td> <td>    0.014</td>\n",
       "</tr>\n",
       "<tr>\n",
       "  <th>x3</th>    <td>-3.776e-05</td> <td> 3.14e-05</td> <td>   -1.203</td> <td> 0.230</td> <td>-9.94e-05</td> <td> 2.39e-05</td>\n",
       "</tr>\n",
       "</table>\n",
       "<table class=\"simpletable\">\n",
       "<tr>\n",
       "  <th>Omnibus:</th>       <td>569.133</td> <th>  Durbin-Watson:     </th> <td>   0.875</td> \n",
       "</tr>\n",
       "<tr>\n",
       "  <th>Prob(Omnibus):</th> <td> 0.000</td>  <th>  Jarque-Bera (JB):  </th> <td>33700.991</td>\n",
       "</tr>\n",
       "<tr>\n",
       "  <th>Skew:</th>          <td> 5.272</td>  <th>  Prob(JB):          </th> <td>    0.00</td> \n",
       "</tr>\n",
       "<tr>\n",
       "  <th>Kurtosis:</th>      <td>41.565</td>  <th>  Cond. No.          </th> <td>1.89e+05</td> \n",
       "</tr>\n",
       "</table><br/><br/>Warnings:<br/>[1] Standard Errors assume that the covariance matrix of the errors is correctly specified.<br/>[2] The condition number is large, 1.89e+05. This might indicate that there are<br/>strong multicollinearity or other numerical problems."
      ],
      "text/plain": [
       "<class 'statsmodels.iolib.summary.Summary'>\n",
       "\"\"\"\n",
       "                            OLS Regression Results                            \n",
       "==============================================================================\n",
       "Dep. Variable:                      y   R-squared:                       0.058\n",
       "Model:                            OLS   Adj. R-squared:                  0.053\n",
       "Method:                 Least Squares   F-statistic:                     10.35\n",
       "Date:                Sat, 18 Apr 2020   Prob (F-statistic):           1.28e-06\n",
       "Time:                        18:28:07   Log-Likelihood:                -1791.2\n",
       "No. Observations:                 506   AIC:                             3590.\n",
       "Df Residuals:                     502   BIC:                             3607.\n",
       "Df Model:                           3                                         \n",
       "Covariance Type:            nonrobust                                         \n",
       "==============================================================================\n",
       "                 coef    std err          t      P>|t|      [0.025      0.975]\n",
       "------------------------------------------------------------------------------\n",
       "const          4.8461      0.433     11.192      0.000       3.995       5.697\n",
       "x1            -0.3322      0.110     -3.025      0.003      -0.548      -0.116\n",
       "x2             0.0065      0.004      1.679      0.094      -0.001       0.014\n",
       "x3         -3.776e-05   3.14e-05     -1.203      0.230   -9.94e-05    2.39e-05\n",
       "==============================================================================\n",
       "Omnibus:                      569.133   Durbin-Watson:                   0.875\n",
       "Prob(Omnibus):                  0.000   Jarque-Bera (JB):            33700.991\n",
       "Skew:                           5.272   Prob(JB):                         0.00\n",
       "Kurtosis:                      41.565   Cond. No.                     1.89e+05\n",
       "==============================================================================\n",
       "\n",
       "Warnings:\n",
       "[1] Standard Errors assume that the covariance matrix of the errors is correctly specified.\n",
       "[2] The condition number is large, 1.89e+05. This might indicate that there are\n",
       "strong multicollinearity or other numerical problems.\n",
       "\"\"\""
      ]
     },
     "execution_count": 14,
     "metadata": {},
     "output_type": "execute_result"
    }
   ],
   "source": [
    "X_dataset=pd.DataFrame(np.c_[Boston['ZN']], columns = ['ZN'])\n",
    "y_dataset=Boston['CRIM']\n",
    "X=X_dataset.iloc[:].values\n",
    "y=y_dataset.iloc[:].values\n",
    "import statsmodels.api as sm\n",
    "poly = PolynomialFeatures(degree=3)\n",
    "X_F1_poly = poly.fit_transform(X_dataset)\n",
    "X_with_const=sm.add_constant(X_poly)\n",
    "model=sm.OLS(endog=y,exog=X_with_const)\n",
    "results=model.fit()\n",
    "results.summary()"
   ]
  },
  {
   "cell_type": "code",
   "execution_count": 15,
   "metadata": {},
   "outputs": [
    {
     "data": {
      "text/plain": [
       "LinearRegression(copy_X=True, fit_intercept=True, n_jobs=None, normalize=False)"
      ]
     },
     "execution_count": 15,
     "metadata": {},
     "output_type": "execute_result"
    }
   ],
   "source": [
    "X = pd.DataFrame(np.c_[Boston['INDUS']], columns = ['INDUS'])\n",
    "Y = Boston['CRIM']\n",
    "linreg2 = LinearRegression()\n",
    "linreg2.fit(X,Y)"
   ]
  },
  {
   "cell_type": "code",
   "execution_count": 16,
   "metadata": {},
   "outputs": [
    {
     "name": "stdout",
     "output_type": "stream",
     "text": [
      "linear model coeff (w): [0.50977633]\n",
      "linear model intercept (b): -2.064\n",
      "R-squared score (training): 0.165\n"
     ]
    }
   ],
   "source": [
    "print('linear model coeff (w): {}'\n",
    "     .format(linreg2.coef_))\n",
    "print('linear model intercept (b): {:.3f}'\n",
    "     .format(linreg2.intercept_))\n",
    "print('R-squared score (training): {:.3f}'\n",
    "     .format(linreg2.score(X,Y)))"
   ]
  },
  {
   "cell_type": "code",
   "execution_count": 17,
   "metadata": {},
   "outputs": [
    {
     "data": {
      "text/html": [
       "<table class=\"simpletable\">\n",
       "<caption>OLS Regression Results</caption>\n",
       "<tr>\n",
       "  <th>Dep. Variable:</th>            <td>y</td>        <th>  R-squared:         </th> <td>   0.165</td>\n",
       "</tr>\n",
       "<tr>\n",
       "  <th>Model:</th>                   <td>OLS</td>       <th>  Adj. R-squared:    </th> <td>   0.164</td>\n",
       "</tr>\n",
       "<tr>\n",
       "  <th>Method:</th>             <td>Least Squares</td>  <th>  F-statistic:       </th> <td>   99.82</td>\n",
       "</tr>\n",
       "<tr>\n",
       "  <th>Date:</th>             <td>Sat, 18 Apr 2020</td> <th>  Prob (F-statistic):</th> <td>1.45e-21</td>\n",
       "</tr>\n",
       "<tr>\n",
       "  <th>Time:</th>                 <td>18:28:07</td>     <th>  Log-Likelihood:    </th> <td> -1760.6</td>\n",
       "</tr>\n",
       "<tr>\n",
       "  <th>No. Observations:</th>      <td>   506</td>      <th>  AIC:               </th> <td>   3525.</td>\n",
       "</tr>\n",
       "<tr>\n",
       "  <th>Df Residuals:</th>          <td>   504</td>      <th>  BIC:               </th> <td>   3534.</td>\n",
       "</tr>\n",
       "<tr>\n",
       "  <th>Df Model:</th>              <td>     1</td>      <th>                     </th>     <td> </td>   \n",
       "</tr>\n",
       "<tr>\n",
       "  <th>Covariance Type:</th>      <td>nonrobust</td>    <th>                     </th>     <td> </td>   \n",
       "</tr>\n",
       "</table>\n",
       "<table class=\"simpletable\">\n",
       "<tr>\n",
       "    <td></td>       <th>coef</th>     <th>std err</th>      <th>t</th>      <th>P>|t|</th>  <th>[0.025</th>    <th>0.975]</th>  \n",
       "</tr>\n",
       "<tr>\n",
       "  <th>const</th> <td>   -2.0637</td> <td>    0.667</td> <td>   -3.093</td> <td> 0.002</td> <td>   -3.375</td> <td>   -0.753</td>\n",
       "</tr>\n",
       "<tr>\n",
       "  <th>x1</th>    <td>    0.5098</td> <td>    0.051</td> <td>    9.991</td> <td> 0.000</td> <td>    0.410</td> <td>    0.610</td>\n",
       "</tr>\n",
       "</table>\n",
       "<table class=\"simpletable\">\n",
       "<tr>\n",
       "  <th>Omnibus:</th>       <td>585.118</td> <th>  Durbin-Watson:     </th> <td>   0.986</td> \n",
       "</tr>\n",
       "<tr>\n",
       "  <th>Prob(Omnibus):</th> <td> 0.000</td>  <th>  Jarque-Bera (JB):  </th> <td>41418.938</td>\n",
       "</tr>\n",
       "<tr>\n",
       "  <th>Skew:</th>          <td> 5.449</td>  <th>  Prob(JB):          </th> <td>    0.00</td> \n",
       "</tr>\n",
       "<tr>\n",
       "  <th>Kurtosis:</th>      <td>45.962</td>  <th>  Cond. No.          </th> <td>    25.1</td> \n",
       "</tr>\n",
       "</table><br/><br/>Warnings:<br/>[1] Standard Errors assume that the covariance matrix of the errors is correctly specified."
      ],
      "text/plain": [
       "<class 'statsmodels.iolib.summary.Summary'>\n",
       "\"\"\"\n",
       "                            OLS Regression Results                            \n",
       "==============================================================================\n",
       "Dep. Variable:                      y   R-squared:                       0.165\n",
       "Model:                            OLS   Adj. R-squared:                  0.164\n",
       "Method:                 Least Squares   F-statistic:                     99.82\n",
       "Date:                Sat, 18 Apr 2020   Prob (F-statistic):           1.45e-21\n",
       "Time:                        18:28:07   Log-Likelihood:                -1760.6\n",
       "No. Observations:                 506   AIC:                             3525.\n",
       "Df Residuals:                     504   BIC:                             3534.\n",
       "Df Model:                           1                                         \n",
       "Covariance Type:            nonrobust                                         \n",
       "==============================================================================\n",
       "                 coef    std err          t      P>|t|      [0.025      0.975]\n",
       "------------------------------------------------------------------------------\n",
       "const         -2.0637      0.667     -3.093      0.002      -3.375      -0.753\n",
       "x1             0.5098      0.051      9.991      0.000       0.410       0.610\n",
       "==============================================================================\n",
       "Omnibus:                      585.118   Durbin-Watson:                   0.986\n",
       "Prob(Omnibus):                  0.000   Jarque-Bera (JB):            41418.938\n",
       "Skew:                           5.449   Prob(JB):                         0.00\n",
       "Kurtosis:                      45.962   Cond. No.                         25.1\n",
       "==============================================================================\n",
       "\n",
       "Warnings:\n",
       "[1] Standard Errors assume that the covariance matrix of the errors is correctly specified.\n",
       "\"\"\""
      ]
     },
     "execution_count": 17,
     "metadata": {},
     "output_type": "execute_result"
    }
   ],
   "source": [
    "x = pd.DataFrame(np.c_[Boston['INDUS']], columns = ['INDUS'])\n",
    "Y = Boston['CRIM']\n",
    "X = x.iloc[:].values\n",
    "y = Y.iloc[:].values\n",
    "X_with_const=sm.add_constant(X)\n",
    "model=sm.OLS(endog=y,exog=X_with_const)\n",
    "results=model.fit()\n",
    "results.summary()"
   ]
  },
  {
   "cell_type": "code",
   "execution_count": 18,
   "metadata": {},
   "outputs": [
    {
     "data": {
      "text/plain": [
       "[<matplotlib.lines.Line2D at 0x23bea88cb70>]"
      ]
     },
     "execution_count": 18,
     "metadata": {},
     "output_type": "execute_result"
    },
    {
     "data": {
      "image/png": "[encoded data removed]",
      "text/plain": [
       "<Figure size 1440x360 with 1 Axes>"
      ]
     },
     "metadata": {
      "needs_background": "light"
     },
     "output_type": "display_data"
    }
   ],
   "source": [
    "plt.figure(figsize=(20, 5))\n",
    "\n",
    "features = ['INDUS']\n",
    "target = Boston['CRIM']\n",
    "\n",
    "for i, col in enumerate(features):\n",
    "    plt.subplot(1, len(features) , i+1)\n",
    "x = Boston[col]\n",
    "y = target\n",
    "plt.scatter(x, y, marker='o')\n",
    "plt.title('Crime vs Indus')\n",
    "plt.xlabel(col)\n",
    "plt.ylabel('CRIM')\n",
    "plt.plot(X, linreg2.coef_ * X + linreg2.intercept_, 'r-')"
   ]
  },
  {
   "cell_type": "code",
   "execution_count": 19,
   "metadata": {},
   "outputs": [],
   "source": [
    "poly = PolynomialFeatures(degree=3)\n",
    "X_poly = poly.fit_transform(X)"
   ]
  },
  {
   "cell_type": "code",
   "execution_count": 20,
   "metadata": {},
   "outputs": [
    {
     "name": "stdout",
     "output_type": "stream",
     "text": [
      "(poly deg 3) linear model coeff (w):\n",
      "[ 0.         -1.96521293  0.2519373  -0.00697601]\n",
      "(poly deg 3) linear model intercept (b): 3.663\n",
      "(poly deg 3) R-squared score (training): 0.260\n"
     ]
    }
   ],
   "source": [
    "linreg = LinearRegression().fit(X_poly, Y)\n",
    "\n",
    "print('(poly deg 3) linear model coeff (w):\\n{}'\n",
    "     .format(linreg.coef_))\n",
    "print('(poly deg 3) linear model intercept (b): {:.3f}'\n",
    "     .format(linreg.intercept_))\n",
    "print('(poly deg 3) R-squared score (training): {:.3f}'\n",
    "     .format(linreg.score(X_poly, Y)))"
   ]
  },
  {
   "cell_type": "code",
   "execution_count": 21,
   "metadata": {},
   "outputs": [
    {
     "data": {
      "text/html": [
       "<table class=\"simpletable\">\n",
       "<caption>OLS Regression Results</caption>\n",
       "<tr>\n",
       "  <th>Dep. Variable:</th>            <td>y</td>        <th>  R-squared:         </th> <td>   0.260</td>\n",
       "</tr>\n",
       "<tr>\n",
       "  <th>Model:</th>                   <td>OLS</td>       <th>  Adj. R-squared:    </th> <td>   0.255</td>\n",
       "</tr>\n",
       "<tr>\n",
       "  <th>Method:</th>             <td>Least Squares</td>  <th>  F-statistic:       </th> <td>   58.69</td>\n",
       "</tr>\n",
       "<tr>\n",
       "  <th>Date:</th>             <td>Sat, 18 Apr 2020</td> <th>  Prob (F-statistic):</th> <td>1.55e-32</td>\n",
       "</tr>\n",
       "<tr>\n",
       "  <th>Time:</th>                 <td>18:28:08</td>     <th>  Log-Likelihood:    </th> <td> -1730.3</td>\n",
       "</tr>\n",
       "<tr>\n",
       "  <th>No. Observations:</th>      <td>   506</td>      <th>  AIC:               </th> <td>   3469.</td>\n",
       "</tr>\n",
       "<tr>\n",
       "  <th>Df Residuals:</th>          <td>   502</td>      <th>  BIC:               </th> <td>   3486.</td>\n",
       "</tr>\n",
       "<tr>\n",
       "  <th>Df Model:</th>              <td>     3</td>      <th>                     </th>     <td> </td>   \n",
       "</tr>\n",
       "<tr>\n",
       "  <th>Covariance Type:</th>      <td>nonrobust</td>    <th>                     </th>     <td> </td>   \n",
       "</tr>\n",
       "</table>\n",
       "<table class=\"simpletable\">\n",
       "<tr>\n",
       "    <td></td>       <th>coef</th>     <th>std err</th>      <th>t</th>      <th>P>|t|</th>  <th>[0.025</th>    <th>0.975]</th>  \n",
       "</tr>\n",
       "<tr>\n",
       "  <th>const</th> <td>    3.6626</td> <td>    1.574</td> <td>    2.327</td> <td> 0.020</td> <td>    0.570</td> <td>    6.755</td>\n",
       "</tr>\n",
       "<tr>\n",
       "  <th>x1</th>    <td>   -1.9652</td> <td>    0.482</td> <td>   -4.077</td> <td> 0.000</td> <td>   -2.912</td> <td>   -1.018</td>\n",
       "</tr>\n",
       "<tr>\n",
       "  <th>x2</th>    <td>    0.2519</td> <td>    0.039</td> <td>    6.407</td> <td> 0.000</td> <td>    0.175</td> <td>    0.329</td>\n",
       "</tr>\n",
       "<tr>\n",
       "  <th>x3</th>    <td>   -0.0070</td> <td>    0.001</td> <td>   -7.292</td> <td> 0.000</td> <td>   -0.009</td> <td>   -0.005</td>\n",
       "</tr>\n",
       "</table>\n",
       "<table class=\"simpletable\">\n",
       "<tr>\n",
       "  <th>Omnibus:</th>       <td>611.788</td> <th>  Durbin-Watson:     </th> <td>   1.116</td> \n",
       "</tr>\n",
       "<tr>\n",
       "  <th>Prob(Omnibus):</th> <td> 0.000</td>  <th>  Jarque-Bera (JB):  </th> <td>51742.286</td>\n",
       "</tr>\n",
       "<tr>\n",
       "  <th>Skew:</th>          <td> 5.820</td>  <th>  Prob(JB):          </th> <td>    0.00</td> \n",
       "</tr>\n",
       "<tr>\n",
       "  <th>Kurtosis:</th>      <td>51.153</td>  <th>  Cond. No.          </th> <td>2.47e+04</td> \n",
       "</tr>\n",
       "</table><br/><br/>Warnings:<br/>[1] Standard Errors assume that the covariance matrix of the errors is correctly specified.<br/>[2] The condition number is large, 2.47e+04. This might indicate that there are<br/>strong multicollinearity or other numerical problems."
      ],
      "text/plain": [
       "<class 'statsmodels.iolib.summary.Summary'>\n",
       "\"\"\"\n",
       "                            OLS Regression Results                            \n",
       "==============================================================================\n",
       "Dep. Variable:                      y   R-squared:                       0.260\n",
       "Model:                            OLS   Adj. R-squared:                  0.255\n",
       "Method:                 Least Squares   F-statistic:                     58.69\n",
       "Date:                Sat, 18 Apr 2020   Prob (F-statistic):           1.55e-32\n",
       "Time:                        18:28:08   Log-Likelihood:                -1730.3\n",
       "No. Observations:                 506   AIC:                             3469.\n",
       "Df Residuals:                     502   BIC:                             3486.\n",
       "Df Model:                           3                                         \n",
       "Covariance Type:            nonrobust                                         \n",
       "==============================================================================\n",
       "                 coef    std err          t      P>|t|      [0.025      0.975]\n",
       "------------------------------------------------------------------------------\n",
       "const          3.6626      1.574      2.327      0.020       0.570       6.755\n",
       "x1            -1.9652      0.482     -4.077      0.000      -2.912      -1.018\n",
       "x2             0.2519      0.039      6.407      0.000       0.175       0.329\n",
       "x3            -0.0070      0.001     -7.292      0.000      -0.009      -0.005\n",
       "==============================================================================\n",
       "Omnibus:                      611.788   Durbin-Watson:                   1.116\n",
       "Prob(Omnibus):                  0.000   Jarque-Bera (JB):            51742.286\n",
       "Skew:                           5.820   Prob(JB):                         0.00\n",
       "Kurtosis:                      51.153   Cond. No.                     2.47e+04\n",
       "==============================================================================\n",
       "\n",
       "Warnings:\n",
       "[1] Standard Errors assume that the covariance matrix of the errors is correctly specified.\n",
       "[2] The condition number is large, 2.47e+04. This might indicate that there are\n",
       "strong multicollinearity or other numerical problems.\n",
       "\"\"\""
      ]
     },
     "execution_count": 21,
     "metadata": {},
     "output_type": "execute_result"
    }
   ],
   "source": [
    "X_dataset=pd.DataFrame(np.c_[Boston['INDUS']], columns = ['INDUS'])\n",
    "y_dataset=Boston['CRIM']\n",
    "X=X_dataset.iloc[:].values\n",
    "y=y_dataset.iloc[:].values\n",
    "import statsmodels.api as sm\n",
    "poly = PolynomialFeatures(degree=3)\n",
    "X_F1_poly = poly.fit_transform(X_dataset)\n",
    "X_with_const=sm.add_constant(X_poly)\n",
    "model=sm.OLS(endog=y,exog=X_with_const)\n",
    "results=model.fit()\n",
    "results.summary()"
   ]
  },
  {
   "cell_type": "code",
   "execution_count": 22,
   "metadata": {},
   "outputs": [
    {
     "data": {
      "text/plain": [
       "LinearRegression(copy_X=True, fit_intercept=True, n_jobs=None, normalize=False)"
      ]
     },
     "execution_count": 22,
     "metadata": {},
     "output_type": "execute_result"
    }
   ],
   "source": [
    "X = pd.DataFrame(np.c_[Boston['CHAS']], columns = ['CHAS'])\n",
    "Y = Boston['CRIM']\n",
    "linreg3 = LinearRegression()\n",
    "linreg3.fit(X,Y)"
   ]
  },
  {
   "cell_type": "code",
   "execution_count": 23,
   "metadata": {},
   "outputs": [
    {
     "name": "stdout",
     "output_type": "stream",
     "text": [
      "linear model coeff (w): [-1.89277655]\n",
      "linear model intercept (b): 3.744\n",
      "R-squared score (training): 0.003\n"
     ]
    }
   ],
   "source": [
    "print('linear model coeff (w): {}'\n",
    "     .format(linreg3.coef_))\n",
    "print('linear model intercept (b): {:.3f}'\n",
    "     .format(linreg3.intercept_))\n",
    "print('R-squared score (training): {:.3f}'\n",
    "     .format(linreg3.score(X,Y)))"
   ]
  },
  {
   "cell_type": "code",
   "execution_count": 24,
   "metadata": {},
   "outputs": [
    {
     "data": {
      "text/html": [
       "<table class=\"simpletable\">\n",
       "<caption>OLS Regression Results</caption>\n",
       "<tr>\n",
       "  <th>Dep. Variable:</th>            <td>y</td>        <th>  R-squared:         </th> <td>   0.003</td>\n",
       "</tr>\n",
       "<tr>\n",
       "  <th>Model:</th>                   <td>OLS</td>       <th>  Adj. R-squared:    </th> <td>   0.001</td>\n",
       "</tr>\n",
       "<tr>\n",
       "  <th>Method:</th>             <td>Least Squares</td>  <th>  F-statistic:       </th> <td>   1.579</td>\n",
       "</tr>\n",
       "<tr>\n",
       "  <th>Date:</th>             <td>Sat, 18 Apr 2020</td> <th>  Prob (F-statistic):</th>  <td> 0.209</td> \n",
       "</tr>\n",
       "<tr>\n",
       "  <th>Time:</th>                 <td>18:28:08</td>     <th>  Log-Likelihood:    </th> <td> -1805.6</td>\n",
       "</tr>\n",
       "<tr>\n",
       "  <th>No. Observations:</th>      <td>   506</td>      <th>  AIC:               </th> <td>   3615.</td>\n",
       "</tr>\n",
       "<tr>\n",
       "  <th>Df Residuals:</th>          <td>   504</td>      <th>  BIC:               </th> <td>   3624.</td>\n",
       "</tr>\n",
       "<tr>\n",
       "  <th>Df Model:</th>              <td>     1</td>      <th>                     </th>     <td> </td>   \n",
       "</tr>\n",
       "<tr>\n",
       "  <th>Covariance Type:</th>      <td>nonrobust</td>    <th>                     </th>     <td> </td>   \n",
       "</tr>\n",
       "</table>\n",
       "<table class=\"simpletable\">\n",
       "<tr>\n",
       "    <td></td>       <th>coef</th>     <th>std err</th>      <th>t</th>      <th>P>|t|</th>  <th>[0.025</th>    <th>0.975]</th>  \n",
       "</tr>\n",
       "<tr>\n",
       "  <th>const</th> <td>    3.7444</td> <td>    0.396</td> <td>    9.453</td> <td> 0.000</td> <td>    2.966</td> <td>    4.523</td>\n",
       "</tr>\n",
       "<tr>\n",
       "  <th>x1</th>    <td>   -1.8928</td> <td>    1.506</td> <td>   -1.257</td> <td> 0.209</td> <td>   -4.852</td> <td>    1.066</td>\n",
       "</tr>\n",
       "</table>\n",
       "<table class=\"simpletable\">\n",
       "<tr>\n",
       "  <th>Omnibus:</th>       <td>561.663</td> <th>  Durbin-Watson:     </th> <td>   0.817</td> \n",
       "</tr>\n",
       "<tr>\n",
       "  <th>Prob(Omnibus):</th> <td> 0.000</td>  <th>  Jarque-Bera (JB):  </th> <td>30645.429</td>\n",
       "</tr>\n",
       "<tr>\n",
       "  <th>Skew:</th>          <td> 5.191</td>  <th>  Prob(JB):          </th> <td>    0.00</td> \n",
       "</tr>\n",
       "<tr>\n",
       "  <th>Kurtosis:</th>      <td>39.685</td>  <th>  Cond. No.          </th> <td>    3.96</td> \n",
       "</tr>\n",
       "</table><br/><br/>Warnings:<br/>[1] Standard Errors assume that the covariance matrix of the errors is correctly specified."
      ],
      "text/plain": [
       "<class 'statsmodels.iolib.summary.Summary'>\n",
       "\"\"\"\n",
       "                            OLS Regression Results                            \n",
       "==============================================================================\n",
       "Dep. Variable:                      y   R-squared:                       0.003\n",
       "Model:                            OLS   Adj. R-squared:                  0.001\n",
       "Method:                 Least Squares   F-statistic:                     1.579\n",
       "Date:                Sat, 18 Apr 2020   Prob (F-statistic):              0.209\n",
       "Time:                        18:28:08   Log-Likelihood:                -1805.6\n",
       "No. Observations:                 506   AIC:                             3615.\n",
       "Df Residuals:                     504   BIC:                             3624.\n",
       "Df Model:                           1                                         \n",
       "Covariance Type:            nonrobust                                         \n",
       "==============================================================================\n",
       "                 coef    std err          t      P>|t|      [0.025      0.975]\n",
       "------------------------------------------------------------------------------\n",
       "const          3.7444      0.396      9.453      0.000       2.966       4.523\n",
       "x1            -1.8928      1.506     -1.257      0.209      -4.852       1.066\n",
       "==============================================================================\n",
       "Omnibus:                      561.663   Durbin-Watson:                   0.817\n",
       "Prob(Omnibus):                  0.000   Jarque-Bera (JB):            30645.429\n",
       "Skew:                           5.191   Prob(JB):                         0.00\n",
       "Kurtosis:                      39.685   Cond. No.                         3.96\n",
       "==============================================================================\n",
       "\n",
       "Warnings:\n",
       "[1] Standard Errors assume that the covariance matrix of the errors is correctly specified.\n",
       "\"\"\""
      ]
     },
     "execution_count": 24,
     "metadata": {},
     "output_type": "execute_result"
    }
   ],
   "source": [
    "x = pd.DataFrame(np.c_[Boston['CHAS']], columns = ['CHAS'])\n",
    "Y = Boston['CRIM']\n",
    "X = x.iloc[:].values\n",
    "y = Y.iloc[:].values\n",
    "X_with_const=sm.add_constant(X)\n",
    "model=sm.OLS(endog=y,exog=X_with_const)\n",
    "results=model.fit()\n",
    "results.summary()"
   ]
  },
  {
   "cell_type": "code",
   "execution_count": 25,
   "metadata": {},
   "outputs": [
    {
     "data": {
      "text/plain": [
       "[<matplotlib.lines.Line2D at 0x23beb5289b0>]"
      ]
     },
     "execution_count": 25,
     "metadata": {},
     "output_type": "execute_result"
    },
    {
     "data": {
      "image/png": "[encoded data removed]",
      "text/plain": [
       "<Figure size 1440x360 with 1 Axes>"
      ]
     },
     "metadata": {
      "needs_background": "light"
     },
     "output_type": "display_data"
    }
   ],
   "source": [
    "plt.figure(figsize=(20, 5))\n",
    "\n",
    "features = ['CHAS']\n",
    "target = Boston['CRIM']\n",
    "for i, col in enumerate(features):\n",
    "    plt.subplot(1, len(features) , i+1)\n",
    "x = Boston[col]\n",
    "y = target\n",
    "plt.scatter(x, y, marker='o')\n",
    "plt.title('Crime vs Chas')\n",
    "plt.xlabel(col)\n",
    "plt.ylabel('CRIM')\n",
    "plt.plot(X, linreg3.coef_ * X + linreg3.intercept_, 'r-')"
   ]
  },
  {
   "cell_type": "code",
   "execution_count": 26,
   "metadata": {},
   "outputs": [
    {
     "name": "stdout",
     "output_type": "stream",
     "text": [
      "(poly deg 3) linear model coeff (w):\n",
      "[ 0.         -0.63092552 -0.63092552 -0.63092552]\n",
      "(poly deg 3) linear model intercept (b): 3.744\n",
      "(poly deg 3) R-squared score (training): 0.003\n"
     ]
    }
   ],
   "source": [
    "poly = PolynomialFeatures(degree=3)\n",
    "X_poly = poly.fit_transform(X)\n",
    "linreg = LinearRegression().fit(X_poly, Y)\n",
    "\n",
    "print('(poly deg 3) linear model coeff (w):\\n{}'\n",
    "     .format(linreg.coef_))\n",
    "print('(poly deg 3) linear model intercept (b): {:.3f}'\n",
    "     .format(linreg.intercept_))\n",
    "print('(poly deg 3) R-squared score (training): {:.3f}'\n",
    "     .format(linreg.score(X_poly, Y)))"
   ]
  },
  {
   "cell_type": "code",
   "execution_count": 27,
   "metadata": {},
   "outputs": [
    {
     "data": {
      "text/html": [
       "<table class=\"simpletable\">\n",
       "<caption>OLS Regression Results</caption>\n",
       "<tr>\n",
       "  <th>Dep. Variable:</th>            <td>y</td>        <th>  R-squared:         </th> <td>   0.003</td>\n",
       "</tr>\n",
       "<tr>\n",
       "  <th>Model:</th>                   <td>OLS</td>       <th>  Adj. R-squared:    </th> <td>   0.001</td>\n",
       "</tr>\n",
       "<tr>\n",
       "  <th>Method:</th>             <td>Least Squares</td>  <th>  F-statistic:       </th> <td>   1.579</td>\n",
       "</tr>\n",
       "<tr>\n",
       "  <th>Date:</th>             <td>Sat, 18 Apr 2020</td> <th>  Prob (F-statistic):</th>  <td> 0.209</td> \n",
       "</tr>\n",
       "<tr>\n",
       "  <th>Time:</th>                 <td>18:28:08</td>     <th>  Log-Likelihood:    </th> <td> -1805.6</td>\n",
       "</tr>\n",
       "<tr>\n",
       "  <th>No. Observations:</th>      <td>   506</td>      <th>  AIC:               </th> <td>   3615.</td>\n",
       "</tr>\n",
       "<tr>\n",
       "  <th>Df Residuals:</th>          <td>   504</td>      <th>  BIC:               </th> <td>   3624.</td>\n",
       "</tr>\n",
       "<tr>\n",
       "  <th>Df Model:</th>              <td>     1</td>      <th>                     </th>     <td> </td>   \n",
       "</tr>\n",
       "<tr>\n",
       "  <th>Covariance Type:</th>      <td>nonrobust</td>    <th>                     </th>     <td> </td>   \n",
       "</tr>\n",
       "</table>\n",
       "<table class=\"simpletable\">\n",
       "<tr>\n",
       "    <td></td>       <th>coef</th>     <th>std err</th>      <th>t</th>      <th>P>|t|</th>  <th>[0.025</th>    <th>0.975]</th>  \n",
       "</tr>\n",
       "<tr>\n",
       "  <th>const</th> <td>    3.7444</td> <td>    0.396</td> <td>    9.453</td> <td> 0.000</td> <td>    2.966</td> <td>    4.523</td>\n",
       "</tr>\n",
       "<tr>\n",
       "  <th>x1</th>    <td>   -0.6309</td> <td>    0.502</td> <td>   -1.257</td> <td> 0.209</td> <td>   -1.617</td> <td>    0.355</td>\n",
       "</tr>\n",
       "<tr>\n",
       "  <th>x2</th>    <td>   -0.6309</td> <td>    0.502</td> <td>   -1.257</td> <td> 0.209</td> <td>   -1.617</td> <td>    0.355</td>\n",
       "</tr>\n",
       "<tr>\n",
       "  <th>x3</th>    <td>   -0.6309</td> <td>    0.502</td> <td>   -1.257</td> <td> 0.209</td> <td>   -1.617</td> <td>    0.355</td>\n",
       "</tr>\n",
       "</table>\n",
       "<table class=\"simpletable\">\n",
       "<tr>\n",
       "  <th>Omnibus:</th>       <td>561.663</td> <th>  Durbin-Watson:     </th> <td>   0.817</td> \n",
       "</tr>\n",
       "<tr>\n",
       "  <th>Prob(Omnibus):</th> <td> 0.000</td>  <th>  Jarque-Bera (JB):  </th> <td>30645.429</td>\n",
       "</tr>\n",
       "<tr>\n",
       "  <th>Skew:</th>          <td> 5.191</td>  <th>  Prob(JB):          </th> <td>    0.00</td> \n",
       "</tr>\n",
       "<tr>\n",
       "  <th>Kurtosis:</th>      <td>39.685</td>  <th>  Cond. No.          </th> <td>3.42e+32</td> \n",
       "</tr>\n",
       "</table><br/><br/>Warnings:<br/>[1] Standard Errors assume that the covariance matrix of the errors is correctly specified.<br/>[2] The smallest eigenvalue is 4.39e-63. This might indicate that there are<br/>strong multicollinearity problems or that the design matrix is singular."
      ],
      "text/plain": [
       "<class 'statsmodels.iolib.summary.Summary'>\n",
       "\"\"\"\n",
       "                            OLS Regression Results                            \n",
       "==============================================================================\n",
       "Dep. Variable:                      y   R-squared:                       0.003\n",
       "Model:                            OLS   Adj. R-squared:                  0.001\n",
       "Method:                 Least Squares   F-statistic:                     1.579\n",
       "Date:                Sat, 18 Apr 2020   Prob (F-statistic):              0.209\n",
       "Time:                        18:28:08   Log-Likelihood:                -1805.6\n",
       "No. Observations:                 506   AIC:                             3615.\n",
       "Df Residuals:                     504   BIC:                             3624.\n",
       "Df Model:                           1                                         \n",
       "Covariance Type:            nonrobust                                         \n",
       "==============================================================================\n",
       "                 coef    std err          t      P>|t|      [0.025      0.975]\n",
       "------------------------------------------------------------------------------\n",
       "const          3.7444      0.396      9.453      0.000       2.966       4.523\n",
       "x1            -0.6309      0.502     -1.257      0.209      -1.617       0.355\n",
       "x2            -0.6309      0.502     -1.257      0.209      -1.617       0.355\n",
       "x3            -0.6309      0.502     -1.257      0.209      -1.617       0.355\n",
       "==============================================================================\n",
       "Omnibus:                      561.663   Durbin-Watson:                   0.817\n",
       "Prob(Omnibus):                  0.000   Jarque-Bera (JB):            30645.429\n",
       "Skew:                           5.191   Prob(JB):                         0.00\n",
       "Kurtosis:                      39.685   Cond. No.                     3.42e+32\n",
       "==============================================================================\n",
       "\n",
       "Warnings:\n",
       "[1] Standard Errors assume that the covariance matrix of the errors is correctly specified.\n",
       "[2] The smallest eigenvalue is 4.39e-63. This might indicate that there are\n",
       "strong multicollinearity problems or that the design matrix is singular.\n",
       "\"\"\""
      ]
     },
     "execution_count": 27,
     "metadata": {},
     "output_type": "execute_result"
    }
   ],
   "source": [
    "X_dataset=pd.DataFrame(np.c_[Boston['CHAS']], columns = ['CHAS'])\n",
    "y_dataset=Boston['CRIM']\n",
    "X=X_dataset.iloc[:].values\n",
    "y=y_dataset.iloc[:].values\n",
    "import statsmodels.api as sm\n",
    "poly = PolynomialFeatures(degree=3)\n",
    "X_F1_poly = poly.fit_transform(X_dataset)\n",
    "X_with_const=sm.add_constant(X_poly)\n",
    "model=sm.OLS(endog=y,exog=X_with_const)\n",
    "results=model.fit()\n",
    "results.summary()"
   ]
  },
  {
   "cell_type": "code",
   "execution_count": 28,
   "metadata": {},
   "outputs": [
    {
     "data": {
      "text/plain": [
       "LinearRegression(copy_X=True, fit_intercept=True, n_jobs=None, normalize=False)"
      ]
     },
     "execution_count": 28,
     "metadata": {},
     "output_type": "execute_result"
    }
   ],
   "source": [
    "X = pd.DataFrame(np.c_[Boston['NOX']], columns = ['NOX'])\n",
    "Y = Boston['CRIM']\n",
    "linreg4 = LinearRegression()\n",
    "linreg4.fit(X,Y)"
   ]
  },
  {
   "cell_type": "code",
   "execution_count": 29,
   "metadata": {},
   "outputs": [
    {
     "name": "stdout",
     "output_type": "stream",
     "text": [
      "linear model coeff (w): [31.2485312]\n",
      "linear model intercept (b): -13.720\n",
      "R-squared score (training): 0.177\n"
     ]
    }
   ],
   "source": [
    "print('linear model coeff (w): {}'\n",
    "     .format(linreg4.coef_))\n",
    "print('linear model intercept (b): {:.3f}'\n",
    "     .format(linreg4.intercept_))\n",
    "print('R-squared score (training): {:.3f}'\n",
    "     .format(linreg4.score(X,Y)))"
   ]
  },
  {
   "cell_type": "code",
   "execution_count": 30,
   "metadata": {},
   "outputs": [
    {
     "data": {
      "text/html": [
       "<table class=\"simpletable\">\n",
       "<caption>OLS Regression Results</caption>\n",
       "<tr>\n",
       "  <th>Dep. Variable:</th>            <td>y</td>        <th>  R-squared:         </th> <td>   0.177</td>\n",
       "</tr>\n",
       "<tr>\n",
       "  <th>Model:</th>                   <td>OLS</td>       <th>  Adj. R-squared:    </th> <td>   0.176</td>\n",
       "</tr>\n",
       "<tr>\n",
       "  <th>Method:</th>             <td>Least Squares</td>  <th>  F-statistic:       </th> <td>   108.6</td>\n",
       "</tr>\n",
       "<tr>\n",
       "  <th>Date:</th>             <td>Sat, 18 Apr 2020</td> <th>  Prob (F-statistic):</th> <td>3.75e-23</td>\n",
       "</tr>\n",
       "<tr>\n",
       "  <th>Time:</th>                 <td>18:28:08</td>     <th>  Log-Likelihood:    </th> <td> -1757.0</td>\n",
       "</tr>\n",
       "<tr>\n",
       "  <th>No. Observations:</th>      <td>   506</td>      <th>  AIC:               </th> <td>   3518.</td>\n",
       "</tr>\n",
       "<tr>\n",
       "  <th>Df Residuals:</th>          <td>   504</td>      <th>  BIC:               </th> <td>   3526.</td>\n",
       "</tr>\n",
       "<tr>\n",
       "  <th>Df Model:</th>              <td>     1</td>      <th>                     </th>     <td> </td>   \n",
       "</tr>\n",
       "<tr>\n",
       "  <th>Covariance Type:</th>      <td>nonrobust</td>    <th>                     </th>     <td> </td>   \n",
       "</tr>\n",
       "</table>\n",
       "<table class=\"simpletable\">\n",
       "<tr>\n",
       "    <td></td>       <th>coef</th>     <th>std err</th>      <th>t</th>      <th>P>|t|</th>  <th>[0.025</th>    <th>0.975]</th>  \n",
       "</tr>\n",
       "<tr>\n",
       "  <th>const</th> <td>  -13.7199</td> <td>    1.699</td> <td>   -8.073</td> <td> 0.000</td> <td>  -17.059</td> <td>  -10.381</td>\n",
       "</tr>\n",
       "<tr>\n",
       "  <th>x1</th>    <td>   31.2485</td> <td>    2.999</td> <td>   10.419</td> <td> 0.000</td> <td>   25.356</td> <td>   37.141</td>\n",
       "</tr>\n",
       "</table>\n",
       "<table class=\"simpletable\">\n",
       "<tr>\n",
       "  <th>Omnibus:</th>       <td>591.712</td> <th>  Durbin-Watson:     </th> <td>   0.992</td> \n",
       "</tr>\n",
       "<tr>\n",
       "  <th>Prob(Omnibus):</th> <td> 0.000</td>  <th>  Jarque-Bera (JB):  </th> <td>43138.106</td>\n",
       "</tr>\n",
       "<tr>\n",
       "  <th>Skew:</th>          <td> 5.546</td>  <th>  Prob(JB):          </th> <td>    0.00</td> \n",
       "</tr>\n",
       "<tr>\n",
       "  <th>Kurtosis:</th>      <td>46.852</td>  <th>  Cond. No.          </th> <td>    11.3</td> \n",
       "</tr>\n",
       "</table><br/><br/>Warnings:<br/>[1] Standard Errors assume that the covariance matrix of the errors is correctly specified."
      ],
      "text/plain": [
       "<class 'statsmodels.iolib.summary.Summary'>\n",
       "\"\"\"\n",
       "                            OLS Regression Results                            \n",
       "==============================================================================\n",
       "Dep. Variable:                      y   R-squared:                       0.177\n",
       "Model:                            OLS   Adj. R-squared:                  0.176\n",
       "Method:                 Least Squares   F-statistic:                     108.6\n",
       "Date:                Sat, 18 Apr 2020   Prob (F-statistic):           3.75e-23\n",
       "Time:                        18:28:08   Log-Likelihood:                -1757.0\n",
       "No. Observations:                 506   AIC:                             3518.\n",
       "Df Residuals:                     504   BIC:                             3526.\n",
       "Df Model:                           1                                         \n",
       "Covariance Type:            nonrobust                                         \n",
       "==============================================================================\n",
       "                 coef    std err          t      P>|t|      [0.025      0.975]\n",
       "------------------------------------------------------------------------------\n",
       "const        -13.7199      1.699     -8.073      0.000     -17.059     -10.381\n",
       "x1            31.2485      2.999     10.419      0.000      25.356      37.141\n",
       "==============================================================================\n",
       "Omnibus:                      591.712   Durbin-Watson:                   0.992\n",
       "Prob(Omnibus):                  0.000   Jarque-Bera (JB):            43138.106\n",
       "Skew:                           5.546   Prob(JB):                         0.00\n",
       "Kurtosis:                      46.852   Cond. No.                         11.3\n",
       "==============================================================================\n",
       "\n",
       "Warnings:\n",
       "[1] Standard Errors assume that the covariance matrix of the errors is correctly specified.\n",
       "\"\"\""
      ]
     },
     "execution_count": 30,
     "metadata": {},
     "output_type": "execute_result"
    }
   ],
   "source": [
    "x = pd.DataFrame(np.c_[Boston['NOX']], columns = ['NOX'])\n",
    "Y = Boston['CRIM']\n",
    "X = x.iloc[:].values\n",
    "y = Y.iloc[:].values\n",
    "X_with_const=sm.add_constant(X)\n",
    "model=sm.OLS(endog=y,exog=X_with_const)\n",
    "results=model.fit()\n",
    "results.summary()"
   ]
  },
  {
   "cell_type": "code",
   "execution_count": 31,
   "metadata": {},
   "outputs": [
    {
     "data": {
      "text/plain": [
       "[<matplotlib.lines.Line2D at 0x23beb576278>]"
      ]
     },
     "execution_count": 31,
     "metadata": {},
     "output_type": "execute_result"
    },
    {
     "data": {
      "image/png": "[encoded data removed]",
      "text/plain": [
       "<Figure size 1440x360 with 1 Axes>"
      ]
     },
     "metadata": {
      "needs_background": "light"
     },
     "output_type": "display_data"
    }
   ],
   "source": [
    "plt.figure(figsize=(20, 5))\n",
    "\n",
    "features = ['NOX']\n",
    "target = Boston['CRIM']\n",
    "\n",
    "for i, col in enumerate(features):\n",
    "    plt.subplot(1, len(features) , i+1)\n",
    "x = Boston[col]\n",
    "y = target\n",
    "plt.scatter(x, y, marker='o')\n",
    "plt.title('Crime vs NOX')\n",
    "plt.xlabel(col)\n",
    "plt.ylabel('CRIM')\n",
    "plt.plot(X, linreg4.coef_ * X + linreg4.intercept_, 'r-')"
   ]
  },
  {
   "cell_type": "code",
   "execution_count": 32,
   "metadata": {},
   "outputs": [
    {
     "name": "stdout",
     "output_type": "stream",
     "text": [
      "(poly deg 3) linear model coeff (w):\n",
      "[    0.         -1279.37125166  2248.54405256 -1245.70287375]\n",
      "(poly deg 3) linear model intercept (b): 233.087\n",
      "(poly deg 3) R-squared score (training): 0.297\n"
     ]
    }
   ],
   "source": [
    "poly = PolynomialFeatures(degree=3)\n",
    "X_poly = poly.fit_transform(X)\n",
    "linreg = LinearRegression().fit(X_poly, Y)\n",
    "\n",
    "print('(poly deg 3) linear model coeff (w):\\n{}'\n",
    "     .format(linreg.coef_))\n",
    "print('(poly deg 3) linear model intercept (b): {:.3f}'\n",
    "     .format(linreg.intercept_))\n",
    "print('(poly deg 3) R-squared score (training): {:.3f}'\n",
    "     .format(linreg.score(X_poly, Y)))"
   ]
  },
  {
   "cell_type": "code",
   "execution_count": 33,
   "metadata": {},
   "outputs": [
    {
     "data": {
      "text/html": [
       "<table class=\"simpletable\">\n",
       "<caption>OLS Regression Results</caption>\n",
       "<tr>\n",
       "  <th>Dep. Variable:</th>            <td>y</td>        <th>  R-squared:         </th> <td>   0.297</td>\n",
       "</tr>\n",
       "<tr>\n",
       "  <th>Model:</th>                   <td>OLS</td>       <th>  Adj. R-squared:    </th> <td>   0.293</td>\n",
       "</tr>\n",
       "<tr>\n",
       "  <th>Method:</th>             <td>Least Squares</td>  <th>  F-statistic:       </th> <td>   70.69</td>\n",
       "</tr>\n",
       "<tr>\n",
       "  <th>Date:</th>             <td>Sat, 18 Apr 2020</td> <th>  Prob (F-statistic):</th> <td>3.81e-38</td>\n",
       "</tr>\n",
       "<tr>\n",
       "  <th>Time:</th>                 <td>18:28:09</td>     <th>  Log-Likelihood:    </th> <td> -1717.2</td>\n",
       "</tr>\n",
       "<tr>\n",
       "  <th>No. Observations:</th>      <td>   506</td>      <th>  AIC:               </th> <td>   3442.</td>\n",
       "</tr>\n",
       "<tr>\n",
       "  <th>Df Residuals:</th>          <td>   502</td>      <th>  BIC:               </th> <td>   3459.</td>\n",
       "</tr>\n",
       "<tr>\n",
       "  <th>Df Model:</th>              <td>     3</td>      <th>                     </th>     <td> </td>   \n",
       "</tr>\n",
       "<tr>\n",
       "  <th>Covariance Type:</th>      <td>nonrobust</td>    <th>                     </th>     <td> </td>   \n",
       "</tr>\n",
       "</table>\n",
       "<table class=\"simpletable\">\n",
       "<tr>\n",
       "    <td></td>       <th>coef</th>     <th>std err</th>      <th>t</th>      <th>P>|t|</th>  <th>[0.025</th>    <th>0.975]</th>  \n",
       "</tr>\n",
       "<tr>\n",
       "  <th>const</th> <td>  233.0866</td> <td>   33.643</td> <td>    6.928</td> <td> 0.000</td> <td>  166.988</td> <td>  299.185</td>\n",
       "</tr>\n",
       "<tr>\n",
       "  <th>x1</th>    <td>-1279.3713</td> <td>  170.397</td> <td>   -7.508</td> <td> 0.000</td> <td>-1614.151</td> <td> -944.591</td>\n",
       "</tr>\n",
       "<tr>\n",
       "  <th>x2</th>    <td> 2248.5441</td> <td>  279.899</td> <td>    8.033</td> <td> 0.000</td> <td> 1698.626</td> <td> 2798.462</td>\n",
       "</tr>\n",
       "<tr>\n",
       "  <th>x3</th>    <td>-1245.7029</td> <td>  149.282</td> <td>   -8.345</td> <td> 0.000</td> <td>-1538.997</td> <td> -952.409</td>\n",
       "</tr>\n",
       "</table>\n",
       "<table class=\"simpletable\">\n",
       "<tr>\n",
       "  <th>Omnibus:</th>       <td>614.412</td> <th>  Durbin-Watson:     </th> <td>   1.159</td> \n",
       "</tr>\n",
       "<tr>\n",
       "  <th>Prob(Omnibus):</th> <td> 0.000</td>  <th>  Jarque-Bera (JB):  </th> <td>53523.997</td>\n",
       "</tr>\n",
       "<tr>\n",
       "  <th>Skew:</th>          <td> 5.851</td>  <th>  Prob(JB):          </th> <td>    0.00</td> \n",
       "</tr>\n",
       "<tr>\n",
       "  <th>Kurtosis:</th>      <td>52.008</td>  <th>  Cond. No.          </th> <td>1.36e+03</td> \n",
       "</tr>\n",
       "</table><br/><br/>Warnings:<br/>[1] Standard Errors assume that the covariance matrix of the errors is correctly specified.<br/>[2] The condition number is large, 1.36e+03. This might indicate that there are<br/>strong multicollinearity or other numerical problems."
      ],
      "text/plain": [
       "<class 'statsmodels.iolib.summary.Summary'>\n",
       "\"\"\"\n",
       "                            OLS Regression Results                            \n",
       "==============================================================================\n",
       "Dep. Variable:                      y   R-squared:                       0.297\n",
       "Model:                            OLS   Adj. R-squared:                  0.293\n",
       "Method:                 Least Squares   F-statistic:                     70.69\n",
       "Date:                Sat, 18 Apr 2020   Prob (F-statistic):           3.81e-38\n",
       "Time:                        18:28:09   Log-Likelihood:                -1717.2\n",
       "No. Observations:                 506   AIC:                             3442.\n",
       "Df Residuals:                     502   BIC:                             3459.\n",
       "Df Model:                           3                                         \n",
       "Covariance Type:            nonrobust                                         \n",
       "==============================================================================\n",
       "                 coef    std err          t      P>|t|      [0.025      0.975]\n",
       "------------------------------------------------------------------------------\n",
       "const        233.0866     33.643      6.928      0.000     166.988     299.185\n",
       "x1         -1279.3713    170.397     -7.508      0.000   -1614.151    -944.591\n",
       "x2          2248.5441    279.899      8.033      0.000    1698.626    2798.462\n",
       "x3         -1245.7029    149.282     -8.345      0.000   -1538.997    -952.409\n",
       "==============================================================================\n",
       "Omnibus:                      614.412   Durbin-Watson:                   1.159\n",
       "Prob(Omnibus):                  0.000   Jarque-Bera (JB):            53523.997\n",
       "Skew:                           5.851   Prob(JB):                         0.00\n",
       "Kurtosis:                      52.008   Cond. No.                     1.36e+03\n",
       "==============================================================================\n",
       "\n",
       "Warnings:\n",
       "[1] Standard Errors assume that the covariance matrix of the errors is correctly specified.\n",
       "[2] The condition number is large, 1.36e+03. This might indicate that there are\n",
       "strong multicollinearity or other numerical problems.\n",
       "\"\"\""
      ]
     },
     "execution_count": 33,
     "metadata": {},
     "output_type": "execute_result"
    }
   ],
   "source": [
    "X_dataset=pd.DataFrame(np.c_[Boston['NOX']], columns = ['NOX'])\n",
    "y_dataset=Boston['CRIM']\n",
    "X=X_dataset.iloc[:].values\n",
    "y=y_dataset.iloc[:].values\n",
    "import statsmodels.api as sm\n",
    "poly = PolynomialFeatures(degree=3)\n",
    "X_F1_poly = poly.fit_transform(X_dataset)\n",
    "X_with_const=sm.add_constant(X_poly)\n",
    "model=sm.OLS(endog=y,exog=X_with_const)\n",
    "results=model.fit()\n",
    "results.summary()"
   ]
  },
  {
   "cell_type": "code",
   "execution_count": 34,
   "metadata": {},
   "outputs": [
    {
     "data": {
      "text/plain": [
       "LinearRegression(copy_X=True, fit_intercept=True, n_jobs=None, normalize=False)"
      ]
     },
     "execution_count": 34,
     "metadata": {},
     "output_type": "execute_result"
    }
   ],
   "source": [
    "X = pd.DataFrame(np.c_[Boston['RM']], columns = ['RM'])\n",
    "Y = Boston['CRIM']\n",
    "linreg5 = LinearRegression()\n",
    "linreg5.fit(X,Y)"
   ]
  },
  {
   "cell_type": "code",
   "execution_count": 35,
   "metadata": {},
   "outputs": [
    {
     "name": "stdout",
     "output_type": "stream",
     "text": [
      "linear model coeff (w): [-2.68405122]\n",
      "linear model intercept (b): 20.482\n",
      "R-squared score (training): 0.048\n"
     ]
    }
   ],
   "source": [
    "print('linear model coeff (w): {}'\n",
    "     .format(linreg5.coef_))\n",
    "print('linear model intercept (b): {:.3f}'\n",
    "     .format(linreg5.intercept_))\n",
    "print('R-squared score (training): {:.3f}'\n",
    "     .format(linreg5.score(X,Y)))"
   ]
  },
  {
   "cell_type": "code",
   "execution_count": 36,
   "metadata": {},
   "outputs": [
    {
     "data": {
      "text/html": [
       "<table class=\"simpletable\">\n",
       "<caption>OLS Regression Results</caption>\n",
       "<tr>\n",
       "  <th>Dep. Variable:</th>            <td>y</td>        <th>  R-squared:         </th> <td>   0.048</td>\n",
       "</tr>\n",
       "<tr>\n",
       "  <th>Model:</th>                   <td>OLS</td>       <th>  Adj. R-squared:    </th> <td>   0.046</td>\n",
       "</tr>\n",
       "<tr>\n",
       "  <th>Method:</th>             <td>Least Squares</td>  <th>  F-statistic:       </th> <td>   25.45</td>\n",
       "</tr>\n",
       "<tr>\n",
       "  <th>Date:</th>             <td>Sat, 18 Apr 2020</td> <th>  Prob (F-statistic):</th> <td>6.35e-07</td>\n",
       "</tr>\n",
       "<tr>\n",
       "  <th>Time:</th>                 <td>18:28:09</td>     <th>  Log-Likelihood:    </th> <td> -1793.9</td>\n",
       "</tr>\n",
       "<tr>\n",
       "  <th>No. Observations:</th>      <td>   506</td>      <th>  AIC:               </th> <td>   3592.</td>\n",
       "</tr>\n",
       "<tr>\n",
       "  <th>Df Residuals:</th>          <td>   504</td>      <th>  BIC:               </th> <td>   3600.</td>\n",
       "</tr>\n",
       "<tr>\n",
       "  <th>Df Model:</th>              <td>     1</td>      <th>                     </th>     <td> </td>   \n",
       "</tr>\n",
       "<tr>\n",
       "  <th>Covariance Type:</th>      <td>nonrobust</td>    <th>                     </th>     <td> </td>   \n",
       "</tr>\n",
       "</table>\n",
       "<table class=\"simpletable\">\n",
       "<tr>\n",
       "    <td></td>       <th>coef</th>     <th>std err</th>      <th>t</th>      <th>P>|t|</th>  <th>[0.025</th>    <th>0.975]</th>  \n",
       "</tr>\n",
       "<tr>\n",
       "  <th>const</th> <td>   20.4818</td> <td>    3.364</td> <td>    6.088</td> <td> 0.000</td> <td>   13.872</td> <td>   27.092</td>\n",
       "</tr>\n",
       "<tr>\n",
       "  <th>x1</th>    <td>   -2.6841</td> <td>    0.532</td> <td>   -5.045</td> <td> 0.000</td> <td>   -3.729</td> <td>   -1.639</td>\n",
       "</tr>\n",
       "</table>\n",
       "<table class=\"simpletable\">\n",
       "<tr>\n",
       "  <th>Omnibus:</th>       <td>575.717</td> <th>  Durbin-Watson:     </th> <td>   0.879</td> \n",
       "</tr>\n",
       "<tr>\n",
       "  <th>Prob(Omnibus):</th> <td> 0.000</td>  <th>  Jarque-Bera (JB):  </th> <td>36658.093</td>\n",
       "</tr>\n",
       "<tr>\n",
       "  <th>Skew:</th>          <td> 5.345</td>  <th>  Prob(JB):          </th> <td>    0.00</td> \n",
       "</tr>\n",
       "<tr>\n",
       "  <th>Kurtosis:</th>      <td>43.305</td>  <th>  Cond. No.          </th> <td>    58.4</td> \n",
       "</tr>\n",
       "</table><br/><br/>Warnings:<br/>[1] Standard Errors assume that the covariance matrix of the errors is correctly specified."
      ],
      "text/plain": [
       "<class 'statsmodels.iolib.summary.Summary'>\n",
       "\"\"\"\n",
       "                            OLS Regression Results                            \n",
       "==============================================================================\n",
       "Dep. Variable:                      y   R-squared:                       0.048\n",
       "Model:                            OLS   Adj. R-squared:                  0.046\n",
       "Method:                 Least Squares   F-statistic:                     25.45\n",
       "Date:                Sat, 18 Apr 2020   Prob (F-statistic):           6.35e-07\n",
       "Time:                        18:28:09   Log-Likelihood:                -1793.9\n",
       "No. Observations:                 506   AIC:                             3592.\n",
       "Df Residuals:                     504   BIC:                             3600.\n",
       "Df Model:                           1                                         \n",
       "Covariance Type:            nonrobust                                         \n",
       "==============================================================================\n",
       "                 coef    std err          t      P>|t|      [0.025      0.975]\n",
       "------------------------------------------------------------------------------\n",
       "const         20.4818      3.364      6.088      0.000      13.872      27.092\n",
       "x1            -2.6841      0.532     -5.045      0.000      -3.729      -1.639\n",
       "==============================================================================\n",
       "Omnibus:                      575.717   Durbin-Watson:                   0.879\n",
       "Prob(Omnibus):                  0.000   Jarque-Bera (JB):            36658.093\n",
       "Skew:                           5.345   Prob(JB):                         0.00\n",
       "Kurtosis:                      43.305   Cond. No.                         58.4\n",
       "==============================================================================\n",
       "\n",
       "Warnings:\n",
       "[1] Standard Errors assume that the covariance matrix of the errors is correctly specified.\n",
       "\"\"\""
      ]
     },
     "execution_count": 36,
     "metadata": {},
     "output_type": "execute_result"
    }
   ],
   "source": [
    "x = pd.DataFrame(np.c_[Boston['RM']], columns = ['RM'])\n",
    "Y = Boston['CRIM']\n",
    "X = x.iloc[:].values\n",
    "y = Y.iloc[:].values\n",
    "X_with_const=sm.add_constant(X)\n",
    "model=sm.OLS(endog=y,exog=X_with_const)\n",
    "results=model.fit()\n",
    "results.summary()"
   ]
  },
  {
   "cell_type": "code",
   "execution_count": 37,
   "metadata": {},
   "outputs": [
    {
     "data": {
      "text/plain": [
       "[<matplotlib.lines.Line2D at 0x23beb602358>]"
      ]
     },
     "execution_count": 37,
     "metadata": {},
     "output_type": "execute_result"
    },
    {
     "data": {
      "image/png": "[encoded data removed]",
      "text/plain": [
       "<Figure size 1440x360 with 1 Axes>"
      ]
     },
     "metadata": {
      "needs_background": "light"
     },
     "output_type": "display_data"
    }
   ],
   "source": [
    "plt.figure(figsize=(20, 5))\n",
    "\n",
    "features = ['RM']\n",
    "target = Boston['CRIM']\n",
    "for i, col in enumerate(features):\n",
    "    plt.subplot(1, len(features) , i+1)\n",
    "x = Boston[col]\n",
    "y = target\n",
    "plt.scatter(x, y, marker='o')\n",
    "plt.title('Crime vs RM')\n",
    "plt.xlabel(col)\n",
    "plt.ylabel('CRIM')\n",
    "plt.plot(X, linreg5.coef_ * X + linreg5.intercept_, 'r-')"
   ]
  },
  {
   "cell_type": "code",
   "execution_count": 38,
   "metadata": {},
   "outputs": [
    {
     "name": "stdout",
     "output_type": "stream",
     "text": [
      "(poly deg 3) linear model coeff (w):\n",
      "[  0.         -39.15013634   4.55089591  -0.17447695]\n",
      "(poly deg 3) linear model intercept (b): 112.625\n",
      "(poly deg 3) R-squared score (training): 0.068\n"
     ]
    }
   ],
   "source": [
    "poly = PolynomialFeatures(degree=3)\n",
    "X_poly = poly.fit_transform(X)\n",
    "linreg = LinearRegression().fit(X_poly, Y)\n",
    "\n",
    "print('(poly deg 3) linear model coeff (w):\\n{}'\n",
    "     .format(linreg.coef_))\n",
    "print('(poly deg 3) linear model intercept (b): {:.3f}'\n",
    "     .format(linreg.intercept_))\n",
    "print('(poly deg 3) R-squared score (training): {:.3f}'\n",
    "     .format(linreg.score(X_poly, Y)))"
   ]
  },
  {
   "cell_type": "code",
   "execution_count": 39,
   "metadata": {},
   "outputs": [
    {
     "data": {
      "text/html": [
       "<table class=\"simpletable\">\n",
       "<caption>OLS Regression Results</caption>\n",
       "<tr>\n",
       "  <th>Dep. Variable:</th>            <td>y</td>        <th>  R-squared:         </th> <td>   0.068</td>\n",
       "</tr>\n",
       "<tr>\n",
       "  <th>Model:</th>                   <td>OLS</td>       <th>  Adj. R-squared:    </th> <td>   0.062</td>\n",
       "</tr>\n",
       "<tr>\n",
       "  <th>Method:</th>             <td>Least Squares</td>  <th>  F-statistic:       </th> <td>   12.17</td>\n",
       "</tr>\n",
       "<tr>\n",
       "  <th>Date:</th>             <td>Sat, 18 Apr 2020</td> <th>  Prob (F-statistic):</th> <td>1.07e-07</td>\n",
       "</tr>\n",
       "<tr>\n",
       "  <th>Time:</th>                 <td>18:28:09</td>     <th>  Log-Likelihood:    </th> <td> -1788.6</td>\n",
       "</tr>\n",
       "<tr>\n",
       "  <th>No. Observations:</th>      <td>   506</td>      <th>  AIC:               </th> <td>   3585.</td>\n",
       "</tr>\n",
       "<tr>\n",
       "  <th>Df Residuals:</th>          <td>   502</td>      <th>  BIC:               </th> <td>   3602.</td>\n",
       "</tr>\n",
       "<tr>\n",
       "  <th>Df Model:</th>              <td>     3</td>      <th>                     </th>     <td> </td>   \n",
       "</tr>\n",
       "<tr>\n",
       "  <th>Covariance Type:</th>      <td>nonrobust</td>    <th>                     </th>     <td> </td>   \n",
       "</tr>\n",
       "</table>\n",
       "<table class=\"simpletable\">\n",
       "<tr>\n",
       "    <td></td>       <th>coef</th>     <th>std err</th>      <th>t</th>      <th>P>|t|</th>  <th>[0.025</th>    <th>0.975]</th>  \n",
       "</tr>\n",
       "<tr>\n",
       "  <th>const</th> <td>  112.6246</td> <td>   64.517</td> <td>    1.746</td> <td> 0.081</td> <td>  -14.132</td> <td>  239.382</td>\n",
       "</tr>\n",
       "<tr>\n",
       "  <th>x1</th>    <td>  -39.1501</td> <td>   31.311</td> <td>   -1.250</td> <td> 0.212</td> <td> -100.668</td> <td>   22.368</td>\n",
       "</tr>\n",
       "<tr>\n",
       "  <th>x2</th>    <td>    4.5509</td> <td>    5.010</td> <td>    0.908</td> <td> 0.364</td> <td>   -5.292</td> <td>   14.394</td>\n",
       "</tr>\n",
       "<tr>\n",
       "  <th>x3</th>    <td>   -0.1745</td> <td>    0.264</td> <td>   -0.662</td> <td> 0.509</td> <td>   -0.693</td> <td>    0.344</td>\n",
       "</tr>\n",
       "</table>\n",
       "<table class=\"simpletable\">\n",
       "<tr>\n",
       "  <th>Omnibus:</th>       <td>585.097</td> <th>  Durbin-Watson:     </th> <td>   0.913</td> \n",
       "</tr>\n",
       "<tr>\n",
       "  <th>Prob(Omnibus):</th> <td> 0.000</td>  <th>  Jarque-Bera (JB):  </th> <td>40144.207</td>\n",
       "</tr>\n",
       "<tr>\n",
       "  <th>Skew:</th>          <td> 5.465</td>  <th>  Prob(JB):          </th> <td>    0.00</td> \n",
       "</tr>\n",
       "<tr>\n",
       "  <th>Kurtosis:</th>      <td>45.245</td>  <th>  Cond. No.          </th> <td>5.36e+04</td> \n",
       "</tr>\n",
       "</table><br/><br/>Warnings:<br/>[1] Standard Errors assume that the covariance matrix of the errors is correctly specified.<br/>[2] The condition number is large, 5.36e+04. This might indicate that there are<br/>strong multicollinearity or other numerical problems."
      ],
      "text/plain": [
       "<class 'statsmodels.iolib.summary.Summary'>\n",
       "\"\"\"\n",
       "                            OLS Regression Results                            \n",
       "==============================================================================\n",
       "Dep. Variable:                      y   R-squared:                       0.068\n",
       "Model:                            OLS   Adj. R-squared:                  0.062\n",
       "Method:                 Least Squares   F-statistic:                     12.17\n",
       "Date:                Sat, 18 Apr 2020   Prob (F-statistic):           1.07e-07\n",
       "Time:                        18:28:09   Log-Likelihood:                -1788.6\n",
       "No. Observations:                 506   AIC:                             3585.\n",
       "Df Residuals:                     502   BIC:                             3602.\n",
       "Df Model:                           3                                         \n",
       "Covariance Type:            nonrobust                                         \n",
       "==============================================================================\n",
       "                 coef    std err          t      P>|t|      [0.025      0.975]\n",
       "------------------------------------------------------------------------------\n",
       "const        112.6246     64.517      1.746      0.081     -14.132     239.382\n",
       "x1           -39.1501     31.311     -1.250      0.212    -100.668      22.368\n",
       "x2             4.5509      5.010      0.908      0.364      -5.292      14.394\n",
       "x3            -0.1745      0.264     -0.662      0.509      -0.693       0.344\n",
       "==============================================================================\n",
       "Omnibus:                      585.097   Durbin-Watson:                   0.913\n",
       "Prob(Omnibus):                  0.000   Jarque-Bera (JB):            40144.207\n",
       "Skew:                           5.465   Prob(JB):                         0.00\n",
       "Kurtosis:                      45.245   Cond. No.                     5.36e+04\n",
       "==============================================================================\n",
       "\n",
       "Warnings:\n",
       "[1] Standard Errors assume that the covariance matrix of the errors is correctly specified.\n",
       "[2] The condition number is large, 5.36e+04. This might indicate that there are\n",
       "strong multicollinearity or other numerical problems.\n",
       "\"\"\""
      ]
     },
     "execution_count": 39,
     "metadata": {},
     "output_type": "execute_result"
    }
   ],
   "source": [
    "X_dataset=pd.DataFrame(np.c_[Boston['RM']], columns = ['RM'])\n",
    "y_dataset=Boston['CRIM']\n",
    "X=X_dataset.iloc[:].values\n",
    "y=y_dataset.iloc[:].values\n",
    "import statsmodels.api as sm\n",
    "poly = PolynomialFeatures(degree=3)\n",
    "X_F1_poly = poly.fit_transform(X_dataset)\n",
    "X_with_const=sm.add_constant(X_poly)\n",
    "model=sm.OLS(endog=y,exog=X_with_const)\n",
    "results=model.fit()\n",
    "results.summary()"
   ]
  },
  {
   "cell_type": "code",
   "execution_count": 40,
   "metadata": {},
   "outputs": [
    {
     "data": {
      "text/plain": [
       "LinearRegression(copy_X=True, fit_intercept=True, n_jobs=None, normalize=False)"
      ]
     },
     "execution_count": 40,
     "metadata": {},
     "output_type": "execute_result"
    }
   ],
   "source": [
    "X = pd.DataFrame(np.c_[Boston['AGE']], columns = ['AGE'])\n",
    "Y = Boston['CRIM']\n",
    "linreg6 = LinearRegression()\n",
    "linreg6.fit(X,Y)"
   ]
  },
  {
   "cell_type": "code",
   "execution_count": 41,
   "metadata": {},
   "outputs": [
    {
     "name": "stdout",
     "output_type": "stream",
     "text": [
      "linear model coeff (w): [0.10778623]\n",
      "linear model intercept (b): -3.778\n",
      "R-squared score (training): 0.124\n"
     ]
    }
   ],
   "source": [
    "print('linear model coeff (w): {}'\n",
    "     .format(linreg6.coef_))\n",
    "print('linear model intercept (b): {:.3f}'\n",
    "     .format(linreg6.intercept_))\n",
    "print('R-squared score (training): {:.3f}'\n",
    "     .format(linreg6.score(X,Y)))"
   ]
  },
  {
   "cell_type": "code",
   "execution_count": 42,
   "metadata": {},
   "outputs": [
    {
     "data": {
      "text/html": [
       "<table class=\"simpletable\">\n",
       "<caption>OLS Regression Results</caption>\n",
       "<tr>\n",
       "  <th>Dep. Variable:</th>            <td>y</td>        <th>  R-squared:         </th> <td>   0.124</td>\n",
       "</tr>\n",
       "<tr>\n",
       "  <th>Model:</th>                   <td>OLS</td>       <th>  Adj. R-squared:    </th> <td>   0.123</td>\n",
       "</tr>\n",
       "<tr>\n",
       "  <th>Method:</th>             <td>Least Squares</td>  <th>  F-statistic:       </th> <td>   71.62</td>\n",
       "</tr>\n",
       "<tr>\n",
       "  <th>Date:</th>             <td>Sat, 18 Apr 2020</td> <th>  Prob (F-statistic):</th> <td>2.85e-16</td>\n",
       "</tr>\n",
       "<tr>\n",
       "  <th>Time:</th>                 <td>18:28:09</td>     <th>  Log-Likelihood:    </th> <td> -1772.7</td>\n",
       "</tr>\n",
       "<tr>\n",
       "  <th>No. Observations:</th>      <td>   506</td>      <th>  AIC:               </th> <td>   3549.</td>\n",
       "</tr>\n",
       "<tr>\n",
       "  <th>Df Residuals:</th>          <td>   504</td>      <th>  BIC:               </th> <td>   3558.</td>\n",
       "</tr>\n",
       "<tr>\n",
       "  <th>Df Model:</th>              <td>     1</td>      <th>                     </th>     <td> </td>   \n",
       "</tr>\n",
       "<tr>\n",
       "  <th>Covariance Type:</th>      <td>nonrobust</td>    <th>                     </th>     <td> </td>   \n",
       "</tr>\n",
       "</table>\n",
       "<table class=\"simpletable\">\n",
       "<tr>\n",
       "    <td></td>       <th>coef</th>     <th>std err</th>      <th>t</th>      <th>P>|t|</th>  <th>[0.025</th>    <th>0.975]</th>  \n",
       "</tr>\n",
       "<tr>\n",
       "  <th>const</th> <td>   -3.7779</td> <td>    0.944</td> <td>   -4.002</td> <td> 0.000</td> <td>   -5.633</td> <td>   -1.923</td>\n",
       "</tr>\n",
       "<tr>\n",
       "  <th>x1</th>    <td>    0.1078</td> <td>    0.013</td> <td>    8.463</td> <td> 0.000</td> <td>    0.083</td> <td>    0.133</td>\n",
       "</tr>\n",
       "</table>\n",
       "<table class=\"simpletable\">\n",
       "<tr>\n",
       "  <th>Omnibus:</th>       <td>574.509</td> <th>  Durbin-Watson:     </th> <td>   0.956</td> \n",
       "</tr>\n",
       "<tr>\n",
       "  <th>Prob(Omnibus):</th> <td> 0.000</td>  <th>  Jarque-Bera (JB):  </th> <td>36741.903</td>\n",
       "</tr>\n",
       "<tr>\n",
       "  <th>Skew:</th>          <td> 5.322</td>  <th>  Prob(JB):          </th> <td>    0.00</td> \n",
       "</tr>\n",
       "<tr>\n",
       "  <th>Kurtosis:</th>      <td>43.366</td>  <th>  Cond. No.          </th> <td>    195.</td> \n",
       "</tr>\n",
       "</table><br/><br/>Warnings:<br/>[1] Standard Errors assume that the covariance matrix of the errors is correctly specified."
      ],
      "text/plain": [
       "<class 'statsmodels.iolib.summary.Summary'>\n",
       "\"\"\"\n",
       "                            OLS Regression Results                            \n",
       "==============================================================================\n",
       "Dep. Variable:                      y   R-squared:                       0.124\n",
       "Model:                            OLS   Adj. R-squared:                  0.123\n",
       "Method:                 Least Squares   F-statistic:                     71.62\n",
       "Date:                Sat, 18 Apr 2020   Prob (F-statistic):           2.85e-16\n",
       "Time:                        18:28:09   Log-Likelihood:                -1772.7\n",
       "No. Observations:                 506   AIC:                             3549.\n",
       "Df Residuals:                     504   BIC:                             3558.\n",
       "Df Model:                           1                                         \n",
       "Covariance Type:            nonrobust                                         \n",
       "==============================================================================\n",
       "                 coef    std err          t      P>|t|      [0.025      0.975]\n",
       "------------------------------------------------------------------------------\n",
       "const         -3.7779      0.944     -4.002      0.000      -5.633      -1.923\n",
       "x1             0.1078      0.013      8.463      0.000       0.083       0.133\n",
       "==============================================================================\n",
       "Omnibus:                      574.509   Durbin-Watson:                   0.956\n",
       "Prob(Omnibus):                  0.000   Jarque-Bera (JB):            36741.903\n",
       "Skew:                           5.322   Prob(JB):                         0.00\n",
       "Kurtosis:                      43.366   Cond. No.                         195.\n",
       "==============================================================================\n",
       "\n",
       "Warnings:\n",
       "[1] Standard Errors assume that the covariance matrix of the errors is correctly specified.\n",
       "\"\"\""
      ]
     },
     "execution_count": 42,
     "metadata": {},
     "output_type": "execute_result"
    }
   ],
   "source": [
    "x = pd.DataFrame(np.c_[Boston['AGE']], columns = ['AGE'])\n",
    "Y = Boston['CRIM']\n",
    "X = x.iloc[:].values\n",
    "y = Y.iloc[:].values\n",
    "X_with_const=sm.add_constant(X)\n",
    "model=sm.OLS(endog=y,exog=X_with_const)\n",
    "results=model.fit()\n",
    "results.summary()"
   ]
  },
  {
   "cell_type": "code",
   "execution_count": 43,
   "metadata": {},
   "outputs": [
    {
     "data": {
      "text/plain": [
       "[<matplotlib.lines.Line2D at 0x23beb68da58>]"
      ]
     },
     "execution_count": 43,
     "metadata": {},
     "output_type": "execute_result"
    },
    {
     "data": {
      "image/png": "[encoded data removed]",
      "text/plain": [
       "<Figure size 1440x360 with 1 Axes>"
      ]
     },
     "metadata": {
      "needs_background": "light"
     },
     "output_type": "display_data"
    }
   ],
   "source": [
    "plt.figure(figsize=(20, 5))\n",
    "\n",
    "features = ['AGE']\n",
    "target = Boston['CRIM']\n",
    "for i, col in enumerate(features):\n",
    "    plt.subplot(1, len(features) , i+1)\n",
    "x = Boston[col]\n",
    "y = target\n",
    "plt.scatter(x, y, marker='o')\n",
    "plt.title('Crime vs AGE')\n",
    "plt.xlabel(col)\n",
    "plt.ylabel('CRIM')\n",
    "plt.plot(X, linreg6.coef_ * X + linreg6.intercept_, 'r-')"
   ]
  },
  {
   "cell_type": "code",
   "execution_count": 44,
   "metadata": {},
   "outputs": [
    {
     "name": "stdout",
     "output_type": "stream",
     "text": [
      "(poly deg 3) linear model coeff (w):\n",
      "[ 0.00000000e+00  2.73653131e-01 -7.22959558e-03  5.74530704e-05]\n",
      "(poly deg 3) linear model intercept (b): -2.549\n",
      "(poly deg 3) R-squared score (training): 0.174\n"
     ]
    }
   ],
   "source": [
    "poly = PolynomialFeatures(degree=3)\n",
    "X_poly = poly.fit_transform(X)\n",
    "linreg = LinearRegression().fit(X_poly, Y)\n",
    "\n",
    "print('(poly deg 3) linear model coeff (w):\\n{}'\n",
    "     .format(linreg.coef_))\n",
    "print('(poly deg 3) linear model intercept (b): {:.3f}'\n",
    "     .format(linreg.intercept_))\n",
    "print('(poly deg 3) R-squared score (training): {:.3f}'\n",
    "     .format(linreg.score(X_poly, Y)))"
   ]
  },
  {
   "cell_type": "code",
   "execution_count": 45,
   "metadata": {},
   "outputs": [
    {
     "data": {
      "text/html": [
       "<table class=\"simpletable\">\n",
       "<caption>OLS Regression Results</caption>\n",
       "<tr>\n",
       "  <th>Dep. Variable:</th>            <td>y</td>        <th>  R-squared:         </th> <td>   0.174</td>\n",
       "</tr>\n",
       "<tr>\n",
       "  <th>Model:</th>                   <td>OLS</td>       <th>  Adj. R-squared:    </th> <td>   0.169</td>\n",
       "</tr>\n",
       "<tr>\n",
       "  <th>Method:</th>             <td>Least Squares</td>  <th>  F-statistic:       </th> <td>   35.31</td>\n",
       "</tr>\n",
       "<tr>\n",
       "  <th>Date:</th>             <td>Sat, 18 Apr 2020</td> <th>  Prob (F-statistic):</th> <td>1.02e-20</td>\n",
       "</tr>\n",
       "<tr>\n",
       "  <th>Time:</th>                 <td>18:28:09</td>     <th>  Log-Likelihood:    </th> <td> -1757.9</td>\n",
       "</tr>\n",
       "<tr>\n",
       "  <th>No. Observations:</th>      <td>   506</td>      <th>  AIC:               </th> <td>   3524.</td>\n",
       "</tr>\n",
       "<tr>\n",
       "  <th>Df Residuals:</th>          <td>   502</td>      <th>  BIC:               </th> <td>   3541.</td>\n",
       "</tr>\n",
       "<tr>\n",
       "  <th>Df Model:</th>              <td>     3</td>      <th>                     </th>     <td> </td>   \n",
       "</tr>\n",
       "<tr>\n",
       "  <th>Covariance Type:</th>      <td>nonrobust</td>    <th>                     </th>     <td> </td>   \n",
       "</tr>\n",
       "</table>\n",
       "<table class=\"simpletable\">\n",
       "<tr>\n",
       "    <td></td>       <th>coef</th>     <th>std err</th>      <th>t</th>      <th>P>|t|</th>  <th>[0.025</th>    <th>0.975]</th>  \n",
       "</tr>\n",
       "<tr>\n",
       "  <th>const</th> <td>   -2.5488</td> <td>    2.769</td> <td>   -0.920</td> <td> 0.358</td> <td>   -7.989</td> <td>    2.892</td>\n",
       "</tr>\n",
       "<tr>\n",
       "  <th>x1</th>    <td>    0.2737</td> <td>    0.186</td> <td>    1.468</td> <td> 0.143</td> <td>   -0.093</td> <td>    0.640</td>\n",
       "</tr>\n",
       "<tr>\n",
       "  <th>x2</th>    <td>   -0.0072</td> <td>    0.004</td> <td>   -1.988</td> <td> 0.047</td> <td>   -0.014</td> <td> -8.4e-05</td>\n",
       "</tr>\n",
       "<tr>\n",
       "  <th>x3</th>    <td> 5.745e-05</td> <td> 2.11e-05</td> <td>    2.724</td> <td> 0.007</td> <td>  1.6e-05</td> <td> 9.89e-05</td>\n",
       "</tr>\n",
       "</table>\n",
       "<table class=\"simpletable\">\n",
       "<tr>\n",
       "  <th>Omnibus:</th>       <td>577.477</td> <th>  Durbin-Watson:     </th> <td>   1.025</td> \n",
       "</tr>\n",
       "<tr>\n",
       "  <th>Prob(Omnibus):</th> <td> 0.000</td>  <th>  Jarque-Bera (JB):  </th> <td>39586.670</td>\n",
       "</tr>\n",
       "<tr>\n",
       "  <th>Skew:</th>          <td> 5.336</td>  <th>  Prob(JB):          </th> <td>    0.00</td> \n",
       "</tr>\n",
       "<tr>\n",
       "  <th>Kurtosis:</th>      <td>44.997</td>  <th>  Cond. No.          </th> <td>4.74e+06</td> \n",
       "</tr>\n",
       "</table><br/><br/>Warnings:<br/>[1] Standard Errors assume that the covariance matrix of the errors is correctly specified.<br/>[2] The condition number is large, 4.74e+06. This might indicate that there are<br/>strong multicollinearity or other numerical problems."
      ],
      "text/plain": [
       "<class 'statsmodels.iolib.summary.Summary'>\n",
       "\"\"\"\n",
       "                            OLS Regression Results                            \n",
       "==============================================================================\n",
       "Dep. Variable:                      y   R-squared:                       0.174\n",
       "Model:                            OLS   Adj. R-squared:                  0.169\n",
       "Method:                 Least Squares   F-statistic:                     35.31\n",
       "Date:                Sat, 18 Apr 2020   Prob (F-statistic):           1.02e-20\n",
       "Time:                        18:28:09   Log-Likelihood:                -1757.9\n",
       "No. Observations:                 506   AIC:                             3524.\n",
       "Df Residuals:                     502   BIC:                             3541.\n",
       "Df Model:                           3                                         \n",
       "Covariance Type:            nonrobust                                         \n",
       "==============================================================================\n",
       "                 coef    std err          t      P>|t|      [0.025      0.975]\n",
       "------------------------------------------------------------------------------\n",
       "const         -2.5488      2.769     -0.920      0.358      -7.989       2.892\n",
       "x1             0.2737      0.186      1.468      0.143      -0.093       0.640\n",
       "x2            -0.0072      0.004     -1.988      0.047      -0.014    -8.4e-05\n",
       "x3          5.745e-05   2.11e-05      2.724      0.007     1.6e-05    9.89e-05\n",
       "==============================================================================\n",
       "Omnibus:                      577.477   Durbin-Watson:                   1.025\n",
       "Prob(Omnibus):                  0.000   Jarque-Bera (JB):            39586.670\n",
       "Skew:                           5.336   Prob(JB):                         0.00\n",
       "Kurtosis:                      44.997   Cond. No.                     4.74e+06\n",
       "==============================================================================\n",
       "\n",
       "Warnings:\n",
       "[1] Standard Errors assume that the covariance matrix of the errors is correctly specified.\n",
       "[2] The condition number is large, 4.74e+06. This might indicate that there are\n",
       "strong multicollinearity or other numerical problems.\n",
       "\"\"\""
      ]
     },
     "execution_count": 45,
     "metadata": {},
     "output_type": "execute_result"
    }
   ],
   "source": [
    "X_dataset=pd.DataFrame(np.c_[Boston['AGE']], columns = ['AGE'])\n",
    "y_dataset=Boston['CRIM']\n",
    "X=X_dataset.iloc[:].values\n",
    "y=y_dataset.iloc[:].values\n",
    "import statsmodels.api as sm\n",
    "poly = PolynomialFeatures(degree=3)\n",
    "X_F1_poly = poly.fit_transform(X_dataset)\n",
    "X_with_const=sm.add_constant(X_poly)\n",
    "model=sm.OLS(endog=y,exog=X_with_const)\n",
    "results=model.fit()\n",
    "results.summary()"
   ]
  },
  {
   "cell_type": "code",
   "execution_count": 46,
   "metadata": {},
   "outputs": [
    {
     "data": {
      "text/plain": [
       "LinearRegression(copy_X=True, fit_intercept=True, n_jobs=None, normalize=False)"
      ]
     },
     "execution_count": 46,
     "metadata": {},
     "output_type": "execute_result"
    }
   ],
   "source": [
    "X = pd.DataFrame(np.c_[Boston['DIS']], columns = ['DIS'])\n",
    "Y = Boston['CRIM']\n",
    "linreg7 = LinearRegression()\n",
    "linreg7.fit(X,Y)"
   ]
  },
  {
   "cell_type": "code",
   "execution_count": 47,
   "metadata": {},
   "outputs": [
    {
     "name": "stdout",
     "output_type": "stream",
     "text": [
      "linear model coeff (w): [-1.55090168]\n",
      "linear model intercept (b): 9.499\n",
      "R-squared score (training): 0.144\n"
     ]
    }
   ],
   "source": [
    "print('linear model coeff (w): {}'\n",
    "     .format(linreg7.coef_))\n",
    "print('linear model intercept (b): {:.3f}'\n",
    "     .format(linreg7.intercept_))\n",
    "print('R-squared score (training): {:.3f}'\n",
    "     .format(linreg7.score(X,Y)))"
   ]
  },
  {
   "cell_type": "code",
   "execution_count": 48,
   "metadata": {},
   "outputs": [
    {
     "data": {
      "text/html": [
       "<table class=\"simpletable\">\n",
       "<caption>OLS Regression Results</caption>\n",
       "<tr>\n",
       "  <th>Dep. Variable:</th>            <td>y</td>        <th>  R-squared:         </th> <td>   0.144</td>\n",
       "</tr>\n",
       "<tr>\n",
       "  <th>Model:</th>                   <td>OLS</td>       <th>  Adj. R-squared:    </th> <td>   0.142</td>\n",
       "</tr>\n",
       "<tr>\n",
       "  <th>Method:</th>             <td>Least Squares</td>  <th>  F-statistic:       </th> <td>   84.89</td>\n",
       "</tr>\n",
       "<tr>\n",
       "  <th>Date:</th>             <td>Sat, 18 Apr 2020</td> <th>  Prob (F-statistic):</th> <td>8.52e-19</td>\n",
       "</tr>\n",
       "<tr>\n",
       "  <th>Time:</th>                 <td>18:28:10</td>     <th>  Log-Likelihood:    </th> <td> -1767.0</td>\n",
       "</tr>\n",
       "<tr>\n",
       "  <th>No. Observations:</th>      <td>   506</td>      <th>  AIC:               </th> <td>   3538.</td>\n",
       "</tr>\n",
       "<tr>\n",
       "  <th>Df Residuals:</th>          <td>   504</td>      <th>  BIC:               </th> <td>   3546.</td>\n",
       "</tr>\n",
       "<tr>\n",
       "  <th>Df Model:</th>              <td>     1</td>      <th>                     </th>     <td> </td>   \n",
       "</tr>\n",
       "<tr>\n",
       "  <th>Covariance Type:</th>      <td>nonrobust</td>    <th>                     </th>     <td> </td>   \n",
       "</tr>\n",
       "</table>\n",
       "<table class=\"simpletable\">\n",
       "<tr>\n",
       "    <td></td>       <th>coef</th>     <th>std err</th>      <th>t</th>      <th>P>|t|</th>  <th>[0.025</th>    <th>0.975]</th>  \n",
       "</tr>\n",
       "<tr>\n",
       "  <th>const</th> <td>    9.4993</td> <td>    0.730</td> <td>   13.006</td> <td> 0.000</td> <td>    8.064</td> <td>   10.934</td>\n",
       "</tr>\n",
       "<tr>\n",
       "  <th>x1</th>    <td>   -1.5509</td> <td>    0.168</td> <td>   -9.213</td> <td> 0.000</td> <td>   -1.882</td> <td>   -1.220</td>\n",
       "</tr>\n",
       "</table>\n",
       "<table class=\"simpletable\">\n",
       "<tr>\n",
       "  <th>Omnibus:</th>       <td>576.519</td> <th>  Durbin-Watson:     </th> <td>   0.952</td> \n",
       "</tr>\n",
       "<tr>\n",
       "  <th>Prob(Omnibus):</th> <td> 0.000</td>  <th>  Jarque-Bera (JB):  </th> <td>37426.729</td>\n",
       "</tr>\n",
       "<tr>\n",
       "  <th>Skew:</th>          <td> 5.348</td>  <th>  Prob(JB):          </th> <td>    0.00</td> \n",
       "</tr>\n",
       "<tr>\n",
       "  <th>Kurtosis:</th>      <td>43.753</td>  <th>  Cond. No.          </th> <td>    9.32</td> \n",
       "</tr>\n",
       "</table><br/><br/>Warnings:<br/>[1] Standard Errors assume that the covariance matrix of the errors is correctly specified."
      ],
      "text/plain": [
       "<class 'statsmodels.iolib.summary.Summary'>\n",
       "\"\"\"\n",
       "                            OLS Regression Results                            \n",
       "==============================================================================\n",
       "Dep. Variable:                      y   R-squared:                       0.144\n",
       "Model:                            OLS   Adj. R-squared:                  0.142\n",
       "Method:                 Least Squares   F-statistic:                     84.89\n",
       "Date:                Sat, 18 Apr 2020   Prob (F-statistic):           8.52e-19\n",
       "Time:                        18:28:10   Log-Likelihood:                -1767.0\n",
       "No. Observations:                 506   AIC:                             3538.\n",
       "Df Residuals:                     504   BIC:                             3546.\n",
       "Df Model:                           1                                         \n",
       "Covariance Type:            nonrobust                                         \n",
       "==============================================================================\n",
       "                 coef    std err          t      P>|t|      [0.025      0.975]\n",
       "------------------------------------------------------------------------------\n",
       "const          9.4993      0.730     13.006      0.000       8.064      10.934\n",
       "x1            -1.5509      0.168     -9.213      0.000      -1.882      -1.220\n",
       "==============================================================================\n",
       "Omnibus:                      576.519   Durbin-Watson:                   0.952\n",
       "Prob(Omnibus):                  0.000   Jarque-Bera (JB):            37426.729\n",
       "Skew:                           5.348   Prob(JB):                         0.00\n",
       "Kurtosis:                      43.753   Cond. No.                         9.32\n",
       "==============================================================================\n",
       "\n",
       "Warnings:\n",
       "[1] Standard Errors assume that the covariance matrix of the errors is correctly specified.\n",
       "\"\"\""
      ]
     },
     "execution_count": 48,
     "metadata": {},
     "output_type": "execute_result"
    }
   ],
   "source": [
    "x = pd.DataFrame(np.c_[Boston['DIS']], columns = ['DIS'])\n",
    "Y = Boston['CRIM']\n",
    "X = x.iloc[:].values\n",
    "y = Y.iloc[:].values\n",
    "X_with_const=sm.add_constant(X)\n",
    "model=sm.OLS(endog=y,exog=X_with_const)\n",
    "results=model.fit()\n",
    "results.summary()"
   ]
  },
  {
   "cell_type": "code",
   "execution_count": 49,
   "metadata": {},
   "outputs": [
    {
     "data": {
      "text/plain": [
       "[<matplotlib.lines.Line2D at 0x23beb7211d0>]"
      ]
     },
     "execution_count": 49,
     "metadata": {},
     "output_type": "execute_result"
    },
    {
     "data": {
      "image/png": "[encoded data removed]",
      "text/plain": [
       "<Figure size 1440x360 with 1 Axes>"
      ]
     },
     "metadata": {
      "needs_background": "light"
     },
     "output_type": "display_data"
    }
   ],
   "source": [
    "plt.figure(figsize=(20, 5))\n",
    "\n",
    "features = ['DIS']\n",
    "target = Boston['CRIM']\n",
    "for i, col in enumerate(features):\n",
    "    plt.subplot(1, len(features) , i+1)\n",
    "x = Boston[col]\n",
    "y = target\n",
    "plt.scatter(x, y, marker='o')\n",
    "plt.title('Crime vs DIS')\n",
    "plt.xlabel(col)\n",
    "plt.ylabel('CRIM')\n",
    "plt.plot(X, linreg7.coef_ * X + linreg7.intercept_, 'r-')"
   ]
  },
  {
   "cell_type": "code",
   "execution_count": 50,
   "metadata": {},
   "outputs": [
    {
     "name": "stdout",
     "output_type": "stream",
     "text": [
      "(poly deg 3) linear model coeff (w):\n",
      "[  0.         -15.55435349   2.45207217  -0.11859864]\n",
      "(poly deg 3) linear model intercept (b): 30.048\n",
      "(poly deg 3) R-squared score (training): 0.278\n"
     ]
    }
   ],
   "source": [
    "poly = PolynomialFeatures(degree=3)\n",
    "X_poly = poly.fit_transform(X)\n",
    "linreg = LinearRegression().fit(X_poly, Y)\n",
    "\n",
    "print('(poly deg 3) linear model coeff (w):\\n{}'\n",
    "     .format(linreg.coef_))\n",
    "print('(poly deg 3) linear model intercept (b): {:.3f}'\n",
    "     .format(linreg.intercept_))\n",
    "print('(poly deg 3) R-squared score (training): {:.3f}'\n",
    "     .format(linreg.score(X_poly, Y)))"
   ]
  },
  {
   "cell_type": "code",
   "execution_count": 51,
   "metadata": {},
   "outputs": [
    {
     "data": {
      "text/html": [
       "<table class=\"simpletable\">\n",
       "<caption>OLS Regression Results</caption>\n",
       "<tr>\n",
       "  <th>Dep. Variable:</th>            <td>y</td>        <th>  R-squared:         </th> <td>   0.278</td>\n",
       "</tr>\n",
       "<tr>\n",
       "  <th>Model:</th>                   <td>OLS</td>       <th>  Adj. R-squared:    </th> <td>   0.274</td>\n",
       "</tr>\n",
       "<tr>\n",
       "  <th>Method:</th>             <td>Least Squares</td>  <th>  F-statistic:       </th> <td>   64.37</td>\n",
       "</tr>\n",
       "<tr>\n",
       "  <th>Date:</th>             <td>Sat, 18 Apr 2020</td> <th>  Prob (F-statistic):</th> <td>3.14e-35</td>\n",
       "</tr>\n",
       "<tr>\n",
       "  <th>Time:</th>                 <td>18:28:10</td>     <th>  Log-Likelihood:    </th> <td> -1724.0</td>\n",
       "</tr>\n",
       "<tr>\n",
       "  <th>No. Observations:</th>      <td>   506</td>      <th>  AIC:               </th> <td>   3456.</td>\n",
       "</tr>\n",
       "<tr>\n",
       "  <th>Df Residuals:</th>          <td>   502</td>      <th>  BIC:               </th> <td>   3473.</td>\n",
       "</tr>\n",
       "<tr>\n",
       "  <th>Df Model:</th>              <td>     3</td>      <th>                     </th>     <td> </td>   \n",
       "</tr>\n",
       "<tr>\n",
       "  <th>Covariance Type:</th>      <td>nonrobust</td>    <th>                     </th>     <td> </td>   \n",
       "</tr>\n",
       "</table>\n",
       "<table class=\"simpletable\">\n",
       "<tr>\n",
       "    <td></td>       <th>coef</th>     <th>std err</th>      <th>t</th>      <th>P>|t|</th>  <th>[0.025</th>    <th>0.975]</th>  \n",
       "</tr>\n",
       "<tr>\n",
       "  <th>const</th> <td>   30.0476</td> <td>    2.446</td> <td>   12.285</td> <td> 0.000</td> <td>   25.242</td> <td>   34.853</td>\n",
       "</tr>\n",
       "<tr>\n",
       "  <th>x1</th>    <td>  -15.5544</td> <td>    1.736</td> <td>   -8.960</td> <td> 0.000</td> <td>  -18.965</td> <td>  -12.144</td>\n",
       "</tr>\n",
       "<tr>\n",
       "  <th>x2</th>    <td>    2.4521</td> <td>    0.346</td> <td>    7.078</td> <td> 0.000</td> <td>    1.771</td> <td>    3.133</td>\n",
       "</tr>\n",
       "<tr>\n",
       "  <th>x3</th>    <td>   -0.1186</td> <td>    0.020</td> <td>   -5.814</td> <td> 0.000</td> <td>   -0.159</td> <td>   -0.079</td>\n",
       "</tr>\n",
       "</table>\n",
       "<table class=\"simpletable\">\n",
       "<tr>\n",
       "  <th>Omnibus:</th>       <td>577.742</td> <th>  Durbin-Watson:     </th> <td>   1.129</td> \n",
       "</tr>\n",
       "<tr>\n",
       "  <th>Prob(Omnibus):</th> <td> 0.000</td>  <th>  Jarque-Bera (JB):  </th> <td>42444.706</td>\n",
       "</tr>\n",
       "<tr>\n",
       "  <th>Skew:</th>          <td> 5.305</td>  <th>  Prob(JB):          </th> <td>    0.00</td> \n",
       "</tr>\n",
       "<tr>\n",
       "  <th>Kurtosis:</th>      <td>46.596</td>  <th>  Cond. No.          </th> <td>2.10e+03</td> \n",
       "</tr>\n",
       "</table><br/><br/>Warnings:<br/>[1] Standard Errors assume that the covariance matrix of the errors is correctly specified.<br/>[2] The condition number is large, 2.1e+03. This might indicate that there are<br/>strong multicollinearity or other numerical problems."
      ],
      "text/plain": [
       "<class 'statsmodels.iolib.summary.Summary'>\n",
       "\"\"\"\n",
       "                            OLS Regression Results                            \n",
       "==============================================================================\n",
       "Dep. Variable:                      y   R-squared:                       0.278\n",
       "Model:                            OLS   Adj. R-squared:                  0.274\n",
       "Method:                 Least Squares   F-statistic:                     64.37\n",
       "Date:                Sat, 18 Apr 2020   Prob (F-statistic):           3.14e-35\n",
       "Time:                        18:28:10   Log-Likelihood:                -1724.0\n",
       "No. Observations:                 506   AIC:                             3456.\n",
       "Df Residuals:                     502   BIC:                             3473.\n",
       "Df Model:                           3                                         \n",
       "Covariance Type:            nonrobust                                         \n",
       "==============================================================================\n",
       "                 coef    std err          t      P>|t|      [0.025      0.975]\n",
       "------------------------------------------------------------------------------\n",
       "const         30.0476      2.446     12.285      0.000      25.242      34.853\n",
       "x1           -15.5544      1.736     -8.960      0.000     -18.965     -12.144\n",
       "x2             2.4521      0.346      7.078      0.000       1.771       3.133\n",
       "x3            -0.1186      0.020     -5.814      0.000      -0.159      -0.079\n",
       "==============================================================================\n",
       "Omnibus:                      577.742   Durbin-Watson:                   1.129\n",
       "Prob(Omnibus):                  0.000   Jarque-Bera (JB):            42444.706\n",
       "Skew:                           5.305   Prob(JB):                         0.00\n",
       "Kurtosis:                      46.596   Cond. No.                     2.10e+03\n",
       "==============================================================================\n",
       "\n",
       "Warnings:\n",
       "[1] Standard Errors assume that the covariance matrix of the errors is correctly specified.\n",
       "[2] The condition number is large, 2.1e+03. This might indicate that there are\n",
       "strong multicollinearity or other numerical problems.\n",
       "\"\"\""
      ]
     },
     "execution_count": 51,
     "metadata": {},
     "output_type": "execute_result"
    }
   ],
   "source": [
    "X_dataset=pd.DataFrame(np.c_[Boston['DIS']], columns = ['DIS'])\n",
    "y_dataset=Boston['CRIM']\n",
    "X=X_dataset.iloc[:].values\n",
    "y=y_dataset.iloc[:].values\n",
    "import statsmodels.api as sm\n",
    "poly = PolynomialFeatures(degree=3)\n",
    "X_F1_poly = poly.fit_transform(X_dataset)\n",
    "X_with_const=sm.add_constant(X_poly)\n",
    "model=sm.OLS(endog=y,exog=X_with_const)\n",
    "results=model.fit()\n",
    "results.summary()"
   ]
  },
  {
   "cell_type": "code",
   "execution_count": 52,
   "metadata": {},
   "outputs": [
    {
     "data": {
      "text/plain": [
       "LinearRegression(copy_X=True, fit_intercept=True, n_jobs=None, normalize=False)"
      ]
     },
     "execution_count": 52,
     "metadata": {},
     "output_type": "execute_result"
    }
   ],
   "source": [
    "X = pd.DataFrame(np.c_[Boston['RAD']], columns = ['RAD'])\n",
    "Y = Boston['CRIM']\n",
    "linreg8 = LinearRegression()\n",
    "linreg8.fit(X,Y)"
   ]
  },
  {
   "cell_type": "code",
   "execution_count": 53,
   "metadata": {},
   "outputs": [
    {
     "name": "stdout",
     "output_type": "stream",
     "text": [
      "linear model coeff (w): [0.61791093]\n",
      "linear model intercept (b): -2.287\n",
      "R-squared score (training): 0.391\n"
     ]
    }
   ],
   "source": [
    "print('linear model coeff (w): {}'\n",
    "     .format(linreg8.coef_))\n",
    "print('linear model intercept (b): {:.3f}'\n",
    "     .format(linreg8.intercept_))\n",
    "print('R-squared score (training): {:.3f}'\n",
    "     .format(linreg8.score(X,Y)))"
   ]
  },
  {
   "cell_type": "code",
   "execution_count": 54,
   "metadata": {},
   "outputs": [
    {
     "data": {
      "text/html": [
       "<table class=\"simpletable\">\n",
       "<caption>OLS Regression Results</caption>\n",
       "<tr>\n",
       "  <th>Dep. Variable:</th>            <td>y</td>        <th>  R-squared:         </th> <td>   0.391</td>\n",
       "</tr>\n",
       "<tr>\n",
       "  <th>Model:</th>                   <td>OLS</td>       <th>  Adj. R-squared:    </th> <td>   0.390</td>\n",
       "</tr>\n",
       "<tr>\n",
       "  <th>Method:</th>             <td>Least Squares</td>  <th>  F-statistic:       </th> <td>   323.9</td>\n",
       "</tr>\n",
       "<tr>\n",
       "  <th>Date:</th>             <td>Sat, 18 Apr 2020</td> <th>  Prob (F-statistic):</th> <td>2.69e-56</td>\n",
       "</tr>\n",
       "<tr>\n",
       "  <th>Time:</th>                 <td>18:28:10</td>     <th>  Log-Likelihood:    </th> <td> -1680.8</td>\n",
       "</tr>\n",
       "<tr>\n",
       "  <th>No. Observations:</th>      <td>   506</td>      <th>  AIC:               </th> <td>   3366.</td>\n",
       "</tr>\n",
       "<tr>\n",
       "  <th>Df Residuals:</th>          <td>   504</td>      <th>  BIC:               </th> <td>   3374.</td>\n",
       "</tr>\n",
       "<tr>\n",
       "  <th>Df Model:</th>              <td>     1</td>      <th>                     </th>     <td> </td>   \n",
       "</tr>\n",
       "<tr>\n",
       "  <th>Covariance Type:</th>      <td>nonrobust</td>    <th>                     </th>     <td> </td>   \n",
       "</tr>\n",
       "</table>\n",
       "<table class=\"simpletable\">\n",
       "<tr>\n",
       "    <td></td>       <th>coef</th>     <th>std err</th>      <th>t</th>      <th>P>|t|</th>  <th>[0.025</th>    <th>0.975]</th>  \n",
       "</tr>\n",
       "<tr>\n",
       "  <th>const</th> <td>   -2.2872</td> <td>    0.443</td> <td>   -5.157</td> <td> 0.000</td> <td>   -3.158</td> <td>   -1.416</td>\n",
       "</tr>\n",
       "<tr>\n",
       "  <th>x1</th>    <td>    0.6179</td> <td>    0.034</td> <td>   17.998</td> <td> 0.000</td> <td>    0.550</td> <td>    0.685</td>\n",
       "</tr>\n",
       "</table>\n",
       "<table class=\"simpletable\">\n",
       "<tr>\n",
       "  <th>Omnibus:</th>       <td>656.459</td> <th>  Durbin-Watson:     </th> <td>   1.337</td> \n",
       "</tr>\n",
       "<tr>\n",
       "  <th>Prob(Omnibus):</th> <td> 0.000</td>  <th>  Jarque-Bera (JB):  </th> <td>75417.007</td>\n",
       "</tr>\n",
       "<tr>\n",
       "  <th>Skew:</th>          <td> 6.478</td>  <th>  Prob(JB):          </th> <td>    0.00</td> \n",
       "</tr>\n",
       "<tr>\n",
       "  <th>Kurtosis:</th>      <td>61.389</td>  <th>  Cond. No.          </th> <td>    19.2</td> \n",
       "</tr>\n",
       "</table><br/><br/>Warnings:<br/>[1] Standard Errors assume that the covariance matrix of the errors is correctly specified."
      ],
      "text/plain": [
       "<class 'statsmodels.iolib.summary.Summary'>\n",
       "\"\"\"\n",
       "                            OLS Regression Results                            \n",
       "==============================================================================\n",
       "Dep. Variable:                      y   R-squared:                       0.391\n",
       "Model:                            OLS   Adj. R-squared:                  0.390\n",
       "Method:                 Least Squares   F-statistic:                     323.9\n",
       "Date:                Sat, 18 Apr 2020   Prob (F-statistic):           2.69e-56\n",
       "Time:                        18:28:10   Log-Likelihood:                -1680.8\n",
       "No. Observations:                 506   AIC:                             3366.\n",
       "Df Residuals:                     504   BIC:                             3374.\n",
       "Df Model:                           1                                         \n",
       "Covariance Type:            nonrobust                                         \n",
       "==============================================================================\n",
       "                 coef    std err          t      P>|t|      [0.025      0.975]\n",
       "------------------------------------------------------------------------------\n",
       "const         -2.2872      0.443     -5.157      0.000      -3.158      -1.416\n",
       "x1             0.6179      0.034     17.998      0.000       0.550       0.685\n",
       "==============================================================================\n",
       "Omnibus:                      656.459   Durbin-Watson:                   1.337\n",
       "Prob(Omnibus):                  0.000   Jarque-Bera (JB):            75417.007\n",
       "Skew:                           6.478   Prob(JB):                         0.00\n",
       "Kurtosis:                      61.389   Cond. No.                         19.2\n",
       "==============================================================================\n",
       "\n",
       "Warnings:\n",
       "[1] Standard Errors assume that the covariance matrix of the errors is correctly specified.\n",
       "\"\"\""
      ]
     },
     "execution_count": 54,
     "metadata": {},
     "output_type": "execute_result"
    }
   ],
   "source": [
    "x = pd.DataFrame(np.c_[Boston['RAD']], columns = ['RAD'])\n",
    "Y = Boston['CRIM']\n",
    "X = x.iloc[:].values\n",
    "y = Y.iloc[:].values\n",
    "X_with_const=sm.add_constant(X)\n",
    "model=sm.OLS(endog=y,exog=X_with_const)\n",
    "results=model.fit()\n",
    "results.summary()"
   ]
  },
  {
   "cell_type": "code",
   "execution_count": 55,
   "metadata": {},
   "outputs": [
    {
     "data": {
      "text/plain": [
       "[<matplotlib.lines.Line2D at 0x23bec03a7f0>]"
      ]
     },
     "execution_count": 55,
     "metadata": {},
     "output_type": "execute_result"
    },
    {
     "data": {
      "image/png": "[encoded data removed]",
      "text/plain": [
       "<Figure size 1440x360 with 1 Axes>"
      ]
     },
     "metadata": {
      "needs_background": "light"
     },
     "output_type": "display_data"
    }
   ],
   "source": [
    "plt.figure(figsize=(20, 5))\n",
    "\n",
    "features = ['RAD']\n",
    "target = Boston['CRIM']\n",
    "\n",
    "for i, col in enumerate(features):\n",
    "    plt.subplot(1, len(features) , i+1)\n",
    "x = Boston[col]\n",
    "y = target\n",
    "plt.scatter(x, y, marker='o')\n",
    "plt.title('Crime vs RAD')\n",
    "plt.xlabel(col)\n",
    "plt.ylabel('CRIM')\n",
    "plt.plot(X, linreg8.coef_ * X + linreg8.intercept_, 'r-')"
   ]
  },
  {
   "cell_type": "code",
   "execution_count": 56,
   "metadata": {},
   "outputs": [
    {
     "name": "stdout",
     "output_type": "stream",
     "text": [
      "(poly deg 3) linear model coeff (w):\n",
      "[ 0.          0.51273604 -0.07517736  0.003209  ]\n",
      "(poly deg 3) linear model intercept (b): -0.606\n",
      "(poly deg 3) R-squared score (training): 0.400\n"
     ]
    }
   ],
   "source": [
    "poly = PolynomialFeatures(degree=3)\n",
    "X_poly = poly.fit_transform(X)\n",
    "linreg = LinearRegression().fit(X_poly, Y)\n",
    "\n",
    "print('(poly deg 3) linear model coeff (w):\\n{}'\n",
    "     .format(linreg.coef_))\n",
    "print('(poly deg 3) linear model intercept (b): {:.3f}'\n",
    "     .format(linreg.intercept_))\n",
    "print('(poly deg 3) R-squared score (training): {:.3f}'\n",
    "     .format(linreg.score(X_poly, Y)))"
   ]
  },
  {
   "cell_type": "code",
   "execution_count": 57,
   "metadata": {},
   "outputs": [
    {
     "data": {
      "text/html": [
       "<table class=\"simpletable\">\n",
       "<caption>OLS Regression Results</caption>\n",
       "<tr>\n",
       "  <th>Dep. Variable:</th>            <td>y</td>        <th>  R-squared:         </th> <td>   0.400</td>\n",
       "</tr>\n",
       "<tr>\n",
       "  <th>Model:</th>                   <td>OLS</td>       <th>  Adj. R-squared:    </th> <td>   0.396</td>\n",
       "</tr>\n",
       "<tr>\n",
       "  <th>Method:</th>             <td>Least Squares</td>  <th>  F-statistic:       </th> <td>   111.6</td>\n",
       "</tr>\n",
       "<tr>\n",
       "  <th>Date:</th>             <td>Sat, 18 Apr 2020</td> <th>  Prob (F-statistic):</th> <td>2.31e-55</td>\n",
       "</tr>\n",
       "<tr>\n",
       "  <th>Time:</th>                 <td>18:28:10</td>     <th>  Log-Likelihood:    </th> <td> -1677.1</td>\n",
       "</tr>\n",
       "<tr>\n",
       "  <th>No. Observations:</th>      <td>   506</td>      <th>  AIC:               </th> <td>   3362.</td>\n",
       "</tr>\n",
       "<tr>\n",
       "  <th>Df Residuals:</th>          <td>   502</td>      <th>  BIC:               </th> <td>   3379.</td>\n",
       "</tr>\n",
       "<tr>\n",
       "  <th>Df Model:</th>              <td>     3</td>      <th>                     </th>     <td> </td>   \n",
       "</tr>\n",
       "<tr>\n",
       "  <th>Covariance Type:</th>      <td>nonrobust</td>    <th>                     </th>     <td> </td>   \n",
       "</tr>\n",
       "</table>\n",
       "<table class=\"simpletable\">\n",
       "<tr>\n",
       "    <td></td>       <th>coef</th>     <th>std err</th>      <th>t</th>      <th>P>|t|</th>  <th>[0.025</th>    <th>0.975]</th>  \n",
       "</tr>\n",
       "<tr>\n",
       "  <th>const</th> <td>   -0.6055</td> <td>    2.050</td> <td>   -0.295</td> <td> 0.768</td> <td>   -4.633</td> <td>    3.422</td>\n",
       "</tr>\n",
       "<tr>\n",
       "  <th>x1</th>    <td>    0.5127</td> <td>    1.044</td> <td>    0.491</td> <td> 0.623</td> <td>   -1.538</td> <td>    2.563</td>\n",
       "</tr>\n",
       "<tr>\n",
       "  <th>x2</th>    <td>   -0.0752</td> <td>    0.149</td> <td>   -0.506</td> <td> 0.613</td> <td>   -0.367</td> <td>    0.217</td>\n",
       "</tr>\n",
       "<tr>\n",
       "  <th>x3</th>    <td>    0.0032</td> <td>    0.005</td> <td>    0.703</td> <td> 0.482</td> <td>   -0.006</td> <td>    0.012</td>\n",
       "</tr>\n",
       "</table>\n",
       "<table class=\"simpletable\">\n",
       "<tr>\n",
       "  <th>Omnibus:</th>       <td>659.751</td> <th>  Durbin-Watson:     </th> <td>   1.351</td> \n",
       "</tr>\n",
       "<tr>\n",
       "  <th>Prob(Omnibus):</th> <td> 0.000</td>  <th>  Jarque-Bera (JB):  </th> <td>77838.247</td>\n",
       "</tr>\n",
       "<tr>\n",
       "  <th>Skew:</th>          <td> 6.526</td>  <th>  Prob(JB):          </th> <td>    0.00</td> \n",
       "</tr>\n",
       "<tr>\n",
       "  <th>Kurtosis:</th>      <td>62.343</td>  <th>  Cond. No.          </th> <td>5.43e+04</td> \n",
       "</tr>\n",
       "</table><br/><br/>Warnings:<br/>[1] Standard Errors assume that the covariance matrix of the errors is correctly specified.<br/>[2] The condition number is large, 5.43e+04. This might indicate that there are<br/>strong multicollinearity or other numerical problems."
      ],
      "text/plain": [
       "<class 'statsmodels.iolib.summary.Summary'>\n",
       "\"\"\"\n",
       "                            OLS Regression Results                            \n",
       "==============================================================================\n",
       "Dep. Variable:                      y   R-squared:                       0.400\n",
       "Model:                            OLS   Adj. R-squared:                  0.396\n",
       "Method:                 Least Squares   F-statistic:                     111.6\n",
       "Date:                Sat, 18 Apr 2020   Prob (F-statistic):           2.31e-55\n",
       "Time:                        18:28:10   Log-Likelihood:                -1677.1\n",
       "No. Observations:                 506   AIC:                             3362.\n",
       "Df Residuals:                     502   BIC:                             3379.\n",
       "Df Model:                           3                                         \n",
       "Covariance Type:            nonrobust                                         \n",
       "==============================================================================\n",
       "                 coef    std err          t      P>|t|      [0.025      0.975]\n",
       "------------------------------------------------------------------------------\n",
       "const         -0.6055      2.050     -0.295      0.768      -4.633       3.422\n",
       "x1             0.5127      1.044      0.491      0.623      -1.538       2.563\n",
       "x2            -0.0752      0.149     -0.506      0.613      -0.367       0.217\n",
       "x3             0.0032      0.005      0.703      0.482      -0.006       0.012\n",
       "==============================================================================\n",
       "Omnibus:                      659.751   Durbin-Watson:                   1.351\n",
       "Prob(Omnibus):                  0.000   Jarque-Bera (JB):            77838.247\n",
       "Skew:                           6.526   Prob(JB):                         0.00\n",
       "Kurtosis:                      62.343   Cond. No.                     5.43e+04\n",
       "==============================================================================\n",
       "\n",
       "Warnings:\n",
       "[1] Standard Errors assume that the covariance matrix of the errors is correctly specified.\n",
       "[2] The condition number is large, 5.43e+04. This might indicate that there are\n",
       "strong multicollinearity or other numerical problems.\n",
       "\"\"\""
      ]
     },
     "execution_count": 57,
     "metadata": {},
     "output_type": "execute_result"
    }
   ],
   "source": [
    "X_dataset=pd.DataFrame(np.c_[Boston['RAD']], columns = ['RAD'])\n",
    "y_dataset=Boston['CRIM']\n",
    "X=X_dataset.iloc[:].values\n",
    "y=y_dataset.iloc[:].values\n",
    "import statsmodels.api as sm\n",
    "poly = PolynomialFeatures(degree=3)\n",
    "X_F1_poly = poly.fit_transform(X_dataset)\n",
    "X_with_const=sm.add_constant(X_poly)\n",
    "model=sm.OLS(endog=y,exog=X_with_const)\n",
    "results=model.fit()\n",
    "results.summary()"
   ]
  },
  {
   "cell_type": "code",
   "execution_count": 58,
   "metadata": {},
   "outputs": [
    {
     "data": {
      "text/plain": [
       "LinearRegression(copy_X=True, fit_intercept=True, n_jobs=None, normalize=False)"
      ]
     },
     "execution_count": 58,
     "metadata": {},
     "output_type": "execute_result"
    }
   ],
   "source": [
    "X = pd.DataFrame(np.c_[Boston['TAX']], columns = ['TAX'])\n",
    "Y = Boston['CRIM']\n",
    "linreg9 = LinearRegression()\n",
    "linreg9.fit(X,Y)"
   ]
  },
  {
   "cell_type": "code",
   "execution_count": 59,
   "metadata": {},
   "outputs": [
    {
     "name": "stdout",
     "output_type": "stream",
     "text": [
      "linear model coeff (w): [0.02974225]\n",
      "linear model intercept (b): -8.528\n",
      "R-squared score (training): 0.340\n"
     ]
    }
   ],
   "source": [
    "print('linear model coeff (w): {}'\n",
    "     .format(linreg9.coef_))\n",
    "print('linear model intercept (b): {:.3f}'\n",
    "     .format(linreg9.intercept_))\n",
    "print('R-squared score (training): {:.3f}'\n",
    "     .format(linreg9.score(X,Y)))"
   ]
  },
  {
   "cell_type": "code",
   "execution_count": 60,
   "metadata": {},
   "outputs": [
    {
     "data": {
      "text/html": [
       "<table class=\"simpletable\">\n",
       "<caption>OLS Regression Results</caption>\n",
       "<tr>\n",
       "  <th>Dep. Variable:</th>            <td>y</td>        <th>  R-squared:         </th> <td>   0.340</td>\n",
       "</tr>\n",
       "<tr>\n",
       "  <th>Model:</th>                   <td>OLS</td>       <th>  Adj. R-squared:    </th> <td>   0.338</td>\n",
       "</tr>\n",
       "<tr>\n",
       "  <th>Method:</th>             <td>Least Squares</td>  <th>  F-statistic:       </th> <td>   259.2</td>\n",
       "</tr>\n",
       "<tr>\n",
       "  <th>Date:</th>             <td>Sat, 18 Apr 2020</td> <th>  Prob (F-statistic):</th> <td>2.36e-47</td>\n",
       "</tr>\n",
       "<tr>\n",
       "  <th>Time:</th>                 <td>18:28:10</td>     <th>  Log-Likelihood:    </th> <td> -1701.4</td>\n",
       "</tr>\n",
       "<tr>\n",
       "  <th>No. Observations:</th>      <td>   506</td>      <th>  AIC:               </th> <td>   3407.</td>\n",
       "</tr>\n",
       "<tr>\n",
       "  <th>Df Residuals:</th>          <td>   504</td>      <th>  BIC:               </th> <td>   3415.</td>\n",
       "</tr>\n",
       "<tr>\n",
       "  <th>Df Model:</th>              <td>     1</td>      <th>                     </th>     <td> </td>   \n",
       "</tr>\n",
       "<tr>\n",
       "  <th>Covariance Type:</th>      <td>nonrobust</td>    <th>                     </th>     <td> </td>   \n",
       "</tr>\n",
       "</table>\n",
       "<table class=\"simpletable\">\n",
       "<tr>\n",
       "    <td></td>       <th>coef</th>     <th>std err</th>      <th>t</th>      <th>P>|t|</th>  <th>[0.025</th>    <th>0.975]</th>  \n",
       "</tr>\n",
       "<tr>\n",
       "  <th>const</th> <td>   -8.5284</td> <td>    0.816</td> <td>  -10.454</td> <td> 0.000</td> <td>  -10.131</td> <td>   -6.926</td>\n",
       "</tr>\n",
       "<tr>\n",
       "  <th>x1</th>    <td>    0.0297</td> <td>    0.002</td> <td>   16.099</td> <td> 0.000</td> <td>    0.026</td> <td>    0.033</td>\n",
       "</tr>\n",
       "</table>\n",
       "<table class=\"simpletable\">\n",
       "<tr>\n",
       "  <th>Omnibus:</th>       <td>635.377</td> <th>  Durbin-Watson:     </th> <td>   1.252</td> \n",
       "</tr>\n",
       "<tr>\n",
       "  <th>Prob(Omnibus):</th> <td> 0.000</td>  <th>  Jarque-Bera (JB):  </th> <td>63763.835</td>\n",
       "</tr>\n",
       "<tr>\n",
       "  <th>Skew:</th>          <td> 6.156</td>  <th>  Prob(JB):          </th> <td>    0.00</td> \n",
       "</tr>\n",
       "<tr>\n",
       "  <th>Kurtosis:</th>      <td>56.599</td>  <th>  Cond. No.          </th> <td>1.16e+03</td> \n",
       "</tr>\n",
       "</table><br/><br/>Warnings:<br/>[1] Standard Errors assume that the covariance matrix of the errors is correctly specified.<br/>[2] The condition number is large, 1.16e+03. This might indicate that there are<br/>strong multicollinearity or other numerical problems."
      ],
      "text/plain": [
       "<class 'statsmodels.iolib.summary.Summary'>\n",
       "\"\"\"\n",
       "                            OLS Regression Results                            \n",
       "==============================================================================\n",
       "Dep. Variable:                      y   R-squared:                       0.340\n",
       "Model:                            OLS   Adj. R-squared:                  0.338\n",
       "Method:                 Least Squares   F-statistic:                     259.2\n",
       "Date:                Sat, 18 Apr 2020   Prob (F-statistic):           2.36e-47\n",
       "Time:                        18:28:10   Log-Likelihood:                -1701.4\n",
       "No. Observations:                 506   AIC:                             3407.\n",
       "Df Residuals:                     504   BIC:                             3415.\n",
       "Df Model:                           1                                         \n",
       "Covariance Type:            nonrobust                                         \n",
       "==============================================================================\n",
       "                 coef    std err          t      P>|t|      [0.025      0.975]\n",
       "------------------------------------------------------------------------------\n",
       "const         -8.5284      0.816    -10.454      0.000     -10.131      -6.926\n",
       "x1             0.0297      0.002     16.099      0.000       0.026       0.033\n",
       "==============================================================================\n",
       "Omnibus:                      635.377   Durbin-Watson:                   1.252\n",
       "Prob(Omnibus):                  0.000   Jarque-Bera (JB):            63763.835\n",
       "Skew:                           6.156   Prob(JB):                         0.00\n",
       "Kurtosis:                      56.599   Cond. No.                     1.16e+03\n",
       "==============================================================================\n",
       "\n",
       "Warnings:\n",
       "[1] Standard Errors assume that the covariance matrix of the errors is correctly specified.\n",
       "[2] The condition number is large, 1.16e+03. This might indicate that there are\n",
       "strong multicollinearity or other numerical problems.\n",
       "\"\"\""
      ]
     },
     "execution_count": 60,
     "metadata": {},
     "output_type": "execute_result"
    }
   ],
   "source": [
    "x = pd.DataFrame(np.c_[Boston['TAX']], columns = ['TAX'])\n",
    "Y = Boston['CRIM']\n",
    "X = x.iloc[:].values\n",
    "y = Y.iloc[:].values\n",
    "X_with_const=sm.add_constant(X)\n",
    "model=sm.OLS(endog=y,exog=X_with_const)\n",
    "results=model.fit()\n",
    "results.summary()"
   ]
  },
  {
   "cell_type": "code",
   "execution_count": 61,
   "metadata": {},
   "outputs": [
    {
     "data": {
      "text/plain": [
       "[<matplotlib.lines.Line2D at 0x23bec1d6f60>]"
      ]
     },
     "execution_count": 61,
     "metadata": {},
     "output_type": "execute_result"
    },
    {
     "data": {
      "image/png": "[encoded data removed]",
      "text/plain": [
       "<Figure size 1440x360 with 1 Axes>"
      ]
     },
     "metadata": {
      "needs_background": "light"
     },
     "output_type": "display_data"
    }
   ],
   "source": [
    "plt.figure(figsize=(20, 5))\n",
    "\n",
    "features = ['TAX']\n",
    "target = Boston['CRIM']\n",
    "for i, col in enumerate(features):\n",
    "    plt.subplot(1, len(features) , i+1)\n",
    "x = Boston[col]\n",
    "y = target\n",
    "plt.scatter(x, y, marker='o')\n",
    "plt.title('Crime vs RAD')\n",
    "plt.xlabel(col)\n",
    "plt.ylabel('CRIM')\n",
    "plt.plot(X, linreg9.coef_ * X + linreg9.intercept_, 'r-')"
   ]
  },
  {
   "cell_type": "code",
   "execution_count": 62,
   "metadata": {},
   "outputs": [
    {
     "name": "stdout",
     "output_type": "stream",
     "text": [
      "(poly deg 3) linear model coeff (w):\n",
      "[ 0.00000000e+00 -1.53309613e-01  3.60826646e-04 -2.20371513e-07]\n",
      "(poly deg 3) linear model intercept (b): 19.184\n",
      "(poly deg 3) R-squared score (training): 0.369\n"
     ]
    }
   ],
   "source": [
    "poly = PolynomialFeatures(degree=3)\n",
    "X_poly = poly.fit_transform(X)\n",
    "linreg = LinearRegression().fit(X_poly, Y)\n",
    "\n",
    "print('(poly deg 3) linear model coeff (w):\\n{}'\n",
    "     .format(linreg.coef_))\n",
    "print('(poly deg 3) linear model intercept (b): {:.3f}'\n",
    "     .format(linreg.intercept_))\n",
    "print('(poly deg 3) R-squared score (training): {:.3f}'\n",
    "     .format(linreg.score(X_poly, Y)))"
   ]
  },
  {
   "cell_type": "code",
   "execution_count": 63,
   "metadata": {},
   "outputs": [
    {
     "data": {
      "text/html": [
       "<table class=\"simpletable\">\n",
       "<caption>OLS Regression Results</caption>\n",
       "<tr>\n",
       "  <th>Dep. Variable:</th>            <td>y</td>        <th>  R-squared:         </th> <td>   0.369</td>\n",
       "</tr>\n",
       "<tr>\n",
       "  <th>Model:</th>                   <td>OLS</td>       <th>  Adj. R-squared:    </th> <td>   0.365</td>\n",
       "</tr>\n",
       "<tr>\n",
       "  <th>Method:</th>             <td>Least Squares</td>  <th>  F-statistic:       </th> <td>   97.80</td>\n",
       "</tr>\n",
       "<tr>\n",
       "  <th>Date:</th>             <td>Sat, 18 Apr 2020</td> <th>  Prob (F-statistic):</th> <td>7.34e-50</td>\n",
       "</tr>\n",
       "<tr>\n",
       "  <th>Time:</th>                 <td>18:28:11</td>     <th>  Log-Likelihood:    </th> <td> -1689.9</td>\n",
       "</tr>\n",
       "<tr>\n",
       "  <th>No. Observations:</th>      <td>   506</td>      <th>  AIC:               </th> <td>   3388.</td>\n",
       "</tr>\n",
       "<tr>\n",
       "  <th>Df Residuals:</th>          <td>   502</td>      <th>  BIC:               </th> <td>   3405.</td>\n",
       "</tr>\n",
       "<tr>\n",
       "  <th>Df Model:</th>              <td>     3</td>      <th>                     </th>     <td> </td>   \n",
       "</tr>\n",
       "<tr>\n",
       "  <th>Covariance Type:</th>      <td>nonrobust</td>    <th>                     </th>     <td> </td>   \n",
       "</tr>\n",
       "</table>\n",
       "<table class=\"simpletable\">\n",
       "<tr>\n",
       "    <td></td>       <th>coef</th>     <th>std err</th>      <th>t</th>      <th>P>|t|</th>  <th>[0.025</th>    <th>0.975]</th>  \n",
       "</tr>\n",
       "<tr>\n",
       "  <th>const</th> <td>   19.1836</td> <td>   11.796</td> <td>    1.626</td> <td> 0.105</td> <td>   -3.991</td> <td>   42.358</td>\n",
       "</tr>\n",
       "<tr>\n",
       "  <th>x1</th>    <td>   -0.1533</td> <td>    0.096</td> <td>   -1.602</td> <td> 0.110</td> <td>   -0.341</td> <td>    0.035</td>\n",
       "</tr>\n",
       "<tr>\n",
       "  <th>x2</th>    <td>    0.0004</td> <td>    0.000</td> <td>    1.488</td> <td> 0.137</td> <td>   -0.000</td> <td>    0.001</td>\n",
       "</tr>\n",
       "<tr>\n",
       "  <th>x3</th>    <td>-2.204e-07</td> <td> 1.89e-07</td> <td>   -1.167</td> <td> 0.244</td> <td>-5.91e-07</td> <td> 1.51e-07</td>\n",
       "</tr>\n",
       "</table>\n",
       "<table class=\"simpletable\">\n",
       "<tr>\n",
       "  <th>Omnibus:</th>       <td>644.161</td> <th>  Durbin-Watson:     </th> <td>   1.293</td> \n",
       "</tr>\n",
       "<tr>\n",
       "  <th>Prob(Omnibus):</th> <td> 0.000</td>  <th>  Jarque-Bera (JB):  </th> <td>69773.212</td>\n",
       "</tr>\n",
       "<tr>\n",
       "  <th>Skew:</th>          <td> 6.278</td>  <th>  Prob(JB):          </th> <td>    0.00</td> \n",
       "</tr>\n",
       "<tr>\n",
       "  <th>Kurtosis:</th>      <td>59.141</td>  <th>  Cond. No.          </th> <td>6.16e+09</td> \n",
       "</tr>\n",
       "</table><br/><br/>Warnings:<br/>[1] Standard Errors assume that the covariance matrix of the errors is correctly specified.<br/>[2] The condition number is large, 6.16e+09. This might indicate that there are<br/>strong multicollinearity or other numerical problems."
      ],
      "text/plain": [
       "<class 'statsmodels.iolib.summary.Summary'>\n",
       "\"\"\"\n",
       "                            OLS Regression Results                            \n",
       "==============================================================================\n",
       "Dep. Variable:                      y   R-squared:                       0.369\n",
       "Model:                            OLS   Adj. R-squared:                  0.365\n",
       "Method:                 Least Squares   F-statistic:                     97.80\n",
       "Date:                Sat, 18 Apr 2020   Prob (F-statistic):           7.34e-50\n",
       "Time:                        18:28:11   Log-Likelihood:                -1689.9\n",
       "No. Observations:                 506   AIC:                             3388.\n",
       "Df Residuals:                     502   BIC:                             3405.\n",
       "Df Model:                           3                                         \n",
       "Covariance Type:            nonrobust                                         \n",
       "==============================================================================\n",
       "                 coef    std err          t      P>|t|      [0.025      0.975]\n",
       "------------------------------------------------------------------------------\n",
       "const         19.1836     11.796      1.626      0.105      -3.991      42.358\n",
       "x1            -0.1533      0.096     -1.602      0.110      -0.341       0.035\n",
       "x2             0.0004      0.000      1.488      0.137      -0.000       0.001\n",
       "x3         -2.204e-07   1.89e-07     -1.167      0.244   -5.91e-07    1.51e-07\n",
       "==============================================================================\n",
       "Omnibus:                      644.161   Durbin-Watson:                   1.293\n",
       "Prob(Omnibus):                  0.000   Jarque-Bera (JB):            69773.212\n",
       "Skew:                           6.278   Prob(JB):                         0.00\n",
       "Kurtosis:                      59.141   Cond. No.                     6.16e+09\n",
       "==============================================================================\n",
       "\n",
       "Warnings:\n",
       "[1] Standard Errors assume that the covariance matrix of the errors is correctly specified.\n",
       "[2] The condition number is large, 6.16e+09. This might indicate that there are\n",
       "strong multicollinearity or other numerical problems.\n",
       "\"\"\""
      ]
     },
     "execution_count": 63,
     "metadata": {},
     "output_type": "execute_result"
    }
   ],
   "source": [
    "X_dataset=pd.DataFrame(np.c_[Boston['TAX']], columns = ['TAX'])\n",
    "y_dataset=Boston['CRIM']\n",
    "X=X_dataset.iloc[:].values\n",
    "y=y_dataset.iloc[:].values\n",
    "poly = PolynomialFeatures(degree=3)\n",
    "X_F1_poly = poly.fit_transform(X_dataset)\n",
    "X_with_const=sm.add_constant(X_poly)\n",
    "model=sm.OLS(endog=y,exog=X_with_const)\n",
    "results=model.fit()\n",
    "results.summary()"
   ]
  },
  {
   "cell_type": "code",
   "execution_count": 64,
   "metadata": {},
   "outputs": [
    {
     "data": {
      "text/plain": [
       "LinearRegression(copy_X=True, fit_intercept=True, n_jobs=None, normalize=False)"
      ]
     },
     "execution_count": 64,
     "metadata": {},
     "output_type": "execute_result"
    }
   ],
   "source": [
    "X = pd.DataFrame(np.c_[Boston['PTRATIO']], columns = ['PTRATIO'])\n",
    "Y = Boston['CRIM']\n",
    "linreg10 = LinearRegression()\n",
    "linreg10.fit(X,Y)"
   ]
  },
  {
   "cell_type": "code",
   "execution_count": 65,
   "metadata": {},
   "outputs": [
    {
     "name": "stdout",
     "output_type": "stream",
     "text": [
      "linear model coeff (w): [1.15198279]\n",
      "linear model intercept (b): -17.647\n",
      "R-squared score (training): 0.084\n"
     ]
    }
   ],
   "source": [
    "print('linear model coeff (w): {}'\n",
    "     .format(linreg10.coef_))\n",
    "print('linear model intercept (b): {:.3f}'\n",
    "     .format(linreg10.intercept_))\n",
    "print('R-squared score (training): {:.3f}'\n",
    "     .format(linreg10.score(X,Y)))"
   ]
  },
  {
   "cell_type": "code",
   "execution_count": 66,
   "metadata": {},
   "outputs": [
    {
     "data": {
      "text/html": [
       "<table class=\"simpletable\">\n",
       "<caption>OLS Regression Results</caption>\n",
       "<tr>\n",
       "  <th>Dep. Variable:</th>            <td>y</td>        <th>  R-squared:         </th> <td>   0.084</td>\n",
       "</tr>\n",
       "<tr>\n",
       "  <th>Model:</th>                   <td>OLS</td>       <th>  Adj. R-squared:    </th> <td>   0.082</td>\n",
       "</tr>\n",
       "<tr>\n",
       "  <th>Method:</th>             <td>Least Squares</td>  <th>  F-statistic:       </th> <td>   46.26</td>\n",
       "</tr>\n",
       "<tr>\n",
       "  <th>Date:</th>             <td>Sat, 18 Apr 2020</td> <th>  Prob (F-statistic):</th> <td>2.94e-11</td>\n",
       "</tr>\n",
       "<tr>\n",
       "  <th>Time:</th>                 <td>18:28:11</td>     <th>  Log-Likelihood:    </th> <td> -1784.1</td>\n",
       "</tr>\n",
       "<tr>\n",
       "  <th>No. Observations:</th>      <td>   506</td>      <th>  AIC:               </th> <td>   3572.</td>\n",
       "</tr>\n",
       "<tr>\n",
       "  <th>Df Residuals:</th>          <td>   504</td>      <th>  BIC:               </th> <td>   3581.</td>\n",
       "</tr>\n",
       "<tr>\n",
       "  <th>Df Model:</th>              <td>     1</td>      <th>                     </th>     <td> </td>   \n",
       "</tr>\n",
       "<tr>\n",
       "  <th>Covariance Type:</th>      <td>nonrobust</td>    <th>                     </th>     <td> </td>   \n",
       "</tr>\n",
       "</table>\n",
       "<table class=\"simpletable\">\n",
       "<tr>\n",
       "    <td></td>       <th>coef</th>     <th>std err</th>      <th>t</th>      <th>P>|t|</th>  <th>[0.025</th>    <th>0.975]</th>  \n",
       "</tr>\n",
       "<tr>\n",
       "  <th>const</th> <td>  -17.6469</td> <td>    3.147</td> <td>   -5.607</td> <td> 0.000</td> <td>  -23.830</td> <td>  -11.464</td>\n",
       "</tr>\n",
       "<tr>\n",
       "  <th>x1</th>    <td>    1.1520</td> <td>    0.169</td> <td>    6.801</td> <td> 0.000</td> <td>    0.819</td> <td>    1.485</td>\n",
       "</tr>\n",
       "</table>\n",
       "<table class=\"simpletable\">\n",
       "<tr>\n",
       "  <th>Omnibus:</th>       <td>568.053</td> <th>  Durbin-Watson:     </th> <td>   0.905</td> \n",
       "</tr>\n",
       "<tr>\n",
       "  <th>Prob(Omnibus):</th> <td> 0.000</td>  <th>  Jarque-Bera (JB):  </th> <td>34221.853</td>\n",
       "</tr>\n",
       "<tr>\n",
       "  <th>Skew:</th>          <td> 5.245</td>  <th>  Prob(JB):          </th> <td>    0.00</td> \n",
       "</tr>\n",
       "<tr>\n",
       "  <th>Kurtosis:</th>      <td>41.899</td>  <th>  Cond. No.          </th> <td>    160.</td> \n",
       "</tr>\n",
       "</table><br/><br/>Warnings:<br/>[1] Standard Errors assume that the covariance matrix of the errors is correctly specified."
      ],
      "text/plain": [
       "<class 'statsmodels.iolib.summary.Summary'>\n",
       "\"\"\"\n",
       "                            OLS Regression Results                            \n",
       "==============================================================================\n",
       "Dep. Variable:                      y   R-squared:                       0.084\n",
       "Model:                            OLS   Adj. R-squared:                  0.082\n",
       "Method:                 Least Squares   F-statistic:                     46.26\n",
       "Date:                Sat, 18 Apr 2020   Prob (F-statistic):           2.94e-11\n",
       "Time:                        18:28:11   Log-Likelihood:                -1784.1\n",
       "No. Observations:                 506   AIC:                             3572.\n",
       "Df Residuals:                     504   BIC:                             3581.\n",
       "Df Model:                           1                                         \n",
       "Covariance Type:            nonrobust                                         \n",
       "==============================================================================\n",
       "                 coef    std err          t      P>|t|      [0.025      0.975]\n",
       "------------------------------------------------------------------------------\n",
       "const        -17.6469      3.147     -5.607      0.000     -23.830     -11.464\n",
       "x1             1.1520      0.169      6.801      0.000       0.819       1.485\n",
       "==============================================================================\n",
       "Omnibus:                      568.053   Durbin-Watson:                   0.905\n",
       "Prob(Omnibus):                  0.000   Jarque-Bera (JB):            34221.853\n",
       "Skew:                           5.245   Prob(JB):                         0.00\n",
       "Kurtosis:                      41.899   Cond. No.                         160.\n",
       "==============================================================================\n",
       "\n",
       "Warnings:\n",
       "[1] Standard Errors assume that the covariance matrix of the errors is correctly specified.\n",
       "\"\"\""
      ]
     },
     "execution_count": 66,
     "metadata": {},
     "output_type": "execute_result"
    }
   ],
   "source": [
    "x = pd.DataFrame(np.c_[Boston['PTRATIO']], columns = ['PTRATIO'])\n",
    "Y = Boston['CRIM']\n",
    "X = x.iloc[:].values\n",
    "y = Y.iloc[:].values\n",
    "X_with_const=sm.add_constant(X)\n",
    "model=sm.OLS(endog=y,exog=X_with_const)\n",
    "results=model.fit()\n",
    "results.summary()"
   ]
  },
  {
   "cell_type": "code",
   "execution_count": 67,
   "metadata": {},
   "outputs": [
    {
     "data": {
      "text/plain": [
       "[<matplotlib.lines.Line2D at 0x23bec229748>]"
      ]
     },
     "execution_count": 67,
     "metadata": {},
     "output_type": "execute_result"
    },
    {
     "data": {
      "image/png": "[encoded data removed]",
      "text/plain": [
       "<Figure size 1440x360 with 1 Axes>"
      ]
     },
     "metadata": {
      "needs_background": "light"
     },
     "output_type": "display_data"
    }
   ],
   "source": [
    "plt.figure(figsize=(20, 5))\n",
    "\n",
    "features = ['PTRATIO']\n",
    "target = Boston['CRIM']\n",
    "for i, col in enumerate(features):\n",
    "    plt.subplot(1, len(features) , i+1)\n",
    "x = Boston[col]\n",
    "y = target\n",
    "plt.scatter(x, y, marker='o')\n",
    "plt.title('Crime vs PTRATIO')\n",
    "plt.xlabel(col)\n",
    "plt.ylabel('CRIM')\n",
    "plt.plot(X, linreg10.coef_ * X + linreg10.intercept_, 'r-')"
   ]
  },
  {
   "cell_type": "code",
   "execution_count": 68,
   "metadata": {},
   "outputs": [
    {
     "name": "stdout",
     "output_type": "stream",
     "text": [
      "(poly deg 3) linear model coeff (w):\n",
      "[  0.         -82.36053772   4.63534723  -0.08476032]\n",
      "(poly deg 3) linear model intercept (b): 477.184\n",
      "(poly deg 3) R-squared score (training): 0.114\n"
     ]
    }
   ],
   "source": [
    "poly = PolynomialFeatures(degree=3)\n",
    "X_poly = poly.fit_transform(X)\n",
    "linreg = LinearRegression().fit(X_poly, Y)\n",
    "\n",
    "print('(poly deg 3) linear model coeff (w):\\n{}'\n",
    "     .format(linreg.coef_))\n",
    "print('(poly deg 3) linear model intercept (b): {:.3f}'\n",
    "     .format(linreg.intercept_))\n",
    "print('(poly deg 3) R-squared score (training): {:.3f}'\n",
    "     .format(linreg.score(X_poly, Y)))"
   ]
  },
  {
   "cell_type": "code",
   "execution_count": 69,
   "metadata": {},
   "outputs": [
    {
     "data": {
      "text/html": [
       "<table class=\"simpletable\">\n",
       "<caption>OLS Regression Results</caption>\n",
       "<tr>\n",
       "  <th>Dep. Variable:</th>            <td>y</td>        <th>  R-squared:         </th> <td>   0.114</td>\n",
       "</tr>\n",
       "<tr>\n",
       "  <th>Model:</th>                   <td>OLS</td>       <th>  Adj. R-squared:    </th> <td>   0.108</td>\n",
       "</tr>\n",
       "<tr>\n",
       "  <th>Method:</th>             <td>Least Squares</td>  <th>  F-statistic:       </th> <td>   21.48</td>\n",
       "</tr>\n",
       "<tr>\n",
       "  <th>Date:</th>             <td>Sat, 18 Apr 2020</td> <th>  Prob (F-statistic):</th> <td>4.17e-13</td>\n",
       "</tr>\n",
       "<tr>\n",
       "  <th>Time:</th>                 <td>18:28:11</td>     <th>  Log-Likelihood:    </th> <td> -1775.8</td>\n",
       "</tr>\n",
       "<tr>\n",
       "  <th>No. Observations:</th>      <td>   506</td>      <th>  AIC:               </th> <td>   3560.</td>\n",
       "</tr>\n",
       "<tr>\n",
       "  <th>Df Residuals:</th>          <td>   502</td>      <th>  BIC:               </th> <td>   3577.</td>\n",
       "</tr>\n",
       "<tr>\n",
       "  <th>Df Model:</th>              <td>     3</td>      <th>                     </th>     <td> </td>   \n",
       "</tr>\n",
       "<tr>\n",
       "  <th>Covariance Type:</th>      <td>nonrobust</td>    <th>                     </th>     <td> </td>   \n",
       "</tr>\n",
       "</table>\n",
       "<table class=\"simpletable\">\n",
       "<tr>\n",
       "    <td></td>       <th>coef</th>     <th>std err</th>      <th>t</th>      <th>P>|t|</th>  <th>[0.025</th>    <th>0.975]</th>  \n",
       "</tr>\n",
       "<tr>\n",
       "  <th>const</th> <td>  477.1840</td> <td>  156.795</td> <td>    3.043</td> <td> 0.002</td> <td>  169.129</td> <td>  785.239</td>\n",
       "</tr>\n",
       "<tr>\n",
       "  <th>x1</th>    <td>  -82.3605</td> <td>   27.644</td> <td>   -2.979</td> <td> 0.003</td> <td> -136.673</td> <td>  -28.048</td>\n",
       "</tr>\n",
       "<tr>\n",
       "  <th>x2</th>    <td>    4.6353</td> <td>    1.608</td> <td>    2.882</td> <td> 0.004</td> <td>    1.475</td> <td>    7.795</td>\n",
       "</tr>\n",
       "<tr>\n",
       "  <th>x3</th>    <td>   -0.0848</td> <td>    0.031</td> <td>   -2.743</td> <td> 0.006</td> <td>   -0.145</td> <td>   -0.024</td>\n",
       "</tr>\n",
       "</table>\n",
       "<table class=\"simpletable\">\n",
       "<tr>\n",
       "  <th>Omnibus:</th>       <td>572.356</td> <th>  Durbin-Watson:     </th> <td>   0.945</td> \n",
       "</tr>\n",
       "<tr>\n",
       "  <th>Prob(Omnibus):</th> <td> 0.000</td>  <th>  Jarque-Bera (JB):  </th> <td>36070.763</td>\n",
       "</tr>\n",
       "<tr>\n",
       "  <th>Skew:</th>          <td> 5.294</td>  <th>  Prob(JB):          </th> <td>    0.00</td> \n",
       "</tr>\n",
       "<tr>\n",
       "  <th>Kurtosis:</th>      <td>42.985</td>  <th>  Cond. No.          </th> <td>3.02e+06</td> \n",
       "</tr>\n",
       "</table><br/><br/>Warnings:<br/>[1] Standard Errors assume that the covariance matrix of the errors is correctly specified.<br/>[2] The condition number is large, 3.02e+06. This might indicate that there are<br/>strong multicollinearity or other numerical problems."
      ],
      "text/plain": [
       "<class 'statsmodels.iolib.summary.Summary'>\n",
       "\"\"\"\n",
       "                            OLS Regression Results                            \n",
       "==============================================================================\n",
       "Dep. Variable:                      y   R-squared:                       0.114\n",
       "Model:                            OLS   Adj. R-squared:                  0.108\n",
       "Method:                 Least Squares   F-statistic:                     21.48\n",
       "Date:                Sat, 18 Apr 2020   Prob (F-statistic):           4.17e-13\n",
       "Time:                        18:28:11   Log-Likelihood:                -1775.8\n",
       "No. Observations:                 506   AIC:                             3560.\n",
       "Df Residuals:                     502   BIC:                             3577.\n",
       "Df Model:                           3                                         \n",
       "Covariance Type:            nonrobust                                         \n",
       "==============================================================================\n",
       "                 coef    std err          t      P>|t|      [0.025      0.975]\n",
       "------------------------------------------------------------------------------\n",
       "const        477.1840    156.795      3.043      0.002     169.129     785.239\n",
       "x1           -82.3605     27.644     -2.979      0.003    -136.673     -28.048\n",
       "x2             4.6353      1.608      2.882      0.004       1.475       7.795\n",
       "x3            -0.0848      0.031     -2.743      0.006      -0.145      -0.024\n",
       "==============================================================================\n",
       "Omnibus:                      572.356   Durbin-Watson:                   0.945\n",
       "Prob(Omnibus):                  0.000   Jarque-Bera (JB):            36070.763\n",
       "Skew:                           5.294   Prob(JB):                         0.00\n",
       "Kurtosis:                      42.985   Cond. No.                     3.02e+06\n",
       "==============================================================================\n",
       "\n",
       "Warnings:\n",
       "[1] Standard Errors assume that the covariance matrix of the errors is correctly specified.\n",
       "[2] The condition number is large, 3.02e+06. This might indicate that there are\n",
       "strong multicollinearity or other numerical problems.\n",
       "\"\"\""
      ]
     },
     "execution_count": 69,
     "metadata": {},
     "output_type": "execute_result"
    }
   ],
   "source": [
    "X_dataset=pd.DataFrame(np.c_[Boston['PTRATIO']], columns = ['PTRATIO'])\n",
    "y_dataset=Boston['CRIM']\n",
    "X=X_dataset.iloc[:].values\n",
    "y=y_dataset.iloc[:].values\n",
    "import statsmodels.api as sm\n",
    "poly = PolynomialFeatures(degree=3)\n",
    "X_F1_poly = poly.fit_transform(X_dataset)\n",
    "X_with_const=sm.add_constant(X_poly)\n",
    "model=sm.OLS(endog=y,exog=X_with_const)\n",
    "results=model.fit()\n",
    "results.summary()"
   ]
  },
  {
   "cell_type": "code",
   "execution_count": 70,
   "metadata": {},
   "outputs": [
    {
     "data": {
      "text/plain": [
       "LinearRegression(copy_X=True, fit_intercept=True, n_jobs=None, normalize=False)"
      ]
     },
     "execution_count": 70,
     "metadata": {},
     "output_type": "execute_result"
    }
   ],
   "source": [
    "X = pd.DataFrame(np.c_[Boston['B']], columns = ['B'])\n",
    "Y = Boston['CRIM']\n",
    "linreg11 = LinearRegression()\n",
    "linreg11.fit(X,Y)"
   ]
  },
  {
   "cell_type": "code",
   "execution_count": 71,
   "metadata": {},
   "outputs": [
    {
     "name": "stdout",
     "output_type": "stream",
     "text": [
      "linear model coeff (w): [-0.03627964]\n",
      "linear model intercept (b): 16.554\n",
      "R-squared score (training): 0.148\n"
     ]
    }
   ],
   "source": [
    "print('linear model coeff (w): {}'\n",
    "     .format(linreg11.coef_))\n",
    "print('linear model intercept (b): {:.3f}'\n",
    "     .format(linreg11.intercept_))\n",
    "print('R-squared score (training): {:.3f}'\n",
    "     .format(linreg11.score(X,Y)))"
   ]
  },
  {
   "cell_type": "code",
   "execution_count": 72,
   "metadata": {},
   "outputs": [
    {
     "data": {
      "text/html": [
       "<table class=\"simpletable\">\n",
       "<caption>OLS Regression Results</caption>\n",
       "<tr>\n",
       "  <th>Dep. Variable:</th>            <td>y</td>        <th>  R-squared:         </th> <td>   0.148</td>\n",
       "</tr>\n",
       "<tr>\n",
       "  <th>Model:</th>                   <td>OLS</td>       <th>  Adj. R-squared:    </th> <td>   0.147</td>\n",
       "</tr>\n",
       "<tr>\n",
       "  <th>Method:</th>             <td>Least Squares</td>  <th>  F-statistic:       </th> <td>   87.74</td>\n",
       "</tr>\n",
       "<tr>\n",
       "  <th>Date:</th>             <td>Sat, 18 Apr 2020</td> <th>  Prob (F-statistic):</th> <td>2.49e-19</td>\n",
       "</tr>\n",
       "<tr>\n",
       "  <th>Time:</th>                 <td>18:28:11</td>     <th>  Log-Likelihood:    </th> <td> -1765.8</td>\n",
       "</tr>\n",
       "<tr>\n",
       "  <th>No. Observations:</th>      <td>   506</td>      <th>  AIC:               </th> <td>   3536.</td>\n",
       "</tr>\n",
       "<tr>\n",
       "  <th>Df Residuals:</th>          <td>   504</td>      <th>  BIC:               </th> <td>   3544.</td>\n",
       "</tr>\n",
       "<tr>\n",
       "  <th>Df Model:</th>              <td>     1</td>      <th>                     </th>     <td> </td>   \n",
       "</tr>\n",
       "<tr>\n",
       "  <th>Covariance Type:</th>      <td>nonrobust</td>    <th>                     </th>     <td> </td>   \n",
       "</tr>\n",
       "</table>\n",
       "<table class=\"simpletable\">\n",
       "<tr>\n",
       "    <td></td>       <th>coef</th>     <th>std err</th>      <th>t</th>      <th>P>|t|</th>  <th>[0.025</th>    <th>0.975]</th>  \n",
       "</tr>\n",
       "<tr>\n",
       "  <th>const</th> <td>   16.5535</td> <td>    1.426</td> <td>   11.609</td> <td> 0.000</td> <td>   13.752</td> <td>   19.355</td>\n",
       "</tr>\n",
       "<tr>\n",
       "  <th>x1</th>    <td>   -0.0363</td> <td>    0.004</td> <td>   -9.367</td> <td> 0.000</td> <td>   -0.044</td> <td>   -0.029</td>\n",
       "</tr>\n",
       "</table>\n",
       "<table class=\"simpletable\">\n",
       "<tr>\n",
       "  <th>Omnibus:</th>       <td>594.029</td> <th>  Durbin-Watson:     </th> <td>   0.994</td> \n",
       "</tr>\n",
       "<tr>\n",
       "  <th>Prob(Omnibus):</th> <td> 0.000</td>  <th>  Jarque-Bera (JB):  </th> <td>44041.935</td>\n",
       "</tr>\n",
       "<tr>\n",
       "  <th>Skew:</th>          <td> 5.578</td>  <th>  Prob(JB):          </th> <td>    0.00</td> \n",
       "</tr>\n",
       "<tr>\n",
       "  <th>Kurtosis:</th>      <td>47.323</td>  <th>  Cond. No.          </th> <td>1.49e+03</td> \n",
       "</tr>\n",
       "</table><br/><br/>Warnings:<br/>[1] Standard Errors assume that the covariance matrix of the errors is correctly specified.<br/>[2] The condition number is large, 1.49e+03. This might indicate that there are<br/>strong multicollinearity or other numerical problems."
      ],
      "text/plain": [
       "<class 'statsmodels.iolib.summary.Summary'>\n",
       "\"\"\"\n",
       "                            OLS Regression Results                            \n",
       "==============================================================================\n",
       "Dep. Variable:                      y   R-squared:                       0.148\n",
       "Model:                            OLS   Adj. R-squared:                  0.147\n",
       "Method:                 Least Squares   F-statistic:                     87.74\n",
       "Date:                Sat, 18 Apr 2020   Prob (F-statistic):           2.49e-19\n",
       "Time:                        18:28:11   Log-Likelihood:                -1765.8\n",
       "No. Observations:                 506   AIC:                             3536.\n",
       "Df Residuals:                     504   BIC:                             3544.\n",
       "Df Model:                           1                                         \n",
       "Covariance Type:            nonrobust                                         \n",
       "==============================================================================\n",
       "                 coef    std err          t      P>|t|      [0.025      0.975]\n",
       "------------------------------------------------------------------------------\n",
       "const         16.5535      1.426     11.609      0.000      13.752      19.355\n",
       "x1            -0.0363      0.004     -9.367      0.000      -0.044      -0.029\n",
       "==============================================================================\n",
       "Omnibus:                      594.029   Durbin-Watson:                   0.994\n",
       "Prob(Omnibus):                  0.000   Jarque-Bera (JB):            44041.935\n",
       "Skew:                           5.578   Prob(JB):                         0.00\n",
       "Kurtosis:                      47.323   Cond. No.                     1.49e+03\n",
       "==============================================================================\n",
       "\n",
       "Warnings:\n",
       "[1] Standard Errors assume that the covariance matrix of the errors is correctly specified.\n",
       "[2] The condition number is large, 1.49e+03. This might indicate that there are\n",
       "strong multicollinearity or other numerical problems.\n",
       "\"\"\""
      ]
     },
     "execution_count": 72,
     "metadata": {},
     "output_type": "execute_result"
    }
   ],
   "source": [
    "x = pd.DataFrame(np.c_[Boston['B']], columns = ['B'])\n",
    "Y = Boston['CRIM']\n",
    "X = x.iloc[:].values\n",
    "y = Y.iloc[:].values\n",
    "X_with_const=sm.add_constant(X)\n",
    "model=sm.OLS(endog=y,exog=X_with_const)\n",
    "results=model.fit()\n",
    "results.summary()"
   ]
  },
  {
   "cell_type": "code",
   "execution_count": 73,
   "metadata": {},
   "outputs": [
    {
     "data": {
      "text/plain": [
       "[<matplotlib.lines.Line2D at 0x23bec21e5f8>]"
      ]
     },
     "execution_count": 73,
     "metadata": {},
     "output_type": "execute_result"
    },
    {
     "data": {
      "image/png": "[encoded data removed]",
      "text/plain": [
       "<Figure size 1440x360 with 1 Axes>"
      ]
     },
     "metadata": {
      "needs_background": "light"
     },
     "output_type": "display_data"
    }
   ],
   "source": [
    "plt.figure(figsize=(20, 5))\n",
    "\n",
    "features = ['B']\n",
    "target = Boston['CRIM']\n",
    "for i, col in enumerate(features):\n",
    "    plt.subplot(1, len(features) , i+1)\n",
    "x = Boston[col]\n",
    "y = target\n",
    "plt.scatter(x, y, marker='o')\n",
    "plt.title('Crime vs B')\n",
    "plt.xlabel(col)\n",
    "plt.ylabel('CRIM')\n",
    "plt.plot(X, linreg11.coef_ * X + linreg11.intercept_, 'r-')"
   ]
  },
  {
   "cell_type": "code",
   "execution_count": 74,
   "metadata": {},
   "outputs": [
    {
     "name": "stdout",
     "output_type": "stream",
     "text": [
      "(poly deg 3) linear model coeff (w):\n",
      "[ 0.00000000e+00 -8.35580475e-02  2.13740369e-04 -2.65245331e-07]\n",
      "(poly deg 3) linear model intercept (b): 18.264\n",
      "(poly deg 3) R-squared score (training): 0.150\n"
     ]
    }
   ],
   "source": [
    "poly = PolynomialFeatures(degree=3)\n",
    "X_poly = poly.fit_transform(X)\n",
    "linreg = LinearRegression().fit(X_poly, Y)\n",
    "\n",
    "print('(poly deg 3) linear model coeff (w):\\n{}'\n",
    "     .format(linreg.coef_))\n",
    "print('(poly deg 3) linear model intercept (b): {:.3f}'\n",
    "     .format(linreg.intercept_))\n",
    "print('(poly deg 3) R-squared score (training): {:.3f}'\n",
    "     .format(linreg.score(X_poly, Y)))"
   ]
  },
  {
   "cell_type": "code",
   "execution_count": 75,
   "metadata": {},
   "outputs": [
    {
     "data": {
      "text/html": [
       "<table class=\"simpletable\">\n",
       "<caption>OLS Regression Results</caption>\n",
       "<tr>\n",
       "  <th>Dep. Variable:</th>            <td>y</td>        <th>  R-squared:         </th> <td>   0.150</td>\n",
       "</tr>\n",
       "<tr>\n",
       "  <th>Model:</th>                   <td>OLS</td>       <th>  Adj. R-squared:    </th> <td>   0.145</td>\n",
       "</tr>\n",
       "<tr>\n",
       "  <th>Method:</th>             <td>Least Squares</td>  <th>  F-statistic:       </th> <td>   29.49</td>\n",
       "</tr>\n",
       "<tr>\n",
       "  <th>Date:</th>             <td>Sat, 18 Apr 2020</td> <th>  Prob (F-statistic):</th> <td>1.41e-17</td>\n",
       "</tr>\n",
       "<tr>\n",
       "  <th>Time:</th>                 <td>18:28:12</td>     <th>  Log-Likelihood:    </th> <td> -1765.3</td>\n",
       "</tr>\n",
       "<tr>\n",
       "  <th>No. Observations:</th>      <td>   506</td>      <th>  AIC:               </th> <td>   3539.</td>\n",
       "</tr>\n",
       "<tr>\n",
       "  <th>Df Residuals:</th>          <td>   502</td>      <th>  BIC:               </th> <td>   3555.</td>\n",
       "</tr>\n",
       "<tr>\n",
       "  <th>Df Model:</th>              <td>     3</td>      <th>                     </th>     <td> </td>   \n",
       "</tr>\n",
       "<tr>\n",
       "  <th>Covariance Type:</th>      <td>nonrobust</td>    <th>                     </th>     <td> </td>   \n",
       "</tr>\n",
       "</table>\n",
       "<table class=\"simpletable\">\n",
       "<tr>\n",
       "    <td></td>       <th>coef</th>     <th>std err</th>      <th>t</th>      <th>P>|t|</th>  <th>[0.025</th>    <th>0.975]</th>  \n",
       "</tr>\n",
       "<tr>\n",
       "  <th>const</th> <td>   18.2637</td> <td>    2.305</td> <td>    7.924</td> <td> 0.000</td> <td>   13.735</td> <td>   22.792</td>\n",
       "</tr>\n",
       "<tr>\n",
       "  <th>x1</th>    <td>   -0.0836</td> <td>    0.056</td> <td>   -1.483</td> <td> 0.139</td> <td>   -0.194</td> <td>    0.027</td>\n",
       "</tr>\n",
       "<tr>\n",
       "  <th>x2</th>    <td>    0.0002</td> <td>    0.000</td> <td>    0.716</td> <td> 0.474</td> <td>   -0.000</td> <td>    0.001</td>\n",
       "</tr>\n",
       "<tr>\n",
       "  <th>x3</th>    <td>-2.652e-07</td> <td> 4.36e-07</td> <td>   -0.608</td> <td> 0.544</td> <td>-1.12e-06</td> <td> 5.92e-07</td>\n",
       "</tr>\n",
       "</table>\n",
       "<table class=\"simpletable\">\n",
       "<tr>\n",
       "  <th>Omnibus:</th>       <td>591.816</td> <th>  Durbin-Watson:     </th> <td>   0.983</td> \n",
       "</tr>\n",
       "<tr>\n",
       "  <th>Prob(Omnibus):</th> <td> 0.000</td>  <th>  Jarque-Bera (JB):  </th> <td>43468.746</td>\n",
       "</tr>\n",
       "<tr>\n",
       "  <th>Skew:</th>          <td> 5.544</td>  <th>  Prob(JB):          </th> <td>    0.00</td> \n",
       "</tr>\n",
       "<tr>\n",
       "  <th>Kurtosis:</th>      <td>47.032</td>  <th>  Cond. No.          </th> <td>3.59e+08</td> \n",
       "</tr>\n",
       "</table><br/><br/>Warnings:<br/>[1] Standard Errors assume that the covariance matrix of the errors is correctly specified.<br/>[2] The condition number is large, 3.59e+08. This might indicate that there are<br/>strong multicollinearity or other numerical problems."
      ],
      "text/plain": [
       "<class 'statsmodels.iolib.summary.Summary'>\n",
       "\"\"\"\n",
       "                            OLS Regression Results                            \n",
       "==============================================================================\n",
       "Dep. Variable:                      y   R-squared:                       0.150\n",
       "Model:                            OLS   Adj. R-squared:                  0.145\n",
       "Method:                 Least Squares   F-statistic:                     29.49\n",
       "Date:                Sat, 18 Apr 2020   Prob (F-statistic):           1.41e-17\n",
       "Time:                        18:28:12   Log-Likelihood:                -1765.3\n",
       "No. Observations:                 506   AIC:                             3539.\n",
       "Df Residuals:                     502   BIC:                             3555.\n",
       "Df Model:                           3                                         \n",
       "Covariance Type:            nonrobust                                         \n",
       "==============================================================================\n",
       "                 coef    std err          t      P>|t|      [0.025      0.975]\n",
       "------------------------------------------------------------------------------\n",
       "const         18.2637      2.305      7.924      0.000      13.735      22.792\n",
       "x1            -0.0836      0.056     -1.483      0.139      -0.194       0.027\n",
       "x2             0.0002      0.000      0.716      0.474      -0.000       0.001\n",
       "x3         -2.652e-07   4.36e-07     -0.608      0.544   -1.12e-06    5.92e-07\n",
       "==============================================================================\n",
       "Omnibus:                      591.816   Durbin-Watson:                   0.983\n",
       "Prob(Omnibus):                  0.000   Jarque-Bera (JB):            43468.746\n",
       "Skew:                           5.544   Prob(JB):                         0.00\n",
       "Kurtosis:                      47.032   Cond. No.                     3.59e+08\n",
       "==============================================================================\n",
       "\n",
       "Warnings:\n",
       "[1] Standard Errors assume that the covariance matrix of the errors is correctly specified.\n",
       "[2] The condition number is large, 3.59e+08. This might indicate that there are\n",
       "strong multicollinearity or other numerical problems.\n",
       "\"\"\""
      ]
     },
     "execution_count": 75,
     "metadata": {},
     "output_type": "execute_result"
    }
   ],
   "source": [
    "X_dataset=pd.DataFrame(np.c_[Boston['B']], columns = ['B'])\n",
    "y_dataset=Boston['CRIM']\n",
    "X=X_dataset.iloc[:].values\n",
    "y=y_dataset.iloc[:].values\n",
    "import statsmodels.api as sm\n",
    "poly = PolynomialFeatures(degree=3)\n",
    "X_F1_poly = poly.fit_transform(X_dataset)\n",
    "X_with_const=sm.add_constant(X_poly)\n",
    "model=sm.OLS(endog=y,exog=X_with_const)\n",
    "results=model.fit()\n",
    "results.summary()"
   ]
  },
  {
   "cell_type": "code",
   "execution_count": 76,
   "metadata": {},
   "outputs": [
    {
     "data": {
      "text/plain": [
       "LinearRegression(copy_X=True, fit_intercept=True, n_jobs=None, normalize=False)"
      ]
     },
     "execution_count": 76,
     "metadata": {},
     "output_type": "execute_result"
    }
   ],
   "source": [
    "X = pd.DataFrame(np.c_[Boston['LSTAT']], columns = ['LSTAT'])\n",
    "Y = Boston['CRIM']\n",
    "linreg12 = LinearRegression()\n",
    "linreg12.fit(X,Y)"
   ]
  },
  {
   "cell_type": "code",
   "execution_count": 77,
   "metadata": {},
   "outputs": [
    {
     "name": "stdout",
     "output_type": "stream",
     "text": [
      "linear model coeff (w): [0.54880478]\n",
      "linear model intercept (b): -3.331\n",
      "R-squared score (training): 0.208\n"
     ]
    }
   ],
   "source": [
    "print('linear model coeff (w): {}'\n",
    "     .format(linreg12.coef_))\n",
    "print('linear model intercept (b): {:.3f}'\n",
    "     .format(linreg12.intercept_))\n",
    "print('R-squared score (training): {:.3f}'\n",
    "     .format(linreg12.score(X,Y)))"
   ]
  },
  {
   "cell_type": "code",
   "execution_count": 78,
   "metadata": {},
   "outputs": [
    {
     "data": {
      "text/html": [
       "<table class=\"simpletable\">\n",
       "<caption>OLS Regression Results</caption>\n",
       "<tr>\n",
       "  <th>Dep. Variable:</th>            <td>y</td>        <th>  R-squared:         </th> <td>   0.208</td>\n",
       "</tr>\n",
       "<tr>\n",
       "  <th>Model:</th>                   <td>OLS</td>       <th>  Adj. R-squared:    </th> <td>   0.206</td>\n",
       "</tr>\n",
       "<tr>\n",
       "  <th>Method:</th>             <td>Least Squares</td>  <th>  F-statistic:       </th> <td>   132.0</td>\n",
       "</tr>\n",
       "<tr>\n",
       "  <th>Date:</th>             <td>Sat, 18 Apr 2020</td> <th>  Prob (F-statistic):</th> <td>2.65e-27</td>\n",
       "</tr>\n",
       "<tr>\n",
       "  <th>Time:</th>                 <td>18:28:12</td>     <th>  Log-Likelihood:    </th> <td> -1747.5</td>\n",
       "</tr>\n",
       "<tr>\n",
       "  <th>No. Observations:</th>      <td>   506</td>      <th>  AIC:               </th> <td>   3499.</td>\n",
       "</tr>\n",
       "<tr>\n",
       "  <th>Df Residuals:</th>          <td>   504</td>      <th>  BIC:               </th> <td>   3507.</td>\n",
       "</tr>\n",
       "<tr>\n",
       "  <th>Df Model:</th>              <td>     1</td>      <th>                     </th>     <td> </td>   \n",
       "</tr>\n",
       "<tr>\n",
       "  <th>Covariance Type:</th>      <td>nonrobust</td>    <th>                     </th>     <td> </td>   \n",
       "</tr>\n",
       "</table>\n",
       "<table class=\"simpletable\">\n",
       "<tr>\n",
       "    <td></td>       <th>coef</th>     <th>std err</th>      <th>t</th>      <th>P>|t|</th>  <th>[0.025</th>    <th>0.975]</th>  \n",
       "</tr>\n",
       "<tr>\n",
       "  <th>const</th> <td>   -3.3305</td> <td>    0.694</td> <td>   -4.801</td> <td> 0.000</td> <td>   -4.694</td> <td>   -1.968</td>\n",
       "</tr>\n",
       "<tr>\n",
       "  <th>x1</th>    <td>    0.5488</td> <td>    0.048</td> <td>   11.491</td> <td> 0.000</td> <td>    0.455</td> <td>    0.643</td>\n",
       "</tr>\n",
       "</table>\n",
       "<table class=\"simpletable\">\n",
       "<tr>\n",
       "  <th>Omnibus:</th>       <td>601.306</td> <th>  Durbin-Watson:     </th> <td>   1.182</td> \n",
       "</tr>\n",
       "<tr>\n",
       "  <th>Prob(Omnibus):</th> <td> 0.000</td>  <th>  Jarque-Bera (JB):  </th> <td>49918.826</td>\n",
       "</tr>\n",
       "<tr>\n",
       "  <th>Skew:</th>          <td> 5.645</td>  <th>  Prob(JB):          </th> <td>    0.00</td> \n",
       "</tr>\n",
       "<tr>\n",
       "  <th>Kurtosis:</th>      <td>50.331</td>  <th>  Cond. No.          </th> <td>    29.7</td> \n",
       "</tr>\n",
       "</table><br/><br/>Warnings:<br/>[1] Standard Errors assume that the covariance matrix of the errors is correctly specified."
      ],
      "text/plain": [
       "<class 'statsmodels.iolib.summary.Summary'>\n",
       "\"\"\"\n",
       "                            OLS Regression Results                            \n",
       "==============================================================================\n",
       "Dep. Variable:                      y   R-squared:                       0.208\n",
       "Model:                            OLS   Adj. R-squared:                  0.206\n",
       "Method:                 Least Squares   F-statistic:                     132.0\n",
       "Date:                Sat, 18 Apr 2020   Prob (F-statistic):           2.65e-27\n",
       "Time:                        18:28:12   Log-Likelihood:                -1747.5\n",
       "No. Observations:                 506   AIC:                             3499.\n",
       "Df Residuals:                     504   BIC:                             3507.\n",
       "Df Model:                           1                                         \n",
       "Covariance Type:            nonrobust                                         \n",
       "==============================================================================\n",
       "                 coef    std err          t      P>|t|      [0.025      0.975]\n",
       "------------------------------------------------------------------------------\n",
       "const         -3.3305      0.694     -4.801      0.000      -4.694      -1.968\n",
       "x1             0.5488      0.048     11.491      0.000       0.455       0.643\n",
       "==============================================================================\n",
       "Omnibus:                      601.306   Durbin-Watson:                   1.182\n",
       "Prob(Omnibus):                  0.000   Jarque-Bera (JB):            49918.826\n",
       "Skew:                           5.645   Prob(JB):                         0.00\n",
       "Kurtosis:                      50.331   Cond. No.                         29.7\n",
       "==============================================================================\n",
       "\n",
       "Warnings:\n",
       "[1] Standard Errors assume that the covariance matrix of the errors is correctly specified.\n",
       "\"\"\""
      ]
     },
     "execution_count": 78,
     "metadata": {},
     "output_type": "execute_result"
    }
   ],
   "source": [
    "x = pd.DataFrame(np.c_[Boston['LSTAT']], columns = ['LSTAT'])\n",
    "Y = Boston['CRIM']\n",
    "X = x.iloc[:].values\n",
    "y = Y.iloc[:].values\n",
    "X_with_const=sm.add_constant(X)\n",
    "model=sm.OLS(endog=y,exog=X_with_const)\n",
    "results=model.fit()\n",
    "results.summary()"
   ]
  },
  {
   "cell_type": "code",
   "execution_count": 79,
   "metadata": {},
   "outputs": [
    {
     "data": {
      "text/plain": [
       "[<matplotlib.lines.Line2D at 0x23beb5afda0>]"
      ]
     },
     "execution_count": 79,
     "metadata": {},
     "output_type": "execute_result"
    },
    {
     "data": {
      "image/png": "[encoded data removed]",
      "text/plain": [
       "<Figure size 1440x360 with 1 Axes>"
      ]
     },
     "metadata": {
      "needs_background": "light"
     },
     "output_type": "display_data"
    }
   ],
   "source": [
    "plt.figure(figsize=(20, 5))\n",
    "\n",
    "features = ['LSTAT']\n",
    "target = Boston['CRIM']\n",
    "for i, col in enumerate(features):\n",
    "    plt.subplot(1, len(features) , i+1)\n",
    "x = Boston[col]\n",
    "y = target\n",
    "plt.scatter(x, y, marker='o')\n",
    "plt.title('Crime vs LSTAT')\n",
    "plt.xlabel(col)\n",
    "plt.ylabel('CRIM')\n",
    "plt.plot(X, linreg12.coef_ * X + linreg12.intercept_, 'r-')"
   ]
  },
  {
   "cell_type": "code",
   "execution_count": 80,
   "metadata": {},
   "outputs": [
    {
     "name": "stdout",
     "output_type": "stream",
     "text": [
      "(poly deg 3) linear model coeff (w):\n",
      "[ 0.         -0.44906559  0.05577942 -0.00085737]\n",
      "(poly deg 3) linear model intercept (b): 1.201\n",
      "(poly deg 3) R-squared score (training): 0.218\n"
     ]
    }
   ],
   "source": [
    "poly = PolynomialFeatures(degree=3)\n",
    "X_poly = poly.fit_transform(X)\n",
    "linreg = LinearRegression().fit(X_poly, Y)\n",
    "\n",
    "print('(poly deg 3) linear model coeff (w):\\n{}'\n",
    "     .format(linreg.coef_))\n",
    "print('(poly deg 3) linear model intercept (b): {:.3f}'\n",
    "     .format(linreg.intercept_))\n",
    "print('(poly deg 3) R-squared score (training): {:.3f}'\n",
    "     .format(linreg.score(X_poly, Y)))"
   ]
  },
  {
   "cell_type": "code",
   "execution_count": 81,
   "metadata": {},
   "outputs": [
    {
     "data": {
      "text/html": [
       "<table class=\"simpletable\">\n",
       "<caption>OLS Regression Results</caption>\n",
       "<tr>\n",
       "  <th>Dep. Variable:</th>            <td>y</td>        <th>  R-squared:         </th> <td>   0.218</td>\n",
       "</tr>\n",
       "<tr>\n",
       "  <th>Model:</th>                   <td>OLS</td>       <th>  Adj. R-squared:    </th> <td>   0.213</td>\n",
       "</tr>\n",
       "<tr>\n",
       "  <th>Method:</th>             <td>Least Squares</td>  <th>  F-statistic:       </th> <td>   46.63</td>\n",
       "</tr>\n",
       "<tr>\n",
       "  <th>Date:</th>             <td>Sat, 18 Apr 2020</td> <th>  Prob (F-statistic):</th> <td>1.35e-26</td>\n",
       "</tr>\n",
       "<tr>\n",
       "  <th>Time:</th>                 <td>18:28:12</td>     <th>  Log-Likelihood:    </th> <td> -1744.2</td>\n",
       "</tr>\n",
       "<tr>\n",
       "  <th>No. Observations:</th>      <td>   506</td>      <th>  AIC:               </th> <td>   3496.</td>\n",
       "</tr>\n",
       "<tr>\n",
       "  <th>Df Residuals:</th>          <td>   502</td>      <th>  BIC:               </th> <td>   3513.</td>\n",
       "</tr>\n",
       "<tr>\n",
       "  <th>Df Model:</th>              <td>     3</td>      <th>                     </th>     <td> </td>   \n",
       "</tr>\n",
       "<tr>\n",
       "  <th>Covariance Type:</th>      <td>nonrobust</td>    <th>                     </th>     <td> </td>   \n",
       "</tr>\n",
       "</table>\n",
       "<table class=\"simpletable\">\n",
       "<tr>\n",
       "    <td></td>       <th>coef</th>     <th>std err</th>      <th>t</th>      <th>P>|t|</th>  <th>[0.025</th>    <th>0.975]</th>  \n",
       "</tr>\n",
       "<tr>\n",
       "  <th>const</th> <td>    1.2010</td> <td>    2.029</td> <td>    0.592</td> <td> 0.554</td> <td>   -2.785</td> <td>    5.187</td>\n",
       "</tr>\n",
       "<tr>\n",
       "  <th>x1</th>    <td>   -0.4491</td> <td>    0.465</td> <td>   -0.966</td> <td> 0.335</td> <td>   -1.362</td> <td>    0.464</td>\n",
       "</tr>\n",
       "<tr>\n",
       "  <th>x2</th>    <td>    0.0558</td> <td>    0.030</td> <td>    1.852</td> <td> 0.065</td> <td>   -0.003</td> <td>    0.115</td>\n",
       "</tr>\n",
       "<tr>\n",
       "  <th>x3</th>    <td>   -0.0009</td> <td>    0.001</td> <td>   -1.517</td> <td> 0.130</td> <td>   -0.002</td> <td>    0.000</td>\n",
       "</tr>\n",
       "</table>\n",
       "<table class=\"simpletable\">\n",
       "<tr>\n",
       "  <th>Omnibus:</th>       <td>607.734</td> <th>  Durbin-Watson:     </th> <td>   1.239</td> \n",
       "</tr>\n",
       "<tr>\n",
       "  <th>Prob(Omnibus):</th> <td> 0.000</td>  <th>  Jarque-Bera (JB):  </th> <td>53621.219</td>\n",
       "</tr>\n",
       "<tr>\n",
       "  <th>Skew:</th>          <td> 5.726</td>  <th>  Prob(JB):          </th> <td>    0.00</td> \n",
       "</tr>\n",
       "<tr>\n",
       "  <th>Kurtosis:</th>      <td>52.114</td>  <th>  Cond. No.          </th> <td>5.20e+04</td> \n",
       "</tr>\n",
       "</table><br/><br/>Warnings:<br/>[1] Standard Errors assume that the covariance matrix of the errors is correctly specified.<br/>[2] The condition number is large, 5.2e+04. This might indicate that there are<br/>strong multicollinearity or other numerical problems."
      ],
      "text/plain": [
       "<class 'statsmodels.iolib.summary.Summary'>\n",
       "\"\"\"\n",
       "                            OLS Regression Results                            \n",
       "==============================================================================\n",
       "Dep. Variable:                      y   R-squared:                       0.218\n",
       "Model:                            OLS   Adj. R-squared:                  0.213\n",
       "Method:                 Least Squares   F-statistic:                     46.63\n",
       "Date:                Sat, 18 Apr 2020   Prob (F-statistic):           1.35e-26\n",
       "Time:                        18:28:12   Log-Likelihood:                -1744.2\n",
       "No. Observations:                 506   AIC:                             3496.\n",
       "Df Residuals:                     502   BIC:                             3513.\n",
       "Df Model:                           3                                         \n",
       "Covariance Type:            nonrobust                                         \n",
       "==============================================================================\n",
       "                 coef    std err          t      P>|t|      [0.025      0.975]\n",
       "------------------------------------------------------------------------------\n",
       "const          1.2010      2.029      0.592      0.554      -2.785       5.187\n",
       "x1            -0.4491      0.465     -0.966      0.335      -1.362       0.464\n",
       "x2             0.0558      0.030      1.852      0.065      -0.003       0.115\n",
       "x3            -0.0009      0.001     -1.517      0.130      -0.002       0.000\n",
       "==============================================================================\n",
       "Omnibus:                      607.734   Durbin-Watson:                   1.239\n",
       "Prob(Omnibus):                  0.000   Jarque-Bera (JB):            53621.219\n",
       "Skew:                           5.726   Prob(JB):                         0.00\n",
       "Kurtosis:                      52.114   Cond. No.                     5.20e+04\n",
       "==============================================================================\n",
       "\n",
       "Warnings:\n",
       "[1] Standard Errors assume that the covariance matrix of the errors is correctly specified.\n",
       "[2] The condition number is large, 5.2e+04. This might indicate that there are\n",
       "strong multicollinearity or other numerical problems.\n",
       "\"\"\""
      ]
     },
     "execution_count": 81,
     "metadata": {},
     "output_type": "execute_result"
    }
   ],
   "source": [
    "X_dataset=pd.DataFrame(np.c_[Boston['LSTAT']], columns = ['LSTAT'])\n",
    "y_dataset=Boston['CRIM']\n",
    "X=X_dataset.iloc[:].values\n",
    "y=y_dataset.iloc[:].values\n",
    "import statsmodels.api as sm\n",
    "poly = PolynomialFeatures(degree=3)\n",
    "X_F1_poly = poly.fit_transform(X_dataset)\n",
    "X_with_const=sm.add_constant(X_poly)\n",
    "model=sm.OLS(endog=y,exog=X_with_const)\n",
    "results=model.fit()\n",
    "results.summary()"
   ]
  },
  {
   "cell_type": "code",
   "execution_count": 82,
   "metadata": {},
   "outputs": [],
   "source": [
    "x = pd.DataFrame(np.c_[Boston['ZN'],Boston['INDUS'],Boston['CHAS'],Boston['NOX'],Boston['RM'],Boston['AGE'],Boston['DIS'],Boston['RAD'],Boston['TAX'],Boston['PTRATIO'],Boston['B'],Boston['LSTAT']], columns = ['ZN','INDUS','CHAS','NOX','RM','AGE','DIS','RAD','TAX','PTRATIO','B','LSTAT'])\n",
    "Y = Boston['CRIM']\n",
    "X = x.iloc[:].values\n",
    "y = Y.iloc[:].values\n"
   ]
  },
  {
   "cell_type": "code",
   "execution_count": 83,
   "metadata": {},
   "outputs": [
    {
     "data": {
      "text/html": [
       "<table class=\"simpletable\">\n",
       "<caption>OLS Regression Results</caption>\n",
       "<tr>\n",
       "  <th>Dep. Variable:</th>            <td>y</td>        <th>  R-squared:         </th> <td>   0.442</td>\n",
       "</tr>\n",
       "<tr>\n",
       "  <th>Model:</th>                   <td>OLS</td>       <th>  Adj. R-squared:    </th> <td>   0.428</td>\n",
       "</tr>\n",
       "<tr>\n",
       "  <th>Method:</th>             <td>Least Squares</td>  <th>  F-statistic:       </th> <td>   32.55</td>\n",
       "</tr>\n",
       "<tr>\n",
       "  <th>Date:</th>             <td>Sat, 18 Apr 2020</td> <th>  Prob (F-statistic):</th> <td>4.84e-55</td>\n",
       "</tr>\n",
       "<tr>\n",
       "  <th>Time:</th>                 <td>18:28:12</td>     <th>  Log-Likelihood:    </th> <td> -1658.8</td>\n",
       "</tr>\n",
       "<tr>\n",
       "  <th>No. Observations:</th>      <td>   506</td>      <th>  AIC:               </th> <td>   3344.</td>\n",
       "</tr>\n",
       "<tr>\n",
       "  <th>Df Residuals:</th>          <td>   493</td>      <th>  BIC:               </th> <td>   3398.</td>\n",
       "</tr>\n",
       "<tr>\n",
       "  <th>Df Model:</th>              <td>    12</td>      <th>                     </th>     <td> </td>   \n",
       "</tr>\n",
       "<tr>\n",
       "  <th>Covariance Type:</th>      <td>nonrobust</td>    <th>                     </th>     <td> </td>   \n",
       "</tr>\n",
       "</table>\n",
       "<table class=\"simpletable\">\n",
       "<tr>\n",
       "    <td></td>       <th>coef</th>     <th>std err</th>      <th>t</th>      <th>P>|t|</th>  <th>[0.025</th>    <th>0.975]</th>  \n",
       "</tr>\n",
       "<tr>\n",
       "  <th>const</th> <td>    9.9967</td> <td>    6.979</td> <td>    1.432</td> <td> 0.153</td> <td>   -3.716</td> <td>   23.709</td>\n",
       "</tr>\n",
       "<tr>\n",
       "  <th>x1</th>    <td>    0.0364</td> <td>    0.019</td> <td>    1.943</td> <td> 0.053</td> <td>   -0.000</td> <td>    0.073</td>\n",
       "</tr>\n",
       "<tr>\n",
       "  <th>x2</th>    <td>   -0.0694</td> <td>    0.084</td> <td>   -0.825</td> <td> 0.410</td> <td>   -0.235</td> <td>    0.096</td>\n",
       "</tr>\n",
       "<tr>\n",
       "  <th>x3</th>    <td>   -1.3117</td> <td>    1.179</td> <td>   -1.112</td> <td> 0.267</td> <td>   -3.629</td> <td>    1.005</td>\n",
       "</tr>\n",
       "<tr>\n",
       "  <th>x4</th>    <td>   -6.9288</td> <td>    5.225</td> <td>   -1.326</td> <td> 0.185</td> <td>  -17.195</td> <td>    3.338</td>\n",
       "</tr>\n",
       "<tr>\n",
       "  <th>x5</th>    <td>   -0.3348</td> <td>    0.573</td> <td>   -0.585</td> <td> 0.559</td> <td>   -1.460</td> <td>    0.790</td>\n",
       "</tr>\n",
       "<tr>\n",
       "  <th>x6</th>    <td>    0.0013</td> <td>    0.018</td> <td>    0.074</td> <td> 0.941</td> <td>   -0.034</td> <td>    0.037</td>\n",
       "</tr>\n",
       "<tr>\n",
       "  <th>x7</th>    <td>   -0.7089</td> <td>    0.271</td> <td>   -2.612</td> <td> 0.009</td> <td>   -1.242</td> <td>   -0.176</td>\n",
       "</tr>\n",
       "<tr>\n",
       "  <th>x8</th>    <td>    0.5389</td> <td>    0.088</td> <td>    6.151</td> <td> 0.000</td> <td>    0.367</td> <td>    0.711</td>\n",
       "</tr>\n",
       "<tr>\n",
       "  <th>x9</th>    <td>   -0.0014</td> <td>    0.005</td> <td>   -0.263</td> <td> 0.793</td> <td>   -0.011</td> <td>    0.009</td>\n",
       "</tr>\n",
       "<tr>\n",
       "  <th>x10</th>   <td>   -0.0834</td> <td>    0.179</td> <td>   -0.465</td> <td> 0.642</td> <td>   -0.436</td> <td>    0.269</td>\n",
       "</tr>\n",
       "<tr>\n",
       "  <th>x11</th>   <td>   -0.0096</td> <td>    0.004</td> <td>   -2.625</td> <td> 0.009</td> <td>   -0.017</td> <td>   -0.002</td>\n",
       "</tr>\n",
       "<tr>\n",
       "  <th>x12</th>   <td>    0.2356</td> <td>    0.069</td> <td>    3.431</td> <td> 0.001</td> <td>    0.101</td> <td>    0.371</td>\n",
       "</tr>\n",
       "</table>\n",
       "<table class=\"simpletable\">\n",
       "<tr>\n",
       "  <th>Omnibus:</th>       <td>685.174</td> <th>  Durbin-Watson:     </th> <td>   1.511</td> \n",
       "</tr>\n",
       "<tr>\n",
       "  <th>Prob(Omnibus):</th> <td> 0.000</td>  <th>  Jarque-Bera (JB):  </th> <td>97204.794</td>\n",
       "</tr>\n",
       "<tr>\n",
       "  <th>Skew:</th>          <td> 6.921</td>  <th>  Prob(JB):          </th> <td>    0.00</td> \n",
       "</tr>\n",
       "<tr>\n",
       "  <th>Kurtosis:</th>      <td>69.475</td>  <th>  Cond. No.          </th> <td>1.51e+04</td> \n",
       "</tr>\n",
       "</table><br/><br/>Warnings:<br/>[1] Standard Errors assume that the covariance matrix of the errors is correctly specified.<br/>[2] The condition number is large, 1.51e+04. This might indicate that there are<br/>strong multicollinearity or other numerical problems."
      ],
      "text/plain": [
       "<class 'statsmodels.iolib.summary.Summary'>\n",
       "\"\"\"\n",
       "                            OLS Regression Results                            \n",
       "==============================================================================\n",
       "Dep. Variable:                      y   R-squared:                       0.442\n",
       "Model:                            OLS   Adj. R-squared:                  0.428\n",
       "Method:                 Least Squares   F-statistic:                     32.55\n",
       "Date:                Sat, 18 Apr 2020   Prob (F-statistic):           4.84e-55\n",
       "Time:                        18:28:12   Log-Likelihood:                -1658.8\n",
       "No. Observations:                 506   AIC:                             3344.\n",
       "Df Residuals:                     493   BIC:                             3398.\n",
       "Df Model:                          12                                         \n",
       "Covariance Type:            nonrobust                                         \n",
       "==============================================================================\n",
       "                 coef    std err          t      P>|t|      [0.025      0.975]\n",
       "------------------------------------------------------------------------------\n",
       "const          9.9967      6.979      1.432      0.153      -3.716      23.709\n",
       "x1             0.0364      0.019      1.943      0.053      -0.000       0.073\n",
       "x2            -0.0694      0.084     -0.825      0.410      -0.235       0.096\n",
       "x3            -1.3117      1.179     -1.112      0.267      -3.629       1.005\n",
       "x4            -6.9288      5.225     -1.326      0.185     -17.195       3.338\n",
       "x5            -0.3348      0.573     -0.585      0.559      -1.460       0.790\n",
       "x6             0.0013      0.018      0.074      0.941      -0.034       0.037\n",
       "x7            -0.7089      0.271     -2.612      0.009      -1.242      -0.176\n",
       "x8             0.5389      0.088      6.151      0.000       0.367       0.711\n",
       "x9            -0.0014      0.005     -0.263      0.793      -0.011       0.009\n",
       "x10           -0.0834      0.179     -0.465      0.642      -0.436       0.269\n",
       "x11           -0.0096      0.004     -2.625      0.009      -0.017      -0.002\n",
       "x12            0.2356      0.069      3.431      0.001       0.101       0.371\n",
       "==============================================================================\n",
       "Omnibus:                      685.174   Durbin-Watson:                   1.511\n",
       "Prob(Omnibus):                  0.000   Jarque-Bera (JB):            97204.794\n",
       "Skew:                           6.921   Prob(JB):                         0.00\n",
       "Kurtosis:                      69.475   Cond. No.                     1.51e+04\n",
       "==============================================================================\n",
       "\n",
       "Warnings:\n",
       "[1] Standard Errors assume that the covariance matrix of the errors is correctly specified.\n",
       "[2] The condition number is large, 1.51e+04. This might indicate that there are\n",
       "strong multicollinearity or other numerical problems.\n",
       "\"\"\""
      ]
     },
     "execution_count": 83,
     "metadata": {},
     "output_type": "execute_result"
    }
   ],
   "source": [
    "import statsmodels.api as sm\n",
    "\n",
    "X_with_const=sm.add_constant(X)\n",
    "model=sm.OLS(endog=y,exog=X_with_const)\n",
    "results=model.fit()\n",
    "results.summary()"
   ]
  },
  {
   "cell_type": "code",
   "execution_count": 86,
   "metadata": {},
   "outputs": [
    {
     "data": {
      "text/plain": [
       "array([0, 0, 0, 0, 0, 0, 0, 0, 0, 0, 0, 0, 0, 1, 1, 1, 1, 1, 1, 1, 1, 1,\n",
       "       1, 1, 1, 1, 1, 1, 1, 1, 1, 1, 1, 1, 1, 0, 0, 0, 0, 0, 0, 0, 0, 0,\n",
       "       0, 0, 0, 0, 0, 0, 0, 0, 0, 0, 0, 0, 0, 0, 0, 0, 0, 0, 0, 0, 0, 0,\n",
       "       0, 0, 0, 0, 0, 0, 0, 0, 0, 0, 0, 0, 0, 0, 0, 0, 0, 0, 0, 0, 0, 0,\n",
       "       0, 0, 0, 0, 0, 0, 0, 0, 0, 0, 0, 0, 0, 0, 0, 0, 0, 0, 0, 0, 0, 1,\n",
       "       0, 0, 0, 0, 0, 0, 0, 0, 0, 0, 0, 0, 0, 0, 0, 0, 1, 1, 1, 1, 1, 1,\n",
       "       1, 1, 1, 1, 1, 1, 0, 1, 1, 1, 1, 1, 1, 1, 1, 1, 1, 1, 1, 1, 1, 1,\n",
       "       1, 1, 1, 1, 1, 1, 1, 1, 1, 1, 1, 1, 1, 1, 1, 1, 1, 1, 0, 0, 0, 0,\n",
       "       0, 0, 0, 0, 0, 0, 0, 0, 0, 0, 0, 0, 0, 0, 0, 0, 0, 0, 0, 0, 0, 0,\n",
       "       0, 0, 0, 0, 0, 0, 0, 0, 0, 0, 0, 1, 0, 1, 0, 0, 1, 0, 0, 0, 0, 0,\n",
       "       1, 1, 1, 1, 1, 1, 1, 1, 1, 1, 1, 1, 1, 1, 1, 1, 1, 1, 0, 0, 0, 0,\n",
       "       0, 0, 0, 0, 1, 0, 0, 0, 0, 0, 0, 1, 0, 0, 0, 1, 1, 1, 1, 1, 1, 1,\n",
       "       1, 1, 1, 1, 1, 0, 1, 0, 0, 0, 0, 0, 0, 0, 0, 0, 0, 0, 0, 0, 0, 0,\n",
       "       0, 0, 0, 0, 0, 0, 0, 0, 0, 0, 0, 0, 0, 0, 0, 0, 0, 0, 0, 0, 0, 0,\n",
       "       1, 1, 1, 1, 1, 1, 1, 0, 1, 0, 1, 1, 0, 0, 1, 1, 1, 0, 1, 0, 0, 0,\n",
       "       0, 0, 0, 0, 0, 0, 0, 0, 0, 0, 0, 0, 0, 0, 0, 0, 0, 0, 0, 0, 0, 0,\n",
       "       0, 0, 0, 0, 1, 1, 1, 1, 1, 1, 1, 1, 1, 1, 1, 1, 1, 1, 1, 1, 1, 1,\n",
       "       1, 1, 1, 1, 1, 1, 1, 1, 1, 1, 1, 1, 1, 1, 1, 1, 1, 1, 1, 1, 1, 1,\n",
       "       1, 1, 1, 1, 1, 1, 1, 1, 1, 1, 1, 1, 1, 1, 1, 1, 1, 1, 1, 1, 1, 1,\n",
       "       1, 1, 1, 1, 1, 1, 1, 1, 1, 1, 1, 1, 1, 1, 1, 1, 1, 1, 1, 1, 1, 1,\n",
       "       1, 1, 1, 1, 1, 1, 1, 1, 1, 1, 1, 1, 1, 1, 1, 1, 1, 1, 1, 1, 1, 1,\n",
       "       1, 1, 1, 1, 1, 1, 1, 1, 1, 1, 1, 1, 1, 1, 1, 1, 1, 1, 1, 1, 1, 1,\n",
       "       1, 1, 1, 1, 0, 0, 0, 0, 0, 0, 1, 0, 1, 1, 0, 0, 0, 0, 0, 0, 0, 0])"
      ]
     },
     "execution_count": 86,
     "metadata": {},
     "output_type": "execute_result"
    }
   ],
   "source": [
    "pred=[]\n",
    "for x in Boston['CRIM']:\n",
    "    if x>median(Boston['CRIM']):\n",
    "        pred.append(1)\n",
    "    else:\n",
    "        pred.append(0)\n",
    "pred=np.array(pred)\n",
    "pred"
   ]
  },
  {
   "cell_type": "code",
   "execution_count": 87,
   "metadata": {},
   "outputs": [
    {
     "name": "stdout",
     "output_type": "stream",
     "text": [
      "Cross-validation scores (3-fold): [ 0.24899131  0.10353542 -2.26230545]\n",
      "Mean cross-validation score (3-fold): -0.637\n"
     ]
    }
   ],
   "source": [
    "X = pd.DataFrame(np.c_[Boston['ZN'],Boston['INDUS'],Boston['CHAS'],Boston['NOX'],Boston['RM'],Boston['AGE'],Boston['DIS'],Boston['RAD'],Boston['TAX'],Boston['PTRATIO'],Boston['B'],Boston['LSTAT']], columns = ['ZN','INDUS','CHAS','NOX','RM','AGE','DIS','RAD','TAX','PTRATIO','B','LSTAT'])\n",
    "Y = Boston['CRIM']\n",
    "linreg = LinearRegression()\n",
    "linreg.fit(X,Y)\n",
    "y_values=list(linreg.coef_)\n",
    "y_values\n",
    "cv_scores = cross_val_score(linreg, X, pred,cv=3)    \n",
    "print('Cross-validation scores (3-fold):', cv_scores)\n",
    "print('Mean cross-validation score (3-fold): {:.3f}'.format(np.mean(cv_scores)))"
   ]
  },
  {
   "cell_type": "code",
   "execution_count": 88,
   "metadata": {},
   "outputs": [
    {
     "data": {
      "text/plain": [
       "[-0.07393497740412351,\n",
       " 0.5097763311042315,\n",
       " -1.8927765508037606,\n",
       " 31.248531201122912,\n",
       " -2.684051224113947,\n",
       " 0.10778622713953306,\n",
       " -1.5509016824100992,\n",
       " 0.6179109273272013,\n",
       " 0.02974225282276536,\n",
       " 1.1519827870705859,\n",
       " -0.03627964056733074,\n",
       " 0.548804782062398]"
      ]
     },
     "execution_count": 88,
     "metadata": {},
     "output_type": "execute_result"
    }
   ],
   "source": [
    "x_values=[linreg1.coef_[0],linreg2.coef_[0],linreg3.coef_[0],linreg4.coef_[0],linreg5.coef_[0],linreg6.coef_[0],linreg7.coef_[0],linreg8.coef_[0],linreg9.coef_[0],linreg10.coef_[0],linreg11.coef_[0],linreg12.coef_[0]]\n",
    "x_values"
   ]
  },
  {
   "cell_type": "code",
   "execution_count": 89,
   "metadata": {},
   "outputs": [
    {
     "data": {
      "text/plain": [
       "<matplotlib.collections.PathCollection at 0x23bedbb96d8>"
      ]
     },
     "execution_count": 89,
     "metadata": {},
     "output_type": "execute_result"
    },
    {
     "data": {
      "image/png": "[encoded data removed]",
      "text/plain": [
       "<Figure size 432x288 with 1 Axes>"
      ]
     },
     "metadata": {
      "needs_background": "light"
     },
     "output_type": "display_data"
    }
   ],
   "source": [
    "plt.xlabel('Univariate Coeff') \n",
    "plt.ylabel('Multivariate Coeff')\n",
    "plt.scatter(x_values,y_values)"
   ]
  },
  {
   "cell_type": "code",
   "execution_count": 90,
   "metadata": {},
   "outputs": [
    {
     "name": "stdout",
     "output_type": "stream",
     "text": [
      "Crime dataset\n",
      "ridge regression linear model intercept: 3.6135235573122593\n",
      "ridge regression linear model coeff:\n",
      "[ 0.71370374 -0.54992707 -0.30190768 -0.53642064 -0.17559348  0.05488359\n",
      " -1.25370474  3.81695983  0.5182404  -0.0777326  -0.89464956  1.57101183]\n",
      "R-squared score: 0.440\n",
      "Number of non-zero features: 12\n"
     ]
    }
   ],
   "source": [
    "from sklearn.preprocessing import MinMaxScaler\n",
    "from sklearn.preprocessing import StandardScaler\n",
    "scaler = StandardScaler()\n",
    "X_scaled = scaler.fit_transform(X)\n",
    "linridge = Ridge(alpha=20.0).fit(X_scaled, Y)\n",
    "print('Crime dataset')\n",
    "print('ridge regression linear model intercept: {}'\n",
    "     .format(linridge.intercept_))\n",
    "print('ridge regression linear model coeff:\\n{}'\n",
    "     .format(linridge.coef_))\n",
    "print('R-squared score: {:.3f}'\n",
    "     .format(linridge.score(X_scaled, Y)))\n",
    "print('Number of non-zero features: {}'\n",
    "     .format(np.sum(linridge.coef_ != 0)))"
   ]
  },
  {
   "cell_type": "code",
   "execution_count": 91,
   "metadata": {},
   "outputs": [
    {
     "data": {
      "text/plain": [
       "(506, 12)"
      ]
     },
     "execution_count": 91,
     "metadata": {},
     "output_type": "execute_result"
    }
   ],
   "source": [
    "X_scaled.shape"
   ]
  },
  {
   "cell_type": "code",
   "execution_count": 92,
   "metadata": {},
   "outputs": [
    {
     "name": "stdout",
     "output_type": "stream",
     "text": [
      "Ridge regression: effect of alpha regularization parameter\n",
      "\n",
      "Alpha = 0.00\n",
      "num abs(coeff) > 1.0: 3, \r",
      "-squared: 0.442\n",
      "Cross-validation scores (3-fold): [ 0.24899131  0.10353542 -2.26230545]\n",
      "Mean cross-validation score (3-fold): -0.637\n",
      "Alpha = 1.00\n",
      "num abs(coeff) > 1.0: 3, \r",
      "-squared: 0.442\n",
      "Cross-validation scores (3-fold): [ 0.18997608  0.12462615 -3.1083706 ]\n",
      "Mean cross-validation score (3-fold): -0.931\n",
      "Alpha = 10.00\n",
      "num abs(coeff) > 1.0: 3, \r",
      "-squared: 0.441\n",
      "Cross-validation scores (3-fold): [ 0.14495719  0.14325884 -3.7986975 ]\n",
      "Mean cross-validation score (3-fold): -1.170\n",
      "Alpha = 20.00\n",
      "num abs(coeff) > 1.0: 3, \r",
      "-squared: 0.440\n",
      "Cross-validation scores (3-fold): [ 0.14139577  0.15241921 -3.76807064]\n",
      "Mean cross-validation score (3-fold): -1.158\n",
      "Alpha = 50.00\n",
      "num abs(coeff) > 1.0: 3, \r",
      "-squared: 0.436\n",
      "Cross-validation scores (3-fold): [ 0.14197445  0.16417435 -3.48580496]\n",
      "Mean cross-validation score (3-fold): -1.060\n",
      "Alpha = 100.00\n",
      "num abs(coeff) > 1.0: 3, \r",
      "-squared: 0.428\n",
      "Cross-validation scores (3-fold): [ 0.14702469  0.17203769 -3.0134627 ]\n",
      "Mean cross-validation score (3-fold): -0.898\n",
      "Alpha = 1000.00\n",
      "num abs(coeff) > 1.0: 1, \r",
      "-squared: 0.349\n",
      "Cross-validation scores (3-fold): [ 0.20815269  0.18755651 -0.42595199]\n",
      "Mean cross-validation score (3-fold): -0.010\n"
     ]
    }
   ],
   "source": [
    "print('Ridge regression: effect of alpha regularization parameter\\n')\n",
    "for this_alpha in [0, 1, 10, 20, 50, 100, 1000]:\n",
    "    linridge = Ridge(alpha = this_alpha).fit(X_scaled, Y)\n",
    "    r2 = linridge.score(X_scaled, Y)\n",
    "    num_coeff_bigger = np.sum(abs(linridge.coef_) > 1.0)\n",
    "    print('Alpha = {:.2f}\\nnum abs(coeff) > 1.0: {}, \\r-squared: {:.3f}'\n",
    "         .format(this_alpha, num_coeff_bigger, r2))\n",
    "    cv_scores = cross_val_score(linridge, X, pred,cv=3)    \n",
    "    print('Cross-validation scores (3-fold):', cv_scores)\n",
    "    print('Mean cross-validation score (3-fold): {:.3f}'.format(np.mean(cv_scores)))"
   ]
  },
  {
   "cell_type": "code",
   "execution_count": 94,
   "metadata": {},
   "outputs": [
    {
     "name": "stdout",
     "output_type": "stream",
     "text": [
      "Crime dataset\n",
      "lasso regression linear model intercept: 3.613523557312254\n",
      "lasso regression linear model coeff:\n",
      "[-0.          0.         -0.          0.         -0.          0.\n",
      " -0.          3.20435264  0.          0.         -0.          0.34928291]\n",
      "Non-zero features: 2\n",
      "R-squared score: 0.348\n",
      "Features with non-zero weight (sorted by absolute magnitude):\n"
     ]
    }
   ],
   "source": [
    "linlasso = Lasso(alpha=2.0, max_iter = 10000).fit(X_scaled, Y)\n",
    "print('Crime dataset')\n",
    "print('lasso regression linear model intercept: {}'\n",
    "     .format(linlasso.intercept_))\n",
    "print('lasso regression linear model coeff:\\n{}'\n",
    "     .format(linlasso.coef_))\n",
    "print('Non-zero features: {}'\n",
    "     .format(np.sum(linlasso.coef_ != 0)))\n",
    "print('R-squared score: {:.3f}'\n",
    "     .format(linlasso.score(X_scaled, Y)))\n",
    "print('Features with non-zero weight (sorted by absolute magnitude):')"
   ]
  },
  {
   "cell_type": "code",
   "execution_count": 95,
   "metadata": {},
   "outputs": [
    {
     "name": "stdout",
     "output_type": "stream",
     "text": [
      "Lasso regression: effect of alpha regularization\n",
      "parameter on number of features kept in final model\n",
      "\n",
      "Alpha = 0.10\n",
      "Features kept: 8, r-squared: 0.438\n",
      "\n",
      "Cross-validation scores (3-fold): [0.23662752 0.18760789 0.31250794]\n",
      "Mean cross-validation score (3-fold): 0.246\n",
      "Alpha = 0.50\n",
      "Features kept: 3, r-squared: 0.423\n",
      "\n",
      "Cross-validation scores (3-fold): [0.33882575 0.17217251 0.3528975 ]\n",
      "Mean cross-validation score (3-fold): 0.288\n",
      "Alpha = 1.00\n",
      "Features kept: 3, r-squared: 0.407\n",
      "\n",
      "Cross-validation scores (3-fold): [0.33145902 0.15879609 0.44946575]\n",
      "Mean cross-validation score (3-fold): 0.313\n",
      "Alpha = 2.00\n",
      "Features kept: 2, r-squared: 0.348\n",
      "\n",
      "Cross-validation scores (3-fold): [0.29823786 0.12396299 0.56569459]\n",
      "Mean cross-validation score (3-fold): 0.329\n",
      "Alpha = 3.00\n",
      "Features kept: 1, r-squared: 0.269\n",
      "\n",
      "Cross-validation scores (3-fold): [0.23961121 0.05611321 0.59017112]\n",
      "Mean cross-validation score (3-fold): 0.295\n",
      "Alpha = 5.00\n",
      "Features kept: 1, r-squared: 0.053\n",
      "\n",
      "Cross-validation scores (3-fold): [ 1.67350973e-01 -4.59233270e-05  3.94192426e-01]\n",
      "Mean cross-validation score (3-fold): 0.187\n",
      "Alpha = 10.00\n",
      "Features kept: 0, r-squared: 0.000\n",
      "\n",
      "Cross-validation scores (3-fold): [ 0.15851731  0.0065587  -1.08236753]\n",
      "Mean cross-validation score (3-fold): -0.306\n",
      "Alpha = 20.00\n",
      "Features kept: 0, r-squared: 0.000\n",
      "\n",
      "Cross-validation scores (3-fold): [ 0.13091854 -0.00293746 -1.30845948]\n",
      "Mean cross-validation score (3-fold): -0.393\n",
      "Alpha = 50.00\n",
      "Features kept: 0, r-squared: 0.000\n",
      "\n",
      "Cross-validation scores (3-fold): [-0.03132924 -0.23445559 -1.30845948]\n",
      "Mean cross-validation score (3-fold): -0.525\n"
     ]
    }
   ],
   "source": [
    "print('Lasso regression: effect of alpha regularization\\n\\\n",
    "parameter on number of features kept in final model\\n')\n",
    "\n",
    "for alpha in [0.1, 0.5, 1, 2, 3, 5, 10, 20, 50]:\n",
    "    linlasso = Lasso(alpha, max_iter = 10000).fit(X_scaled, Y)\n",
    "    r2 = linlasso.score(X_scaled, Y)\n",
    "    print('Alpha = {:.2f}\\nFeatures kept: {}, r-squared: {:.3f}\\n'\n",
    "         .format(alpha, np.sum(linlasso.coef_ != 0), r2))\n",
    "    cv_scores = cross_val_score(linlasso, X, pred,cv=3)    \n",
    "    print('Cross-validation scores (3-fold):', cv_scores)\n",
    "    print('Mean cross-validation score (3-fold): {:.3f}'.format(np.mean(cv_scores)))   "
   ]
  },
  {
   "cell_type": "code",
   "execution_count": 96,
   "metadata": {},
   "outputs": [
    {
     "name": "stdout",
     "output_type": "stream",
     "text": [
      "Median of CRIME is 0.25651\n"
     ]
    }
   ],
   "source": [
    "print(\"Median of CRIME is % s\" % (median(Boston['CRIM'])))"
   ]
  },
  {
   "cell_type": "code",
   "execution_count": 97,
   "metadata": {},
   "outputs": [
    {
     "name": "stdout",
     "output_type": "stream",
     "text": [
      "Accuracy of Logistic regression classifier: 0.85\n"
     ]
    },
    {
     "name": "stderr",
     "output_type": "stream",
     "text": [
      "C:\\Users\\Dell\\Anaconda3\\lib\\site-packages\\sklearn\\linear_model\\logistic.py:947: ConvergenceWarning: lbfgs failed to converge. Increase the number of iterations.\n",
      "  \"of iterations.\", ConvergenceWarning)\n"
     ]
    }
   ],
   "source": [
    "from sklearn.linear_model import LogisticRegression\n",
    "\n",
    "\n",
    "clf = LogisticRegression(solver='lbfgs').fit(X, pred)\n",
    "title = 'Logistic regression, simple synthetic dataset C = {:.3f}'.format(1.0)\n",
    "\n",
    "print('Accuracy of Logistic regression classifier: {:.2f}'\n",
    "     .format(clf.score(X, pred)))"
   ]
  },
  {
   "cell_type": "code",
   "execution_count": 98,
   "metadata": {},
   "outputs": [
    {
     "name": "stdout",
     "output_type": "stream",
     "text": [
      "Cross-validation scores (3-fold): [0.64117647 0.73214286 0.93452381]\n",
      "Mean cross-validation score (3-fold): 0.769\n",
      "Boston Crime\n",
      "Accuracy of Logistic regression classifier: 0.854\n"
     ]
    },
    {
     "name": "stderr",
     "output_type": "stream",
     "text": [
      "C:\\Users\\Dell\\Anaconda3\\lib\\site-packages\\sklearn\\linear_model\\logistic.py:947: ConvergenceWarning: lbfgs failed to converge. Increase the number of iterations.\n",
      "  \"of iterations.\", ConvergenceWarning)\n",
      "C:\\Users\\Dell\\Anaconda3\\lib\\site-packages\\sklearn\\linear_model\\logistic.py:947: ConvergenceWarning: lbfgs failed to converge. Increase the number of iterations.\n",
      "  \"of iterations.\", ConvergenceWarning)\n",
      "C:\\Users\\Dell\\Anaconda3\\lib\\site-packages\\sklearn\\linear_model\\logistic.py:947: ConvergenceWarning: lbfgs failed to converge. Increase the number of iterations.\n",
      "  \"of iterations.\", ConvergenceWarning)\n",
      "C:\\Users\\Dell\\Anaconda3\\lib\\site-packages\\sklearn\\linear_model\\logistic.py:947: ConvergenceWarning: lbfgs failed to converge. Increase the number of iterations.\n",
      "  \"of iterations.\", ConvergenceWarning)\n"
     ]
    }
   ],
   "source": [
    "clf = LogisticRegression(solver='lbfgs').fit(X, pred)\n",
    "cv_scores = cross_val_score(clf, X, pred,cv=3)\n",
    "\n",
    "print('Cross-validation scores (3-fold):', cv_scores)\n",
    "print('Mean cross-validation score (3-fold): {:.3f}'\n",
    "     .format(np.mean(cv_scores)))\n",
    "print('Boston Crime')\n",
    "print('Accuracy of Logistic regression classifier: {:.3f}'\n",
    "     .format(clf.score(X, pred)))"
   ]
  },
  {
   "cell_type": "code",
   "execution_count": 99,
   "metadata": {},
   "outputs": [
    {
     "name": "stdout",
     "output_type": "stream",
     "text": [
      "R-squared test score: 0.847\n"
     ]
    }
   ],
   "source": [
    "from sklearn.neighbors import KNeighborsRegressor\n",
    "\n",
    "knnreg = KNeighborsRegressor(n_neighbors = 5).fit(X, pred)\n",
    "\n",
    "print('R-squared test score: {:.3f}'\n",
    "     .format(knnreg.score(X, pred)))"
   ]
  },
  {
   "cell_type": "code",
   "execution_count": 100,
   "metadata": {},
   "outputs": [
    {
     "name": "stdout",
     "output_type": "stream",
     "text": [
      "Cross-validation scores (3-fold): [0.62352941 0.79166667 0.94047619]\n",
      "Mean cross-validation score (3-fold): 0.785\n"
     ]
    }
   ],
   "source": [
    "from sklearn.model_selection import cross_val_score\n",
    "from sklearn.neighbors import KNeighborsClassifier\n",
    "\n",
    "\n",
    "clf = KNeighborsClassifier(n_neighbors = 5)\n",
    "cv_scores = cross_val_score(clf, X, pred,cv=3)\n",
    "\n",
    "print('Cross-validation scores (3-fold):', cv_scores)\n",
    "print('Mean cross-validation score (3-fold): {:.3f}'\n",
    "     .format(np.mean(cv_scores)))"
   ]
  },
  {
   "cell_type": "code",
   "execution_count": 101,
   "metadata": {},
   "outputs": [
    {
     "name": "stdout",
     "output_type": "stream",
     "text": [
      "Boston Crime\n",
      "Accuracy of GaussianNB classifier on data set: 0.83\n",
      "Cross-validation scores (3-fold): [0.62352941 0.79166667 0.94047619]\n",
      "Mean cross-validation score (3-fold): 0.785\n"
     ]
    }
   ],
   "source": [
    "from sklearn.naive_bayes import GaussianNB\n",
    "nbclf = GaussianNB().fit(X, pred)\n",
    "print('Boston Crime')\n",
    "print('Accuracy of GaussianNB classifier on data set: {:.2f}'\n",
    "     .format(nbclf.score(X, pred)))\n",
    "cv_scores = cross_val_score(clf, X, pred,cv=3)\n",
    "\n",
    "print('Cross-validation scores (3-fold):', cv_scores)\n",
    "print('Mean cross-validation score (3-fold): {:.3f}'\n",
    "     .format(np.mean(cv_scores)))"
   ]
  },
  {
   "cell_type": "code",
   "execution_count": null,
   "metadata": {},
   "outputs": [],
   "source": []
  }
 ],
 "metadata": {
  "kernelspec": {
   "display_name": "Python 3",
   "language": "python",
   "name": "python3"
  },
  "language_info": {
   "codemirror_mode": {
    "name": "ipython",
    "version": 3
   },
   "file_extension": ".py",
   "mimetype": "text/x-python",
   "name": "python",
   "nbconvert_exporter": "python",
   "pygments_lexer": "ipython3",
   "version": "3.7.3"
  }
 },
 "nbformat": 4,
 "nbformat_minor": 2
}
